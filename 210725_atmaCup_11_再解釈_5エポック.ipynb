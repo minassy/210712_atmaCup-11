{
  "nbformat": 4,
  "nbformat_minor": 0,
  "metadata": {
    "colab": {
      "name": "210725_atmaCup#11_再解釈_5エポック.ipynb",
      "provenance": [],
      "collapsed_sections": [
        "E_ZhXGoJuM31"
      ],
      "mount_file_id": "1dfEfxhLsdCrsJPkbeLkZGhjTZlDLAzMz",
      "authorship_tag": "ABX9TyNOoq7MKy44/0ghwMFZB38P",
      "include_colab_link": true
    },
    "kernelspec": {
      "name": "python3",
      "display_name": "Python 3"
    },
    "language_info": {
      "name": "python"
    },
    "accelerator": "GPU"
  },
  "cells": [
    {
      "cell_type": "markdown",
      "metadata": {
        "id": "view-in-github",
        "colab_type": "text"
      },
      "source": [
        "<a href=\"https://colab.research.google.com/github/minassy/210712_atmaCup-11/blob/main/210725_atmaCup_11_%E5%86%8D%E8%A7%A3%E9%87%88_5%E3%82%A8%E3%83%9D%E3%83%83%E3%82%AF.ipynb\" target=\"_parent\"><img src=\"https://colab.research.google.com/assets/colab-badge.svg\" alt=\"Open In Colab\"/></a>"
      ]
    },
    {
      "cell_type": "markdown",
      "metadata": {
        "id": "QPZA1lN5t_Tc"
      },
      "source": [
        "# データ準備"
      ]
    },
    {
      "cell_type": "code",
      "metadata": {
        "id": "9C3e8cOnuBk5"
      },
      "source": [
        "import os\n",
        "import zipfile"
      ],
      "execution_count": 1,
      "outputs": []
    },
    {
      "cell_type": "code",
      "metadata": {
        "id": "blydPpDLuHb_",
        "colab": {
          "base_uri": "https://localhost:8080/"
        },
        "outputId": "63c2b161-c89b-4e82-9590-441ab88772c6"
      },
      "source": [
        "#作業基本ディレクトリ\n",
        "DIR = 'drive/MyDrive/Competition/atmaCup_11'\n",
        "os.listdir(DIR)\n",
        "#os.mkdir(DIR+'/data')"
      ],
      "execution_count": 2,
      "outputs": [
        {
          "output_type": "execute_result",
          "data": {
            "text/plain": [
              "['data']"
            ]
          },
          "metadata": {
            "tags": []
          },
          "execution_count": 2
        }
      ]
    },
    {
      "cell_type": "code",
      "metadata": {
        "id": "pjzlBEwh0Dr-"
      },
      "source": [
        "#データセットの解凍\n",
        "#TARGET_PATH = 'drive/MyDrive/Competition/atmaCup_11/data/dataset_atmaCup11.zip'\n",
        "#OUT_PATH = 'drive/MyDrive/Competition/atmaCup_11/data'\n",
        "#with zipfile.ZipFile(TARGET_PATH, 'r') as f: \n",
        "#  f.extractall(path=OUT_PATH)"
      ],
      "execution_count": 3,
      "outputs": []
    },
    {
      "cell_type": "code",
      "metadata": {
        "id": "Ls1BndJk6uBt"
      },
      "source": [
        "#os.listdir(DIR+'/data')"
      ],
      "execution_count": 4,
      "outputs": []
    },
    {
      "cell_type": "code",
      "metadata": {
        "id": "MUfQk9OT7q1P"
      },
      "source": [
        "#os.mkdir(DIR + '/data/photos')"
      ],
      "execution_count": 5,
      "outputs": []
    },
    {
      "cell_type": "code",
      "metadata": {
        "id": "h-Kjh1_3uJ5d"
      },
      "source": [
        "#photos.zipの解凍\n",
        "#TARGET_PATH = 'drive/MyDrive/Competition/atmaCup_11/data/photos.zip'\n",
        "#OUT_PATH = 'drive/MyDrive/Competition/atmaCup_11/data/photos'\n",
        "#with zipfile.ZipFile(TARGET_PATH, 'r') as f: \n",
        "#  f.extractall(path=OUT_PATH)"
      ],
      "execution_count": 6,
      "outputs": []
    },
    {
      "cell_type": "code",
      "metadata": {
        "colab": {
          "base_uri": "https://localhost:8080/"
        },
        "id": "NNzfSK-k0icx",
        "outputId": "995490b7-e4ca-457d-a550-0f57cf9e1015"
      },
      "source": [
        "#ディレクトリ構造\n",
        "print('基本：', DIR)\n",
        "print('データ：' , DIR+'/data')\n",
        "print('画像データ' , DIR+'/data/photos')"
      ],
      "execution_count": 7,
      "outputs": [
        {
          "output_type": "stream",
          "text": [
            "基本： drive/MyDrive/Competition/atmaCup_11\n",
            "データ： drive/MyDrive/Competition/atmaCup_11/data\n",
            "画像データ drive/MyDrive/Competition/atmaCup_11/data/photos\n"
          ],
          "name": "stdout"
        }
      ]
    },
    {
      "cell_type": "markdown",
      "metadata": {
        "id": "E_ZhXGoJuM31"
      },
      "source": [
        "# データの読み込み"
      ]
    },
    {
      "cell_type": "code",
      "metadata": {
        "id": "n7kXlbFD-0ku"
      },
      "source": [
        "import pandas as pd\n",
        "import numpy as np\n",
        "from glob import glob\n",
        "\n",
        "import matplotlib.pyplot as plt\n",
        "from matplotlib_venn import venn2\n",
        "import seaborn as sns"
      ],
      "execution_count": 8,
      "outputs": []
    },
    {
      "cell_type": "markdown",
      "metadata": {
        "id": "na5k06VZ_QO2"
      },
      "source": [
        "テーブルデータの確認"
      ]
    },
    {
      "cell_type": "code",
      "metadata": {
        "colab": {
          "base_uri": "https://localhost:8080/"
        },
        "id": "T29JNrcZ_pgT",
        "outputId": "bed4f656-fb2a-4c33-8353-16783b2a3a10"
      },
      "source": [
        "os.listdir(DIR+'/data')"
      ],
      "execution_count": 9,
      "outputs": [
        {
          "output_type": "execute_result",
          "data": {
            "text/plain": [
              "['dataset_atmaCup11.zip',\n",
              " 'atmaCup#11_sample_submission.csv',\n",
              " 'materials.csv',\n",
              " 'photos.zip',\n",
              " 'techniques.csv',\n",
              " 'test.csv',\n",
              " 'train.csv',\n",
              " 'photos',\n",
              " 'outputs_tutorial#1']"
            ]
          },
          "metadata": {
            "tags": []
          },
          "execution_count": 9
        }
      ]
    },
    {
      "cell_type": "code",
      "metadata": {
        "id": "MPz6gVAB_IOu"
      },
      "source": [
        "DIR_DATA = DIR+ '/data'\n",
        "train_df = pd.read_csv(DIR_DATA+ '/train.csv')\n",
        "test_df = pd.read_csv(DIR_DATA+ '/test.csv')\n",
        "material_df = pd.read_csv(DIR_DATA+ '/materials.csv')\n",
        "technique_df = pd.read_csv(DIR_DATA+ '/techniques.csv')"
      ],
      "execution_count": 10,
      "outputs": []
    },
    {
      "cell_type": "markdown",
      "metadata": {
        "id": "lcwkQppybACY"
      },
      "source": [
        "# データ理解(tabular)"
      ]
    },
    {
      "cell_type": "code",
      "metadata": {
        "id": "V7OZMT2XA1Vi"
      },
      "source": [
        "from matplotlib_venn import venn2"
      ],
      "execution_count": 11,
      "outputs": []
    },
    {
      "cell_type": "code",
      "metadata": {
        "id": "fU0lbajz_iLB"
      },
      "source": [
        "#学習データ、テストデータ、マテリアル、テクニック\n",
        "Dataframe = technique_df\n",
        "#Dataframe.shape\n",
        "#Dataframe.columns\n",
        "#Dataframe.head()\n",
        "#Dataframe.info()\n",
        "#Dataframe.isnull().sum()"
      ],
      "execution_count": 12,
      "outputs": []
    },
    {
      "cell_type": "markdown",
      "metadata": {
        "id": "BZe3iFeKJDhZ"
      },
      "source": [
        "# 画像データを使用したモデルの作成"
      ]
    },
    {
      "cell_type": "code",
      "metadata": {
        "id": "Xtb-zVhVp9zF",
        "colab": {
          "base_uri": "https://localhost:8080/"
        },
        "outputId": "58c30bf7-0ce3-46a9-83e3-1f07c49a8c07"
      },
      "source": [
        "!pip install ipyplot\n",
        "!pip install python-vivid"
      ],
      "execution_count": 20,
      "outputs": [
        {
          "output_type": "stream",
          "text": [
            "Collecting ipyplot\n",
            "  Downloading ipyplot-1.1.0-py3-none-any.whl (13 kB)\n",
            "Requirement already satisfied: numpy in /usr/local/lib/python3.7/dist-packages (from ipyplot) (1.19.5)\n",
            "Requirement already satisfied: pillow in /usr/local/lib/python3.7/dist-packages (from ipyplot) (7.1.2)\n",
            "Requirement already satisfied: IPython in /usr/local/lib/python3.7/dist-packages (from ipyplot) (5.5.0)\n",
            "Collecting shortuuid\n",
            "  Downloading shortuuid-1.0.1-py3-none-any.whl (7.5 kB)\n",
            "Requirement already satisfied: decorator in /usr/local/lib/python3.7/dist-packages (from IPython->ipyplot) (4.4.2)\n",
            "Requirement already satisfied: pickleshare in /usr/local/lib/python3.7/dist-packages (from IPython->ipyplot) (0.7.5)\n",
            "Requirement already satisfied: setuptools>=18.5 in /usr/local/lib/python3.7/dist-packages (from IPython->ipyplot) (57.2.0)\n",
            "Requirement already satisfied: pygments in /usr/local/lib/python3.7/dist-packages (from IPython->ipyplot) (2.6.1)\n",
            "Requirement already satisfied: pexpect in /usr/local/lib/python3.7/dist-packages (from IPython->ipyplot) (4.8.0)\n",
            "Requirement already satisfied: traitlets>=4.2 in /usr/local/lib/python3.7/dist-packages (from IPython->ipyplot) (5.0.5)\n",
            "Requirement already satisfied: simplegeneric>0.8 in /usr/local/lib/python3.7/dist-packages (from IPython->ipyplot) (0.8.1)\n",
            "Requirement already satisfied: prompt-toolkit<2.0.0,>=1.0.4 in /usr/local/lib/python3.7/dist-packages (from IPython->ipyplot) (1.0.18)\n",
            "Requirement already satisfied: wcwidth in /usr/local/lib/python3.7/dist-packages (from prompt-toolkit<2.0.0,>=1.0.4->IPython->ipyplot) (0.2.5)\n",
            "Requirement already satisfied: six>=1.9.0 in /usr/local/lib/python3.7/dist-packages (from prompt-toolkit<2.0.0,>=1.0.4->IPython->ipyplot) (1.15.0)\n",
            "Requirement already satisfied: ipython-genutils in /usr/local/lib/python3.7/dist-packages (from traitlets>=4.2->IPython->ipyplot) (0.2.0)\n",
            "Requirement already satisfied: ptyprocess>=0.5 in /usr/local/lib/python3.7/dist-packages (from pexpect->IPython->ipyplot) (0.7.0)\n",
            "Installing collected packages: shortuuid, ipyplot\n",
            "Successfully installed ipyplot-1.1.0 shortuuid-1.0.1\n",
            "Collecting python-vivid\n",
            "  Downloading python_vivid-0.3.3.4-py3-none-any.whl (76 kB)\n",
            "\u001b[K     |████████████████████████████████| 76 kB 2.6 MB/s \n",
            "\u001b[?25hRequirement already satisfied: scikit-learn in /usr/local/lib/python3.7/dist-packages (from python-vivid) (0.22.2.post1)\n",
            "Requirement already satisfied: tqdm in /usr/local/lib/python3.7/dist-packages (from python-vivid) (4.41.1)\n",
            "Requirement already satisfied: scipy in /usr/local/lib/python3.7/dist-packages (from python-vivid) (1.4.1)\n",
            "Requirement already satisfied: networkx in /usr/local/lib/python3.7/dist-packages (from python-vivid) (2.5.1)\n",
            "Requirement already satisfied: xgboost in /usr/local/lib/python3.7/dist-packages (from python-vivid) (0.90)\n",
            "Requirement already satisfied: numpy in /usr/local/lib/python3.7/dist-packages (from python-vivid) (1.19.5)\n",
            "Requirement already satisfied: pandas in /usr/local/lib/python3.7/dist-packages (from python-vivid) (1.1.5)\n",
            "Requirement already satisfied: lightgbm in /usr/local/lib/python3.7/dist-packages (from python-vivid) (2.2.3)\n",
            "Requirement already satisfied: tabulate in /usr/local/lib/python3.7/dist-packages (from python-vivid) (0.8.9)\n",
            "Requirement already satisfied: joblib in /usr/local/lib/python3.7/dist-packages (from python-vivid) (1.0.1)\n",
            "Requirement already satisfied: feather-format in /usr/local/lib/python3.7/dist-packages (from python-vivid) (0.4.1)\n",
            "Requirement already satisfied: seaborn in /usr/local/lib/python3.7/dist-packages (from python-vivid) (0.11.1)\n",
            "Requirement already satisfied: matplotlib in /usr/local/lib/python3.7/dist-packages (from python-vivid) (3.2.2)\n",
            "Collecting optuna\n",
            "  Downloading optuna-2.8.0-py3-none-any.whl (301 kB)\n",
            "\u001b[K     |████████████████████████████████| 301 kB 14.5 MB/s \n",
            "\u001b[?25hRequirement already satisfied: pyarrow>=0.4.0 in /usr/local/lib/python3.7/dist-packages (from feather-format->python-vivid) (3.0.0)\n",
            "Requirement already satisfied: pyparsing!=2.0.4,!=2.1.2,!=2.1.6,>=2.0.1 in /usr/local/lib/python3.7/dist-packages (from matplotlib->python-vivid) (2.4.7)\n",
            "Requirement already satisfied: python-dateutil>=2.1 in /usr/local/lib/python3.7/dist-packages (from matplotlib->python-vivid) (2.8.1)\n",
            "Requirement already satisfied: kiwisolver>=1.0.1 in /usr/local/lib/python3.7/dist-packages (from matplotlib->python-vivid) (1.3.1)\n",
            "Requirement already satisfied: cycler>=0.10 in /usr/local/lib/python3.7/dist-packages (from matplotlib->python-vivid) (0.10.0)\n",
            "Requirement already satisfied: six in /usr/local/lib/python3.7/dist-packages (from cycler>=0.10->matplotlib->python-vivid) (1.15.0)\n",
            "Requirement already satisfied: decorator<5,>=4.3 in /usr/local/lib/python3.7/dist-packages (from networkx->python-vivid) (4.4.2)\n",
            "Requirement already satisfied: sqlalchemy>=1.1.0 in /usr/local/lib/python3.7/dist-packages (from optuna->python-vivid) (1.4.20)\n",
            "Collecting alembic\n",
            "  Downloading alembic-1.6.5-py2.py3-none-any.whl (164 kB)\n",
            "\u001b[K     |████████████████████████████████| 164 kB 45.2 MB/s \n",
            "\u001b[?25hCollecting colorlog\n",
            "  Downloading colorlog-5.0.1-py2.py3-none-any.whl (10 kB)\n",
            "Requirement already satisfied: packaging>=20.0 in /usr/local/lib/python3.7/dist-packages (from optuna->python-vivid) (21.0)\n",
            "Collecting cliff\n",
            "  Downloading cliff-3.8.0-py3-none-any.whl (80 kB)\n",
            "\u001b[K     |████████████████████████████████| 80 kB 8.4 MB/s \n",
            "\u001b[?25hCollecting cmaes>=0.8.2\n",
            "  Downloading cmaes-0.8.2-py3-none-any.whl (15 kB)\n",
            "Requirement already satisfied: greenlet!=0.4.17 in /usr/local/lib/python3.7/dist-packages (from sqlalchemy>=1.1.0->optuna->python-vivid) (1.1.0)\n",
            "Requirement already satisfied: importlib-metadata in /usr/local/lib/python3.7/dist-packages (from sqlalchemy>=1.1.0->optuna->python-vivid) (4.6.1)\n",
            "Collecting Mako\n",
            "  Downloading Mako-1.1.4-py2.py3-none-any.whl (75 kB)\n",
            "\u001b[K     |████████████████████████████████| 75 kB 4.2 MB/s \n",
            "\u001b[?25hCollecting python-editor>=0.3\n",
            "  Downloading python_editor-1.0.4-py3-none-any.whl (4.9 kB)\n",
            "Requirement already satisfied: PrettyTable>=0.7.2 in /usr/local/lib/python3.7/dist-packages (from cliff->optuna->python-vivid) (2.1.0)\n",
            "Collecting cmd2>=1.0.0\n",
            "  Downloading cmd2-2.1.2-py3-none-any.whl (141 kB)\n",
            "\u001b[K     |████████████████████████████████| 141 kB 47.3 MB/s \n",
            "\u001b[?25hCollecting pbr!=2.1.0,>=2.0.0\n",
            "  Downloading pbr-5.6.0-py2.py3-none-any.whl (111 kB)\n",
            "\u001b[K     |████████████████████████████████| 111 kB 46.3 MB/s \n",
            "\u001b[?25hCollecting stevedore>=2.0.1\n",
            "  Downloading stevedore-3.3.0-py3-none-any.whl (49 kB)\n",
            "\u001b[K     |████████████████████████████████| 49 kB 6.3 MB/s \n",
            "\u001b[?25hRequirement already satisfied: PyYAML>=3.12 in /usr/local/lib/python3.7/dist-packages (from cliff->optuna->python-vivid) (3.13)\n",
            "Collecting colorama>=0.3.7\n",
            "  Downloading colorama-0.4.4-py2.py3-none-any.whl (16 kB)\n",
            "Requirement already satisfied: typing-extensions in /usr/local/lib/python3.7/dist-packages (from cmd2>=1.0.0->cliff->optuna->python-vivid) (3.7.4.3)\n",
            "Requirement already satisfied: wcwidth>=0.1.7 in /usr/local/lib/python3.7/dist-packages (from cmd2>=1.0.0->cliff->optuna->python-vivid) (0.2.5)\n",
            "Requirement already satisfied: attrs>=16.3.0 in /usr/local/lib/python3.7/dist-packages (from cmd2>=1.0.0->cliff->optuna->python-vivid) (21.2.0)\n",
            "Collecting pyperclip>=1.6\n",
            "  Downloading pyperclip-1.8.2.tar.gz (20 kB)\n",
            "Requirement already satisfied: zipp>=0.5 in /usr/local/lib/python3.7/dist-packages (from importlib-metadata->sqlalchemy>=1.1.0->optuna->python-vivid) (3.5.0)\n",
            "Requirement already satisfied: MarkupSafe>=0.9.2 in /usr/local/lib/python3.7/dist-packages (from Mako->alembic->optuna->python-vivid) (2.0.1)\n",
            "Requirement already satisfied: pytz>=2017.2 in /usr/local/lib/python3.7/dist-packages (from pandas->python-vivid) (2018.9)\n",
            "Building wheels for collected packages: pyperclip\n",
            "  Building wheel for pyperclip (setup.py) ... \u001b[?25l\u001b[?25hdone\n",
            "  Created wheel for pyperclip: filename=pyperclip-1.8.2-py3-none-any.whl size=11137 sha256=749b4f74e03b4ce1fe0f0d19a8e5ce77db9b6416cbc95da254e5d71b0a9fbb81\n",
            "  Stored in directory: /root/.cache/pip/wheels/9f/18/84/8f69f8b08169c7bae2dde6bd7daf0c19fca8c8e500ee620a28\n",
            "Successfully built pyperclip\n",
            "Installing collected packages: pyperclip, pbr, colorama, stevedore, python-editor, Mako, cmd2, colorlog, cmaes, cliff, alembic, optuna, python-vivid\n",
            "Successfully installed Mako-1.1.4 alembic-1.6.5 cliff-3.8.0 cmaes-0.8.2 cmd2-2.1.2 colorama-0.4.4 colorlog-5.0.1 optuna-2.8.0 pbr-5.6.0 pyperclip-1.8.2 python-editor-1.0.4 python-vivid-0.3.3.4 stevedore-3.3.0\n"
          ],
          "name": "stdout"
        }
      ]
    },
    {
      "cell_type": "code",
      "metadata": {
        "id": "G9GcHWlJH6m1",
        "colab": {
          "base_uri": "https://localhost:8080/"
        },
        "outputId": "d66444b2-aabb-4452-b1fa-cb2f258c56c1"
      },
      "source": [
        "import ipyplot\n",
        "\n",
        "from PIL import Image\n",
        "\n",
        "from torchvision import transforms as T\n",
        "\n",
        "import torch\n",
        "from torchvision.models import resnet34\n",
        "from torch import nn\n",
        "\n",
        "from torch.optim import Adam\n",
        "from torch.utils import data\n",
        "\n",
        "from torch.optim.optimizer import Optimizer\n",
        "from collections import defaultdict\n",
        "\n",
        "from vivid.utils import timer\n",
        "\n",
        "from sklearn.model_selection import KFold\n",
        "from sklearn.metrics import mean_squared_error\n",
        "\n",
        "from tabulate import tabulate"
      ],
      "execution_count": 21,
      "outputs": [
        {
          "output_type": "stream",
          "text": [
            "\n",
            "        WARNING! Google Colab Environment detected!\n",
            "        You might encounter issues while running in Google Colab environment.\n",
            "        If images are not displaying properly please try setting `base_64` param to `True`.\n",
            "        \n"
          ],
          "name": "stdout"
        }
      ]
    },
    {
      "cell_type": "markdown",
      "metadata": {
        "id": "aSiBti06Jivx"
      },
      "source": [
        "画像データの読み込み"
      ]
    },
    {
      "cell_type": "code",
      "metadata": {
        "id": "fRFv42h4JTfq"
      },
      "source": [
        "photo_dir = DIR+'/data/photos'\n",
        "#画像ファイルのパス設定の関数\n",
        "def to_img_path(object_id):\n",
        "  return os.path.join(photo_dir, f'{object_id}.jpg')"
      ],
      "execution_count": 22,
      "outputs": []
    },
    {
      "cell_type": "code",
      "metadata": {
        "id": "1RipFRSgKSMx"
      },
      "source": [
        "#画像ファイル読み込みの関数\n",
        "def read_image(object_id):\n",
        "  return Image.open(to_img_path(object_id))"
      ],
      "execution_count": 23,
      "outputs": []
    },
    {
      "cell_type": "code",
      "metadata": {
        "id": "DI2bLI1ILfkh",
        "colab": {
          "base_uri": "https://localhost:8080/"
        },
        "outputId": "2d473b09-eba6-41e0-90c5-ae8f560967dc"
      },
      "source": [
        "#画像ファイル数\n",
        "print(sum(os.path.isfile(os.path.join(photo_dir, name)) for name in os.listdir(photo_dir)), '枚')"
      ],
      "execution_count": 24,
      "outputs": [
        {
          "output_type": "stream",
          "text": [
            "9856 枚\n"
          ],
          "name": "stdout"
        }
      ]
    },
    {
      "cell_type": "code",
      "metadata": {
        "id": "GaQnijhGKdoi"
      },
      "source": [
        "img = read_image(train_df['object_id'].iat[3936])"
      ],
      "execution_count": 81,
      "outputs": []
    },
    {
      "cell_type": "code",
      "metadata": {
        "id": "KsoP8efLKlEn",
        "colab": {
          "base_uri": "https://localhost:8080/",
          "height": 182
        },
        "outputId": "8701b826-ebad-4a79-86e3-ffd0fbb3cdbe"
      },
      "source": [
        "img"
      ],
      "execution_count": 82,
      "outputs": [
        {
          "output_type": "execute_result",
          "data": {
            "image/png": "[encoded data removed]",
            "text/plain": [
              "<PIL.JpegImagePlugin.JpegImageFile image mode=RGB size=224x165 at 0x7F616131C890>"
            ]
          },
          "metadata": {
            "tags": []
          },
          "execution_count": 82
        }
      ]
    },
    {
      "cell_type": "markdown",
      "metadata": {
        "id": "GuLSW6irPeMF"
      },
      "source": [
        "モデルの定義"
      ]
    },
    {
      "cell_type": "code",
      "metadata": {
        "id": "iEIlnnU6PXn_"
      },
      "source": [
        "model = resnet34(pretrained=False)#事前学習は無し。"
      ],
      "execution_count": 83,
      "outputs": []
    },
    {
      "cell_type": "code",
      "metadata": {
        "id": "AFPK1i2eP2bf"
      },
      "source": [
        "#model"
      ],
      "execution_count": 84,
      "outputs": []
    },
    {
      "cell_type": "code",
      "metadata": {
        "id": "XRpoqNLgP3lG"
      },
      "source": [
        "#データオーギュメンテーション。\n",
        "converter = T.Compose([\n",
        "                       T.RandomHorizontalFlip(p=1),\n",
        "                       T.ColorJitter(brightness=.5, contrast=.5),\n",
        "                       T.ToTensor()#画像をテンソルオブジェクトに変更する。\n",
        "])\n"
      ],
      "execution_count": 85,
      "outputs": []
    },
    {
      "cell_type": "code",
      "metadata": {
        "id": "i7kphaEAgZKm"
      },
      "source": [
        "x = converter(img)"
      ],
      "execution_count": 86,
      "outputs": []
    },
    {
      "cell_type": "code",
      "metadata": {
        "id": "BPSoFM_ZgcV9",
        "colab": {
          "base_uri": "https://localhost:8080/"
        },
        "outputId": "00f84113-b8f6-4711-b7a8-57c22a8ff536"
      },
      "source": [
        "type(img)#元の画像はPIL。"
      ],
      "execution_count": 87,
      "outputs": [
        {
          "output_type": "execute_result",
          "data": {
            "text/plain": [
              "PIL.JpegImagePlugin.JpegImageFile"
            ]
          },
          "metadata": {
            "tags": []
          },
          "execution_count": 87
        }
      ]
    },
    {
      "cell_type": "code",
      "metadata": {
        "id": "DzQJIXBvgeDQ",
        "colab": {
          "base_uri": "https://localhost:8080/"
        },
        "outputId": "93bbd5ee-1b63-4417-ce6d-65a75a3a4013"
      },
      "source": [
        "type(x)#PILではなくtensorになっている。"
      ],
      "execution_count": 88,
      "outputs": [
        {
          "output_type": "execute_result",
          "data": {
            "text/plain": [
              "torch.Tensor"
            ]
          },
          "metadata": {
            "tags": []
          },
          "execution_count": 88
        }
      ]
    },
    {
      "cell_type": "markdown",
      "metadata": {
        "id": "8aJ659XIgm6O"
      },
      "source": [
        "T.ToTensorにて、pytorchで扱えるテンソル化。  \n",
        "⇒resnet34はtorchのテンソルを受け取るので、この変換が必要。"
      ]
    },
    {
      "cell_type": "code",
      "metadata": {
        "id": "s4FnmarHggFb",
        "colab": {
          "base_uri": "https://localhost:8080/"
        },
        "outputId": "5f75e440-68a0-4f00-d3ea-f931c068b87f"
      },
      "source": [
        "x.shape#RGBの3チャンネル、高さ、横"
      ],
      "execution_count": 89,
      "outputs": [
        {
          "output_type": "execute_result",
          "data": {
            "text/plain": [
              "torch.Size([3, 165, 224])"
            ]
          },
          "metadata": {
            "tags": []
          },
          "execution_count": 89
        }
      ]
    },
    {
      "cell_type": "code",
      "metadata": {
        "id": "mnSwIl-bglPq",
        "colab": {
          "base_uri": "https://localhost:8080/"
        },
        "outputId": "54a88337-a589-4df4-c87e-4c4fada4e218"
      },
      "source": [
        "x.unsqueeze(0).shape#モデルは、入力時に追加で1次元必要。そのままだと、3枚、165チャンネル、高さ224とモデルは認識してしまうため。"
      ],
      "execution_count": 90,
      "outputs": [
        {
          "output_type": "execute_result",
          "data": {
            "text/plain": [
              "torch.Size([1, 3, 165, 224])"
            ]
          },
          "metadata": {
            "tags": []
          },
          "execution_count": 90
        }
      ]
    },
    {
      "cell_type": "code",
      "metadata": {
        "id": "PQ21A-0Dg2L8"
      },
      "source": [
        "output = model(x.unsqueeze(0))"
      ],
      "execution_count": 91,
      "outputs": []
    },
    {
      "cell_type": "code",
      "metadata": {
        "id": "9fsXcvaig9bC",
        "colab": {
          "base_uri": "https://localhost:8080/"
        },
        "outputId": "19dcf4e3-cf5a-42f4-f714-11cd526514e8"
      },
      "source": [
        "output.shape#1枚、1000次元の出力が返ってきた。もともとのresnetが1000クラスの出力タスクであるため。⇒最終層の修正が必要。"
      ],
      "execution_count": 93,
      "outputs": [
        {
          "output_type": "execute_result",
          "data": {
            "text/plain": [
              "torch.Size([1, 1000])"
            ]
          },
          "metadata": {
            "tags": []
          },
          "execution_count": 93
        }
      ]
    },
    {
      "cell_type": "markdown",
      "metadata": {
        "id": "SEn0HcTehG9-"
      },
      "source": [
        "・タスクの出力は\"年代\"の一次元なので、最終層を書き換え。"
      ]
    },
    {
      "cell_type": "code",
      "metadata": {
        "id": "kFrhGlLUhCY-"
      },
      "source": [
        "model.fc = nn.Linear(in_features=512, out_features=1, bias=True)"
      ],
      "execution_count": 94,
      "outputs": []
    },
    {
      "cell_type": "code",
      "metadata": {
        "id": "CTrKP13rhW-X",
        "colab": {
          "base_uri": "https://localhost:8080/"
        },
        "outputId": "705421ae-6bf1-4962-aaa3-f70691436210"
      },
      "source": [
        "model(x.unsqueeze(0))"
      ],
      "execution_count": 95,
      "outputs": [
        {
          "output_type": "execute_result",
          "data": {
            "text/plain": [
              "tensor([[-0.9365]], grad_fn=<AddmmBackward>)"
            ]
          },
          "metadata": {
            "tags": []
          },
          "execution_count": 95
        }
      ]
    },
    {
      "cell_type": "markdown",
      "metadata": {
        "id": "9ya1OhZHhjSA"
      },
      "source": [
        "以上より、モデル(Resnet34)を使った予測値の出力ができるようになった。  \n",
        "ただし、ただのランダムな出力になるだけなので、  \n",
        "Xを入れたときの年代yを出力する、というように修正をおこなう。  "
      ]
    },
    {
      "cell_type": "markdown",
      "metadata": {
        "id": "XFDve7Zkh9QN"
      },
      "source": [
        "# 学習スキームの定義"
      ]
    },
    {
      "cell_type": "markdown",
      "metadata": {
        "id": "GHLkIvDAiA29"
      },
      "source": [
        "下記のループを繰り返す。  \n",
        "①入力データxをモデルに入れ、出力zを作成  \n",
        "②あるxに対応する正解ラベルyとzを目的関数(今回はRMSE)に入れ、ズレ量(loss)を計算  \n",
        "③lossの情報を基にし、最適化手法によりモデルを更新"
      ]
    },
    {
      "cell_type": "markdown",
      "metadata": {
        "id": "MK_Dn7v3idsv"
      },
      "source": [
        "目的関数の定義"
      ]
    },
    {
      "cell_type": "code",
      "metadata": {
        "id": "XfBknLiVhZyp"
      },
      "source": [
        "criterion = nn.MSELoss()"
      ],
      "execution_count": 97,
      "outputs": []
    },
    {
      "cell_type": "code",
      "metadata": {
        "colab": {
          "base_uri": "https://localhost:8080/"
        },
        "id": "XXIJX85mAs7d",
        "outputId": "a703da20-e758-4290-aa27-a2787b8b809e"
      },
      "source": [
        "criterion(torch.Tensor([3]), torch.Tensor([10]))"
      ],
      "execution_count": 98,
      "outputs": [
        {
          "output_type": "execute_result",
          "data": {
            "text/plain": [
              "tensor(49.)"
            ]
          },
          "metadata": {
            "tags": []
          },
          "execution_count": 98
        }
      ]
    },
    {
      "cell_type": "code",
      "metadata": {
        "id": "0HOwxRKTig25"
      },
      "source": [
        "#最適化手法の定義。\n",
        "optimizer = Adam(params=model.parameters(), lr=1e-3)\n",
        "#第一引数；どのモデルのパラメータを更新したいかを指定。\n",
        "#第二引数：LearningRate。決まった値はないが、adamの場合、1e-3がよく使われるらしい。"
      ],
      "execution_count": 99,
      "outputs": []
    },
    {
      "cell_type": "markdown",
      "metadata": {
        "id": "0UgCHMpNjWxY"
      },
      "source": [
        "モデルの学習(画像一枚)"
      ]
    },
    {
      "cell_type": "markdown",
      "metadata": {
        "id": "pfPPCcexjdOo"
      },
      "source": [
        "①学習データをtorch.Tensorの形式で用意する。"
      ]
    },
    {
      "cell_type": "code",
      "metadata": {
        "id": "xMm3L3ypjPym"
      },
      "source": [
        "x = converter(img)\n",
        "x = x.unsqueeze(0)"
      ],
      "execution_count": 109,
      "outputs": []
    },
    {
      "cell_type": "code",
      "metadata": {
        "id": "JumI2GQvjr7g"
      },
      "source": [
        "label = train_df['target'].iat[0]\n",
        "label = torch.Tensor(label)\n",
        "label = label.reshape(-1, 1)"
      ],
      "execution_count": 110,
      "outputs": []
    },
    {
      "cell_type": "markdown",
      "metadata": {
        "id": "_CGh8HRZj8JL"
      },
      "source": [
        "②学習データをモデルに入れ、lossを目的関数で計算"
      ]
    },
    {
      "cell_type": "code",
      "metadata": {
        "id": "zxpBvyTSj4TD"
      },
      "source": [
        "output = model(x)"
      ],
      "execution_count": 111,
      "outputs": []
    },
    {
      "cell_type": "code",
      "metadata": {
        "id": "mVgq0PA2kE3e"
      },
      "source": [
        "loss = criterion(output, label)"
      ],
      "execution_count": 112,
      "outputs": []
    },
    {
      "cell_type": "markdown",
      "metadata": {
        "id": "Een6biwukNQU"
      },
      "source": [
        "③loss値から、optimizerがmodelを更新する"
      ]
    },
    {
      "cell_type": "code",
      "metadata": {
        "id": "25l8rjT7kIWC"
      },
      "source": [
        "# zero_grad は今ある勾配の情報をリセットする関数. このあとに計算される勾配を元にして最適化される\n",
        "optimizer.zero_grad()"
      ],
      "execution_count": 113,
      "outputs": []
    },
    {
      "cell_type": "code",
      "metadata": {
        "id": "w52p0aPYkZGV"
      },
      "source": [
        "#lossから勾配計算\n",
        "loss.backward()"
      ],
      "execution_count": 114,
      "outputs": []
    },
    {
      "cell_type": "code",
      "metadata": {
        "id": "iEhkU-7akeRj"
      },
      "source": [
        "#最適化ステップを1つ進める。\n",
        "optimizer.step()"
      ],
      "execution_count": 115,
      "outputs": []
    },
    {
      "cell_type": "code",
      "metadata": {
        "id": "7bsCl4mmkkWp",
        "colab": {
          "base_uri": "https://localhost:8080/"
        },
        "outputId": "59f72130-6614-4230-9788-5ec9fc2f0714"
      },
      "source": [
        "print(loss.item())"
      ],
      "execution_count": 117,
      "outputs": [
        {
          "output_type": "stream",
          "text": [
            "inf\n"
          ],
          "name": "stdout"
        }
      ]
    },
    {
      "cell_type": "markdown",
      "metadata": {
        "id": "dU643VFHlgEE"
      },
      "source": [
        "学習の関数化"
      ]
    },
    {
      "cell_type": "code",
      "metadata": {
        "id": "TR3zCOBsknKg"
      },
      "source": [
        "IMG_MEAN = [0.485, 0.456, 0.406]\n",
        "IMG_STD = [0.229, 0.224, 0.225]"
      ],
      "execution_count": 57,
      "outputs": []
    },
    {
      "cell_type": "code",
      "metadata": {
        "id": "efsRlqdvly0C"
      },
      "source": [
        "class AtmaDataset(data.Dataset):\n",
        "    \"\"\"atmaCup用にデータ読み込み等を行なうデータ・セット\"\"\"\n",
        "    object_path_key = \"object_path\"\n",
        "    label_key = \"target\"\n",
        "\n",
        "    @property\n",
        "    def meta_keys(self):\n",
        "        retval = [self.object_path_key]\n",
        "\n",
        "        if self.is_train:\n",
        "            retval += [self.label_key]\n",
        "\n",
        "        return retval\n",
        "\n",
        "    def __init__(self, meta_df: pd.DataFrame, is_train=True):\n",
        "        \"\"\"\n",
        "        args:\n",
        "            meta_df: \n",
        "                画像へのパスと label 情報が含まれている dataframe\n",
        "                必ず object_path に画像へのパス, target に正解ラベルが入っている必要があります\n",
        "\n",
        "            is_train:\n",
        "                True のとき学習用のデータ拡張を適用します.\n",
        "                False の時は単に size にリサイズを行います\n",
        "        \"\"\"\n",
        "\n",
        "        self.is_train = is_train\n",
        "        for k in self.meta_keys:\n",
        "            if k not in meta_df:\n",
        "                raise ValueError(\"meta df must have {}\".format(k))\n",
        "\n",
        "        self.meta_df = meta_df.reset_index(drop=True)\n",
        "        self.index_to_data = self.meta_df.to_dict(orient=\"index\")\n",
        "\n",
        "        size = (224, 224)\n",
        "\n",
        "        additional_items = (\n",
        "            [T.Resize(size)]\n",
        "            if not is_train\n",
        "            else [\n",
        "                T.RandomGrayscale(p=0.2),\n",
        "                T.RandomVerticalFlip(),\n",
        "                T.RandomHorizontalFlip(),\n",
        "                T.ColorJitter(\n",
        "                    brightness=0.3,\n",
        "                    contrast=0.5,\n",
        "                    saturation=[0.8, 1.3],\n",
        "                    hue=[-0.05, 0.05],\n",
        "                ),\n",
        "                T.RandomResizedCrop(size),\n",
        "            ]\n",
        "        )\n",
        "\n",
        "        self.transformer = T.Compose(\n",
        "            [*additional_items, T.ToTensor(), T.Normalize(mean=IMG_MEAN, std=IMG_STD)]\n",
        "        )\n",
        "\n",
        "    def __getitem__(self, index):#重要。インデックスを採取して、対応する画像とラベルを返す。\n",
        "        data = self.index_to_data[index]\n",
        "\n",
        "        obj_path, label = data.get(self.object_path_key), data.get(self.label_key, -1)\n",
        "        img = Image.open(obj_path)\n",
        "        img = self.transformer(img)\n",
        "        return img, label\n",
        "\n",
        "    def __len__(self):#重要。データの長さを指定している。これが無いと打ち切る場所がわからない。\n",
        "        return len(self.meta_df)"
      ],
      "execution_count": 118,
      "outputs": []
    },
    {
      "cell_type": "code",
      "metadata": {
        "id": "nFF31cEVmjNg"
      },
      "source": [
        "train_meta_df = train_df[['target', 'object_id']].copy()\n",
        "train_meta_df['object_path'] = train_meta_df['object_id'].map(to_img_path)\n",
        "\n",
        "dataset = AtmaDataset(meta_df=train_meta_df)"
      ],
      "execution_count": 119,
      "outputs": []
    },
    {
      "cell_type": "code",
      "metadata": {
        "id": "BygeaGP8mnnq",
        "colab": {
          "base_uri": "https://localhost:8080/"
        },
        "outputId": "1e557334-4df8-450f-880d-e2b174df2da3"
      },
      "source": [
        "# このデータセットで場合、同時に 54 の画像に対応した tensor と label が作られる。4並列でデータ処理をするように回してね。\n",
        "loader = data.DataLoader(dataset=dataset, batch_size=54, num_workers=4)"
      ],
      "execution_count": 120,
      "outputs": [
        {
          "output_type": "stream",
          "text": [
            "/usr/local/lib/python3.7/dist-packages/torch/utils/data/dataloader.py:481: UserWarning: This DataLoader will create 4 worker processes in total. Our suggested max number of worker in current system is 2, which is smaller than what this DataLoader is going to create. Please be aware that excessive worker creation might get DataLoader running slow or even freeze, lower the worker number to avoid potential slowness/freeze if necessary.\n",
            "  cpuset_checked))\n"
          ],
          "name": "stderr"
        }
      ]
    },
    {
      "cell_type": "code",
      "metadata": {
        "id": "YWPive03mqcM",
        "colab": {
          "base_uri": "https://localhost:8080/"
        },
        "outputId": "273e34b0-91a5-471d-ed35-05eb0b067246"
      },
      "source": [
        "  for x_tensor, y in loader:#画像のテンソルとラベルを返してくれる。\n",
        "    break#for文の途中で止めて中を見る。"
      ],
      "execution_count": 121,
      "outputs": [
        {
          "output_type": "stream",
          "text": [
            "/usr/local/lib/python3.7/dist-packages/torch/utils/data/dataloader.py:481: UserWarning: This DataLoader will create 4 worker processes in total. Our suggested max number of worker in current system is 2, which is smaller than what this DataLoader is going to create. Please be aware that excessive worker creation might get DataLoader running slow or even freeze, lower the worker number to avoid potential slowness/freeze if necessary.\n",
            "  cpuset_checked))\n"
          ],
          "name": "stderr"
        }
      ]
    },
    {
      "cell_type": "code",
      "metadata": {
        "id": "zu-OHrJjYCxZ",
        "colab": {
          "base_uri": "https://localhost:8080/"
        },
        "outputId": "f8c8c222-1564-498a-bdc4-083579ecadbf"
      },
      "source": [
        "#最初の次元が、設定したバッチサイズの54、3チャンネル、224、224になっていることを確認。ラベルサイズもバッチサイズに合う。\n",
        "x_tensor.shape, y.shape"
      ],
      "execution_count": 123,
      "outputs": [
        {
          "output_type": "execute_result",
          "data": {
            "text/plain": [
              "(torch.Size([54, 3, 224, 224]), torch.Size([54]))"
            ]
          },
          "metadata": {
            "tags": []
          },
          "execution_count": 123
        }
      ]
    },
    {
      "cell_type": "markdown",
      "metadata": {
        "id": "qAFuPd7nYcVy"
      },
      "source": [
        "学習関数の実装"
      ]
    },
    {
      "cell_type": "code",
      "metadata": {
        "id": "LbtNKVyBYNWK"
      },
      "source": [
        "assert torch.cuda.is_available()\n",
        "\n",
        "DEVICE = torch.device('cuda')"
      ],
      "execution_count": 124,
      "outputs": []
    },
    {
      "cell_type": "code",
      "metadata": {
        "id": "eCvGiGD7ZKpE"
      },
      "source": [
        "def train(\n",
        "    model: nn.Module,\n",
        "    optimizer: Optimizer,\n",
        "    train_loader: data.DataLoader\n",
        ") -> pd.Series:\n",
        "\n",
        "    # train にすることで model 内の学習時にのみ有効な機構が有効になります (Dropouts Layers、BatchNorm Layers...)\n",
        "    model.train()\n",
        "\n",
        "    criterion = nn.MSELoss()\n",
        "\n",
        "    # ロスの値を保存する用に dict を用意\n",
        "    metrics = defaultdict(float)\n",
        "    n_iters = len(train_loader)\n",
        "\n",
        "    for i, (x_i, y_i) in enumerate(train_loader):\n",
        "        x_i = x_i.to(DEVICE)\n",
        "        y_i = y_i.to(DEVICE).reshape(-1, 1).float()\n",
        "\n",
        "        output = model(x_i)\n",
        "        loss = criterion(output, y_i)\n",
        "\n",
        "        optimizer.zero_grad()\n",
        "        loss.backward()\n",
        "        optimizer.step()\n",
        "\n",
        "        metric_i = {\n",
        "            # loss は tensor object なので item をつかって python object に戻す\n",
        "            \"loss\": loss.item()\n",
        "        }\n",
        "        for k, v in metric_i.items():\n",
        "            metrics[k] += v\n",
        "\n",
        "    for k, v in metrics.items():\n",
        "        metrics[k] /= n_iters\n",
        "\n",
        "    return pd.Series(metrics).add_prefix(\"train_\")"
      ],
      "execution_count": 125,
      "outputs": []
    },
    {
      "cell_type": "code",
      "metadata": {
        "id": "enEuU1SlZ0Of",
        "colab": {
          "base_uri": "https://localhost:8080/"
        },
        "outputId": "4ae90857-bac5-4e80-d960-2b29033e17ad"
      },
      "source": [
        "n_epochs = 10\n",
        "\n",
        "# GPU 環境で学習するため変換. この呼び出しは破壊的\n",
        "model.to(DEVICE)\n",
        "optimizer = Adam(params=model.parameters(), lr=1e-3)\n",
        "\n",
        "for epoch in range(1, n_epochs + 1):\n",
        "\n",
        "    with timer(prefix=\"train: epoch={}\".format(epoch)):\n",
        "        score_train = train(\n",
        "            model, optimizer, train_loader=loader\n",
        "        )\n",
        "    print(score_train)\n",
        "\n",
        "    break"
      ],
      "execution_count": 126,
      "outputs": [
        {
          "output_type": "stream",
          "text": [
            "/usr/local/lib/python3.7/dist-packages/torch/utils/data/dataloader.py:481: UserWarning: This DataLoader will create 4 worker processes in total. Our suggested max number of worker in current system is 2, which is smaller than what this DataLoader is going to create. Please be aware that excessive worker creation might get DataLoader running slow or even freeze, lower the worker number to avoid potential slowness/freeze if necessary.\n",
            "  cpuset_checked))\n"
          ],
          "name": "stderr"
        },
        {
          "output_type": "stream",
          "text": [
            "train: epoch=1 45.194[s]\n",
            "train_loss    2.332194\n",
            "dtype: float64\n"
          ],
          "name": "stdout"
        }
      ]
    },
    {
      "cell_type": "markdown",
      "metadata": {
        "id": "YwiHIErqjsti"
      },
      "source": [
        "# 交差検証"
      ]
    },
    {
      "cell_type": "code",
      "metadata": {
        "id": "Gy4RV8TBZ4Qd"
      },
      "source": [
        "fold = KFold(n_splits=5, shuffle=True, random_state=510)\n",
        "cv = list(fold.split(X=train_df, y=train_df['target']))"
      ],
      "execution_count": 127,
      "outputs": []
    },
    {
      "cell_type": "code",
      "metadata": {
        "id": "el19SayGjwVG",
        "colab": {
          "base_uri": "https://localhost:8080/"
        },
        "outputId": "092471a9-9735-4b17-cf06-e9b77194f045"
      },
      "source": [
        "idx_tr, idx_val = cv[0]\n",
        "\n",
        "len(idx_tr), len(idx_val)#全体を5分割して、4:1にする。"
      ],
      "execution_count": 128,
      "outputs": [
        {
          "output_type": "execute_result",
          "data": {
            "text/plain": [
              "(3149, 788)"
            ]
          },
          "metadata": {
            "tags": []
          },
          "execution_count": 128
        }
      ]
    },
    {
      "cell_type": "code",
      "metadata": {
        "id": "B-_gCdgLjxyA",
        "colab": {
          "base_uri": "https://localhost:8080/",
          "height": 241
        },
        "outputId": "596ab5d7-0b31-4e78-8c7f-c2cf5accd792"
      },
      "source": [
        "# train / valid で index の重複はない\n",
        "venn2(subsets=(set(idx_tr), set(idx_val)), set_labels=('train', 'valid'))"
      ],
      "execution_count": 68,
      "outputs": [
        {
          "output_type": "execute_result",
          "data": {
            "text/plain": [
              "<matplotlib_venn._common.VennDiagram at 0x7f6164186f50>"
            ]
          },
          "metadata": {
            "tags": []
          },
          "execution_count": 68
        },
        {
          "output_type": "display_data",
          "data": {
            "image/png": "[encoded data removed]",
            "text/plain": [
              "<Figure size 432x288 with 1 Axes>"
            ]
          },
          "metadata": {
            "tags": []
          }
        }
      ]
    },
    {
      "cell_type": "code",
      "metadata": {
        "id": "jX7AsQsnjz2E"
      },
      "source": [
        "# 最初の fold だけで考える\n",
        "#⇒見積もりの正確性は落ちるが、たくさんの実験パターンを実行できるメリットがある。\n",
        "#特に、一つの fold の学習に時間がかかる場合、実験条件のPDCAを回す速度を優先しfold を削ることがある。\n",
        "cv = cv[:1]"
      ],
      "execution_count": 69,
      "outputs": []
    },
    {
      "cell_type": "markdown",
      "metadata": {
        "id": "HqEGf_C5kEkD"
      },
      "source": [
        "検証の実装"
      ]
    },
    {
      "cell_type": "markdown",
      "metadata": {
        "id": "aUQV-_lIkS-9"
      },
      "source": [
        "predict: 与えられたデータ (data-loader) に対しての予測値を計算  \n",
        "valid: 与えられたモデル・データローダを使って検証フェーズを実行。  \n",
        "スコアの dict と予測した値を返す"
      ]
    },
    {
      "cell_type": "code",
      "metadata": {
        "id": "fqvMU_pgj3BU"
      },
      "source": [
        "def predict(model: nn.Module, loader: data.DataLoader) -> np.ndarray:\n",
        "    # train とは逆で model 内の学習時にのみ有効な機構がオフになります (Dropouts Layers、BatchNorm Layers...)\n",
        "    model.eval()\n",
        "\n",
        "    predicts = []\n",
        "\n",
        "    for x_i, y_i in loader:\n",
        "\n",
        "        # 明示的に勾配を計算しないように指定することができます. \n",
        "        # この関数ではモデルの更新はせずに単に出力だけを使いますので勾配は不要です.\n",
        "        with torch.no_grad():\n",
        "            output = model(x_i.to(DEVICE))\n",
        "\n",
        "        predicts.extend(output.data.cpu().numpy())\n",
        "\n",
        "    pred = np.array(predicts).reshape(-1)\n",
        "    return pred\n",
        "\n",
        "\n",
        "def calculate_metrics(y_true, y_pred) -> dict:\n",
        "    \"\"\"正解ラベルと予測ラベルから指標を計算する\"\"\"\n",
        "    # return regression_metrics(y_true, y_pred)\n",
        "\n",
        "    return {\n",
        "        'rmse': mean_squared_error(y_true, y_pred) ** .5\n",
        "    }\n",
        "\n",
        "\n",
        "def valid(\n",
        "    model: nn.Module, \n",
        "    y_valid: np.ndarray, \n",
        "    valid_loader: data.DataLoader\n",
        ") -> pd.Series:\n",
        "    \"\"\"検証フェーズ\n",
        "    与えられたモデル・データローダを使って検証フェーズを実行。スコアの dict と予測した値を返す\n",
        "    \"\"\"\n",
        "\n",
        "    pred = predict(model, valid_loader)\n",
        "    score = calculate_metrics(y_valid, pred)\n",
        "\n",
        "    valid_score = pd.Series(score)\n",
        "    return valid_score.add_prefix(\"valid_\"), pred"
      ],
      "execution_count": 129,
      "outputs": []
    },
    {
      "cell_type": "code",
      "metadata": {
        "id": "xciswLmmkQnX"
      },
      "source": [
        "def run_fold(\n",
        "    model: nn.Module, \n",
        "    train_df: pd.DataFrame, \n",
        "    valid_df: pd.DataFrame, \n",
        "    y_valid: np.ndarray, \n",
        "    output_dir: str, \n",
        "    n_epochs=30) -> np.ndarray:\n",
        "    \"\"\"\n",
        "    train / valid に分割されたデータで学習と同時に検証を行なう\n",
        "    \"\"\"\n",
        "\n",
        "    os.makedirs(output_i, exist_ok=True)\n",
        "\n",
        "    optimizer = Adam(model.parameters(), lr=1e-3)\n",
        "\n",
        "    # 0: 前準備. dataframe から data loader を作成\n",
        "    train_dataset = AtmaDataset(meta_df=train_df)\n",
        "    # 検証用の方は is_train=False にしてデータ拡張オフにする\n",
        "    valid_dataset = AtmaDataset(meta_df=valid_df, is_train=False)\n",
        "\n",
        "    train_loader = data.DataLoader(\n",
        "        train_dataset, batch_size=64, shuffle=True, drop_last=True, num_workers=4\n",
        "    )\n",
        "    valid_loader = data.DataLoader(valid_dataset, batch_size=256, num_workers=4)\n",
        "\n",
        "    # --- 保存のための変数定義\n",
        "    score_df = pd.DataFrame()\n",
        "    valid_score = np.inf\n",
        "    valid_score_key = \"valid_rmse\"\n",
        "    valid_best_pred = None\n",
        "\n",
        "    for epoch in range(1, n_epochs + 1):\n",
        "        print(f'start {epoch}')\n",
        "\n",
        "        # 1: 学習用データで学習を実行。学習時のロスを取得\n",
        "        with timer(prefix=\"train: epoch={}\".format(epoch)):\n",
        "            score_train = train(\n",
        "                model, optimizer, train_loader\n",
        "            )\n",
        "\n",
        "        # 2: 検証データでのスコアを計算\n",
        "        with timer(prefix=\"validate\"):\n",
        "            score_valid, y_valid_pred = valid(model=model, valid_loader=valid_loader, y_valid=y_valid)\n",
        "\n",
        "\n",
        "        # --- 学習のロスと検証スコアの値をデータフレームに追加\n",
        "        row = pd.concat([score_train, score_valid])\n",
        "        row[\"epoch\"] = epoch\n",
        "        row = pd.DataFrame([row])\n",
        "        print(tabulate(row, headers=row.columns))\n",
        "        score_df = pd.concat([score_df, row], ignore_index=True)\n",
        "        # ---\n",
        "\n",
        "        # 今の検証スコアと過去最高のスコアを比較\n",
        "        current_score = score_valid[valid_score_key]\n",
        "        if current_score < valid_score:\n",
        "            # スコア改善したときモデルを保存する\n",
        "            print(f'validation score is improved!! {valid_score:.4f} -> {current_score:.4f}')\n",
        "            torch.save(\n",
        "                model.state_dict(), os.path.join(output_dir, 'model_best.pth')\n",
        "            )\n",
        "            valid_score = current_score\n",
        "            valid_best_pred = y_valid_pred\n",
        "\n",
        "    score_df.to_csv(os.path.join(output_dir, 'score.csv'), index=False)\n",
        "    return valid_best_pred"
      ],
      "execution_count": 130,
      "outputs": []
    },
    {
      "cell_type": "markdown",
      "metadata": {
        "id": "6SIpx8ykk0ML"
      },
      "source": [
        "CrossValidationの枠組みで学習の実行"
      ]
    },
    {
      "cell_type": "code",
      "metadata": {
        "id": "kqni-9f6lb08"
      },
      "source": [
        "output_dir = os.path.join(DIR+'/data', \"outputs_tutorial#1\")\n",
        "os.makedirs(output_dir, exist_ok=True)"
      ],
      "execution_count": 131,
      "outputs": []
    },
    {
      "cell_type": "code",
      "metadata": {
        "id": "jLsxIIagkcdp",
        "colab": {
          "base_uri": "https://localhost:8080/"
        },
        "outputId": "630a609d-1509-4d15-c60d-8bca7c8d3ef9"
      },
      "source": [
        "def get_output_dir(n_cv: int):\n",
        "    return os.path.join(output_dir, 'simple_resnet', f'cv={n_cv}')\n",
        "\n",
        "oof = np.zeros((len(train_df), ), dtype=np.float32)\n",
        "\n",
        "for i, (idx_tr, idx_valid) in enumerate(cv):\n",
        "    output_i = get_output_dir(i)\n",
        "    model = resnet34(pretrained=False)\n",
        "    model.fc = nn.Linear(in_features=512, out_features=1, bias=True)\n",
        "\n",
        "    model.to(DEVICE)\n",
        "\n",
        "    oof_i = run_fold(\n",
        "        model=model, \n",
        "        train_df=train_meta_df.iloc[idx_tr], \n",
        "        valid_df=train_meta_df.iloc[idx_valid], \n",
        "        y_valid=train_meta_df['target'].values[idx_valid],\n",
        "        output_dir=output_i,\n",
        "\n",
        "        # 今は 1 ですぐ終わるようにしている. 本当は validation score の値を見つつ適宜設定する\n",
        "        n_epochs=5\n",
        "    )\n",
        "\n",
        "    oof[idx_valid] = oof_i"
      ],
      "execution_count": 138,
      "outputs": [
        {
          "output_type": "stream",
          "text": [
            "start 1\n"
          ],
          "name": "stdout"
        },
        {
          "output_type": "stream",
          "text": [
            "/usr/local/lib/python3.7/dist-packages/torch/utils/data/dataloader.py:481: UserWarning: This DataLoader will create 4 worker processes in total. Our suggested max number of worker in current system is 2, which is smaller than what this DataLoader is going to create. Please be aware that excessive worker creation might get DataLoader running slow or even freeze, lower the worker number to avoid potential slowness/freeze if necessary.\n",
            "  cpuset_checked))\n"
          ],
          "name": "stderr"
        },
        {
          "output_type": "stream",
          "text": [
            "train: epoch=1 34.439[s]\n",
            "validate 5.295[s]\n",
            "      train_loss    valid_rmse    epoch\n",
            "--  ------------  ------------  -------\n",
            " 0       1.98304        1.0016        1\n",
            "validation score is improved!! inf -> 1.0016\n",
            "start 2\n"
          ],
          "name": "stdout"
        },
        {
          "output_type": "stream",
          "text": [
            "/usr/local/lib/python3.7/dist-packages/torch/utils/data/dataloader.py:481: UserWarning: This DataLoader will create 4 worker processes in total. Our suggested max number of worker in current system is 2, which is smaller than what this DataLoader is going to create. Please be aware that excessive worker creation might get DataLoader running slow or even freeze, lower the worker number to avoid potential slowness/freeze if necessary.\n",
            "  cpuset_checked))\n"
          ],
          "name": "stderr"
        },
        {
          "output_type": "stream",
          "text": [
            "train: epoch=2 34.715[s]\n",
            "validate 5.154[s]\n",
            "      train_loss    valid_rmse    epoch\n",
            "--  ------------  ------------  -------\n",
            " 0      0.950802      0.972003        2\n",
            "validation score is improved!! 1.0016 -> 0.9720\n",
            "start 3\n"
          ],
          "name": "stdout"
        },
        {
          "output_type": "stream",
          "text": [
            "/usr/local/lib/python3.7/dist-packages/torch/utils/data/dataloader.py:481: UserWarning: This DataLoader will create 4 worker processes in total. Our suggested max number of worker in current system is 2, which is smaller than what this DataLoader is going to create. Please be aware that excessive worker creation might get DataLoader running slow or even freeze, lower the worker number to avoid potential slowness/freeze if necessary.\n",
            "  cpuset_checked))\n"
          ],
          "name": "stderr"
        },
        {
          "output_type": "stream",
          "text": [
            "train: epoch=3 34.650[s]\n",
            "validate 5.256[s]\n",
            "      train_loss    valid_rmse    epoch\n",
            "--  ------------  ------------  -------\n",
            " 0      0.930344      0.968642        3\n",
            "validation score is improved!! 0.9720 -> 0.9686\n",
            "start 4\n"
          ],
          "name": "stdout"
        },
        {
          "output_type": "stream",
          "text": [
            "/usr/local/lib/python3.7/dist-packages/torch/utils/data/dataloader.py:481: UserWarning: This DataLoader will create 4 worker processes in total. Our suggested max number of worker in current system is 2, which is smaller than what this DataLoader is going to create. Please be aware that excessive worker creation might get DataLoader running slow or even freeze, lower the worker number to avoid potential slowness/freeze if necessary.\n",
            "  cpuset_checked))\n"
          ],
          "name": "stderr"
        },
        {
          "output_type": "stream",
          "text": [
            "train: epoch=4 34.826[s]\n",
            "validate 5.178[s]\n",
            "      train_loss    valid_rmse    epoch\n",
            "--  ------------  ------------  -------\n",
            " 0      0.935324        1.0501        4\n",
            "start 5\n"
          ],
          "name": "stdout"
        },
        {
          "output_type": "stream",
          "text": [
            "/usr/local/lib/python3.7/dist-packages/torch/utils/data/dataloader.py:481: UserWarning: This DataLoader will create 4 worker processes in total. Our suggested max number of worker in current system is 2, which is smaller than what this DataLoader is going to create. Please be aware that excessive worker creation might get DataLoader running slow or even freeze, lower the worker number to avoid potential slowness/freeze if necessary.\n",
            "  cpuset_checked))\n"
          ],
          "name": "stderr"
        },
        {
          "output_type": "stream",
          "text": [
            "train: epoch=5 34.685[s]\n",
            "validate 5.201[s]\n",
            "      train_loss    valid_rmse    epoch\n",
            "--  ------------  ------------  -------\n",
            " 0      0.942502       1.00246        5\n",
            "start 1\n"
          ],
          "name": "stdout"
        },
        {
          "output_type": "stream",
          "text": [
            "/usr/local/lib/python3.7/dist-packages/torch/utils/data/dataloader.py:481: UserWarning: This DataLoader will create 4 worker processes in total. Our suggested max number of worker in current system is 2, which is smaller than what this DataLoader is going to create. Please be aware that excessive worker creation might get DataLoader running slow or even freeze, lower the worker number to avoid potential slowness/freeze if necessary.\n",
            "  cpuset_checked))\n"
          ],
          "name": "stderr"
        },
        {
          "output_type": "stream",
          "text": [
            "train: epoch=1 34.578[s]\n",
            "validate 5.098[s]\n",
            "      train_loss    valid_rmse    epoch\n",
            "--  ------------  ------------  -------\n",
            " 0       2.63148       1.03168        1\n",
            "validation score is improved!! inf -> 1.0317\n",
            "start 2\n"
          ],
          "name": "stdout"
        },
        {
          "output_type": "stream",
          "text": [
            "/usr/local/lib/python3.7/dist-packages/torch/utils/data/dataloader.py:481: UserWarning: This DataLoader will create 4 worker processes in total. Our suggested max number of worker in current system is 2, which is smaller than what this DataLoader is going to create. Please be aware that excessive worker creation might get DataLoader running slow or even freeze, lower the worker number to avoid potential slowness/freeze if necessary.\n",
            "  cpuset_checked))\n"
          ],
          "name": "stderr"
        },
        {
          "output_type": "stream",
          "text": [
            "train: epoch=2 34.990[s]\n",
            "validate 5.228[s]\n",
            "      train_loss    valid_rmse    epoch\n",
            "--  ------------  ------------  -------\n",
            " 0      0.975232      0.963842        2\n",
            "validation score is improved!! 1.0317 -> 0.9638\n",
            "start 3\n"
          ],
          "name": "stdout"
        },
        {
          "output_type": "stream",
          "text": [
            "/usr/local/lib/python3.7/dist-packages/torch/utils/data/dataloader.py:481: UserWarning: This DataLoader will create 4 worker processes in total. Our suggested max number of worker in current system is 2, which is smaller than what this DataLoader is going to create. Please be aware that excessive worker creation might get DataLoader running slow or even freeze, lower the worker number to avoid potential slowness/freeze if necessary.\n",
            "  cpuset_checked))\n"
          ],
          "name": "stderr"
        },
        {
          "output_type": "stream",
          "text": [
            "train: epoch=3 34.744[s]\n",
            "validate 5.239[s]\n",
            "      train_loss    valid_rmse    epoch\n",
            "--  ------------  ------------  -------\n",
            " 0      0.961397      0.965709        3\n",
            "start 4\n"
          ],
          "name": "stdout"
        },
        {
          "output_type": "stream",
          "text": [
            "/usr/local/lib/python3.7/dist-packages/torch/utils/data/dataloader.py:481: UserWarning: This DataLoader will create 4 worker processes in total. Our suggested max number of worker in current system is 2, which is smaller than what this DataLoader is going to create. Please be aware that excessive worker creation might get DataLoader running slow or even freeze, lower the worker number to avoid potential slowness/freeze if necessary.\n",
            "  cpuset_checked))\n"
          ],
          "name": "stderr"
        },
        {
          "output_type": "stream",
          "text": [
            "train: epoch=4 34.642[s]\n",
            "validate 5.168[s]\n",
            "      train_loss    valid_rmse    epoch\n",
            "--  ------------  ------------  -------\n",
            " 0      0.959257      0.963779        4\n",
            "validation score is improved!! 0.9638 -> 0.9638\n",
            "start 5\n"
          ],
          "name": "stdout"
        },
        {
          "output_type": "stream",
          "text": [
            "/usr/local/lib/python3.7/dist-packages/torch/utils/data/dataloader.py:481: UserWarning: This DataLoader will create 4 worker processes in total. Our suggested max number of worker in current system is 2, which is smaller than what this DataLoader is going to create. Please be aware that excessive worker creation might get DataLoader running slow or even freeze, lower the worker number to avoid potential slowness/freeze if necessary.\n",
            "  cpuset_checked))\n"
          ],
          "name": "stderr"
        },
        {
          "output_type": "stream",
          "text": [
            "train: epoch=5 34.755[s]\n",
            "validate 5.232[s]\n",
            "      train_loss    valid_rmse    epoch\n",
            "--  ------------  ------------  -------\n",
            " 0      0.965103      0.977872        5\n",
            "start 1\n"
          ],
          "name": "stdout"
        },
        {
          "output_type": "stream",
          "text": [
            "/usr/local/lib/python3.7/dist-packages/torch/utils/data/dataloader.py:481: UserWarning: This DataLoader will create 4 worker processes in total. Our suggested max number of worker in current system is 2, which is smaller than what this DataLoader is going to create. Please be aware that excessive worker creation might get DataLoader running slow or even freeze, lower the worker number to avoid potential slowness/freeze if necessary.\n",
            "  cpuset_checked))\n"
          ],
          "name": "stderr"
        },
        {
          "output_type": "stream",
          "text": [
            "train: epoch=1 34.556[s]\n",
            "validate 5.180[s]\n",
            "      train_loss    valid_rmse    epoch\n",
            "--  ------------  ------------  -------\n",
            " 0       1.98312      0.968541        1\n",
            "validation score is improved!! inf -> 0.9685\n",
            "start 2\n"
          ],
          "name": "stdout"
        },
        {
          "output_type": "stream",
          "text": [
            "/usr/local/lib/python3.7/dist-packages/torch/utils/data/dataloader.py:481: UserWarning: This DataLoader will create 4 worker processes in total. Our suggested max number of worker in current system is 2, which is smaller than what this DataLoader is going to create. Please be aware that excessive worker creation might get DataLoader running slow or even freeze, lower the worker number to avoid potential slowness/freeze if necessary.\n",
            "  cpuset_checked))\n"
          ],
          "name": "stderr"
        },
        {
          "output_type": "stream",
          "text": [
            "train: epoch=2 34.786[s]\n",
            "validate 5.263[s]\n",
            "      train_loss    valid_rmse    epoch\n",
            "--  ------------  ------------  -------\n",
            " 0      0.975694       1.03499        2\n",
            "start 3\n"
          ],
          "name": "stdout"
        },
        {
          "output_type": "stream",
          "text": [
            "/usr/local/lib/python3.7/dist-packages/torch/utils/data/dataloader.py:481: UserWarning: This DataLoader will create 4 worker processes in total. Our suggested max number of worker in current system is 2, which is smaller than what this DataLoader is going to create. Please be aware that excessive worker creation might get DataLoader running slow or even freeze, lower the worker number to avoid potential slowness/freeze if necessary.\n",
            "  cpuset_checked))\n"
          ],
          "name": "stderr"
        },
        {
          "output_type": "stream",
          "text": [
            "train: epoch=3 34.612[s]\n",
            "validate 5.203[s]\n",
            "      train_loss    valid_rmse    epoch\n",
            "--  ------------  ------------  -------\n",
            " 0      0.989796       1.06502        3\n",
            "start 4\n"
          ],
          "name": "stdout"
        },
        {
          "output_type": "stream",
          "text": [
            "/usr/local/lib/python3.7/dist-packages/torch/utils/data/dataloader.py:481: UserWarning: This DataLoader will create 4 worker processes in total. Our suggested max number of worker in current system is 2, which is smaller than what this DataLoader is going to create. Please be aware that excessive worker creation might get DataLoader running slow or even freeze, lower the worker number to avoid potential slowness/freeze if necessary.\n",
            "  cpuset_checked))\n"
          ],
          "name": "stderr"
        },
        {
          "output_type": "stream",
          "text": [
            "train: epoch=4 34.541[s]\n",
            "validate 5.145[s]\n",
            "      train_loss    valid_rmse    epoch\n",
            "--  ------------  ------------  -------\n",
            " 0      0.940584      0.944431        4\n",
            "validation score is improved!! 0.9685 -> 0.9444\n",
            "start 5\n"
          ],
          "name": "stdout"
        },
        {
          "output_type": "stream",
          "text": [
            "/usr/local/lib/python3.7/dist-packages/torch/utils/data/dataloader.py:481: UserWarning: This DataLoader will create 4 worker processes in total. Our suggested max number of worker in current system is 2, which is smaller than what this DataLoader is going to create. Please be aware that excessive worker creation might get DataLoader running slow or even freeze, lower the worker number to avoid potential slowness/freeze if necessary.\n",
            "  cpuset_checked))\n"
          ],
          "name": "stderr"
        },
        {
          "output_type": "stream",
          "text": [
            "train: epoch=5 34.492[s]\n",
            "validate 5.129[s]\n",
            "      train_loss    valid_rmse    epoch\n",
            "--  ------------  ------------  -------\n",
            " 0      0.937881      0.985833        5\n",
            "start 1\n"
          ],
          "name": "stdout"
        },
        {
          "output_type": "stream",
          "text": [
            "/usr/local/lib/python3.7/dist-packages/torch/utils/data/dataloader.py:481: UserWarning: This DataLoader will create 4 worker processes in total. Our suggested max number of worker in current system is 2, which is smaller than what this DataLoader is going to create. Please be aware that excessive worker creation might get DataLoader running slow or even freeze, lower the worker number to avoid potential slowness/freeze if necessary.\n",
            "  cpuset_checked))\n"
          ],
          "name": "stderr"
        },
        {
          "output_type": "stream",
          "text": [
            "train: epoch=1 34.624[s]\n",
            "validate 5.252[s]\n",
            "      train_loss    valid_rmse    epoch\n",
            "--  ------------  ------------  -------\n",
            " 0       3.27201      0.998093        1\n",
            "validation score is improved!! inf -> 0.9981\n",
            "start 2\n"
          ],
          "name": "stdout"
        },
        {
          "output_type": "stream",
          "text": [
            "/usr/local/lib/python3.7/dist-packages/torch/utils/data/dataloader.py:481: UserWarning: This DataLoader will create 4 worker processes in total. Our suggested max number of worker in current system is 2, which is smaller than what this DataLoader is going to create. Please be aware that excessive worker creation might get DataLoader running slow or even freeze, lower the worker number to avoid potential slowness/freeze if necessary.\n",
            "  cpuset_checked))\n"
          ],
          "name": "stderr"
        },
        {
          "output_type": "stream",
          "text": [
            "train: epoch=2 34.717[s]\n",
            "validate 5.210[s]\n",
            "      train_loss    valid_rmse    epoch\n",
            "--  ------------  ------------  -------\n",
            " 0      0.969508      0.969285        2\n",
            "validation score is improved!! 0.9981 -> 0.9693\n",
            "start 3\n"
          ],
          "name": "stdout"
        },
        {
          "output_type": "stream",
          "text": [
            "/usr/local/lib/python3.7/dist-packages/torch/utils/data/dataloader.py:481: UserWarning: This DataLoader will create 4 worker processes in total. Our suggested max number of worker in current system is 2, which is smaller than what this DataLoader is going to create. Please be aware that excessive worker creation might get DataLoader running slow or even freeze, lower the worker number to avoid potential slowness/freeze if necessary.\n",
            "  cpuset_checked))\n"
          ],
          "name": "stderr"
        },
        {
          "output_type": "stream",
          "text": [
            "train: epoch=3 34.728[s]\n",
            "validate 5.222[s]\n",
            "      train_loss    valid_rmse    epoch\n",
            "--  ------------  ------------  -------\n",
            " 0      0.965806      0.949439        3\n",
            "validation score is improved!! 0.9693 -> 0.9494\n",
            "start 4\n"
          ],
          "name": "stdout"
        },
        {
          "output_type": "stream",
          "text": [
            "/usr/local/lib/python3.7/dist-packages/torch/utils/data/dataloader.py:481: UserWarning: This DataLoader will create 4 worker processes in total. Our suggested max number of worker in current system is 2, which is smaller than what this DataLoader is going to create. Please be aware that excessive worker creation might get DataLoader running slow or even freeze, lower the worker number to avoid potential slowness/freeze if necessary.\n",
            "  cpuset_checked))\n"
          ],
          "name": "stderr"
        },
        {
          "output_type": "stream",
          "text": [
            "train: epoch=4 34.691[s]\n",
            "validate 5.197[s]\n",
            "      train_loss    valid_rmse    epoch\n",
            "--  ------------  ------------  -------\n",
            " 0      0.951595      0.918533        4\n",
            "validation score is improved!! 0.9494 -> 0.9185\n",
            "start 5\n"
          ],
          "name": "stdout"
        },
        {
          "output_type": "stream",
          "text": [
            "/usr/local/lib/python3.7/dist-packages/torch/utils/data/dataloader.py:481: UserWarning: This DataLoader will create 4 worker processes in total. Our suggested max number of worker in current system is 2, which is smaller than what this DataLoader is going to create. Please be aware that excessive worker creation might get DataLoader running slow or even freeze, lower the worker number to avoid potential slowness/freeze if necessary.\n",
            "  cpuset_checked))\n"
          ],
          "name": "stderr"
        },
        {
          "output_type": "stream",
          "text": [
            "train: epoch=5 34.749[s]\n",
            "validate 5.110[s]\n",
            "      train_loss    valid_rmse    epoch\n",
            "--  ------------  ------------  -------\n",
            " 0      0.965649      0.926144        5\n",
            "start 1\n"
          ],
          "name": "stdout"
        },
        {
          "output_type": "stream",
          "text": [
            "/usr/local/lib/python3.7/dist-packages/torch/utils/data/dataloader.py:481: UserWarning: This DataLoader will create 4 worker processes in total. Our suggested max number of worker in current system is 2, which is smaller than what this DataLoader is going to create. Please be aware that excessive worker creation might get DataLoader running slow or even freeze, lower the worker number to avoid potential slowness/freeze if necessary.\n",
            "  cpuset_checked))\n"
          ],
          "name": "stderr"
        },
        {
          "output_type": "stream",
          "text": [
            "train: epoch=1 34.870[s]\n",
            "validate 5.193[s]\n",
            "      train_loss    valid_rmse    epoch\n",
            "--  ------------  ------------  -------\n",
            " 0       1.89188       4.04023        1\n",
            "validation score is improved!! inf -> 4.0402\n",
            "start 2\n"
          ],
          "name": "stdout"
        },
        {
          "output_type": "stream",
          "text": [
            "/usr/local/lib/python3.7/dist-packages/torch/utils/data/dataloader.py:481: UserWarning: This DataLoader will create 4 worker processes in total. Our suggested max number of worker in current system is 2, which is smaller than what this DataLoader is going to create. Please be aware that excessive worker creation might get DataLoader running slow or even freeze, lower the worker number to avoid potential slowness/freeze if necessary.\n",
            "  cpuset_checked))\n"
          ],
          "name": "stderr"
        },
        {
          "output_type": "stream",
          "text": [
            "train: epoch=2 34.767[s]\n",
            "validate 5.184[s]\n",
            "      train_loss    valid_rmse    epoch\n",
            "--  ------------  ------------  -------\n",
            " 0      0.972137       0.97187        2\n",
            "validation score is improved!! 4.0402 -> 0.9719\n",
            "start 3\n"
          ],
          "name": "stdout"
        },
        {
          "output_type": "stream",
          "text": [
            "/usr/local/lib/python3.7/dist-packages/torch/utils/data/dataloader.py:481: UserWarning: This DataLoader will create 4 worker processes in total. Our suggested max number of worker in current system is 2, which is smaller than what this DataLoader is going to create. Please be aware that excessive worker creation might get DataLoader running slow or even freeze, lower the worker number to avoid potential slowness/freeze if necessary.\n",
            "  cpuset_checked))\n"
          ],
          "name": "stderr"
        },
        {
          "output_type": "stream",
          "text": [
            "train: epoch=3 34.708[s]\n",
            "validate 5.163[s]\n",
            "      train_loss    valid_rmse    epoch\n",
            "--  ------------  ------------  -------\n",
            " 0      0.970839      0.942754        3\n",
            "validation score is improved!! 0.9719 -> 0.9428\n",
            "start 4\n"
          ],
          "name": "stdout"
        },
        {
          "output_type": "stream",
          "text": [
            "/usr/local/lib/python3.7/dist-packages/torch/utils/data/dataloader.py:481: UserWarning: This DataLoader will create 4 worker processes in total. Our suggested max number of worker in current system is 2, which is smaller than what this DataLoader is going to create. Please be aware that excessive worker creation might get DataLoader running slow or even freeze, lower the worker number to avoid potential slowness/freeze if necessary.\n",
            "  cpuset_checked))\n"
          ],
          "name": "stderr"
        },
        {
          "output_type": "stream",
          "text": [
            "train: epoch=4 34.577[s]\n",
            "validate 5.225[s]\n",
            "      train_loss    valid_rmse    epoch\n",
            "--  ------------  ------------  -------\n",
            " 0      0.968973      0.927128        4\n",
            "validation score is improved!! 0.9428 -> 0.9271\n",
            "start 5\n"
          ],
          "name": "stdout"
        },
        {
          "output_type": "stream",
          "text": [
            "/usr/local/lib/python3.7/dist-packages/torch/utils/data/dataloader.py:481: UserWarning: This DataLoader will create 4 worker processes in total. Our suggested max number of worker in current system is 2, which is smaller than what this DataLoader is going to create. Please be aware that excessive worker creation might get DataLoader running slow or even freeze, lower the worker number to avoid potential slowness/freeze if necessary.\n",
            "  cpuset_checked))\n"
          ],
          "name": "stderr"
        },
        {
          "output_type": "stream",
          "text": [
            "train: epoch=5 34.865[s]\n",
            "validate 5.230[s]\n",
            "      train_loss    valid_rmse    epoch\n",
            "--  ------------  ------------  -------\n",
            " 0      0.945123      0.920481        5\n",
            "validation score is improved!! 0.9271 -> 0.9205\n"
          ],
          "name": "stdout"
        }
      ]
    },
    {
      "cell_type": "markdown",
      "metadata": {
        "id": "saS8QdBBmCrb"
      },
      "source": [
        "FoldOutした予測値でのスコア確認"
      ]
    },
    {
      "cell_type": "code",
      "metadata": {
        "id": "KOJqGiyTk6Dl",
        "colab": {
          "base_uri": "https://localhost:8080/"
        },
        "outputId": "7ed2a351-8d0f-48f3-9ee9-069e18d8c4d3"
      },
      "source": [
        "calculate_metrics(train_df['target'], oof)"
      ],
      "execution_count": 139,
      "outputs": [
        {
          "output_type": "execute_result",
          "data": {
            "text/plain": [
              "{'rmse': 0.9434179154543798}"
            ]
          },
          "metadata": {
            "tags": []
          },
          "execution_count": 139
        }
      ]
    },
    {
      "cell_type": "code",
      "metadata": {
        "id": "TC5-edSemG9j",
        "colab": {
          "base_uri": "https://localhost:8080/",
          "height": 336
        },
        "outputId": "5f865146-a09e-4224-f3c7-ee11bbaff6f5"
      },
      "source": [
        "sns.distplot(oof)"
      ],
      "execution_count": 140,
      "outputs": [
        {
          "output_type": "stream",
          "text": [
            "/usr/local/lib/python3.7/dist-packages/seaborn/distributions.py:2557: FutureWarning: `distplot` is a deprecated function and will be removed in a future version. Please adapt your code to use either `displot` (a figure-level function with similar flexibility) or `histplot` (an axes-level function for histograms).\n",
            "  warnings.warn(msg, FutureWarning)\n"
          ],
          "name": "stderr"
        },
        {
          "output_type": "execute_result",
          "data": {
            "text/plain": [
              "<matplotlib.axes._subplots.AxesSubplot at 0x7f6167565250>"
            ]
          },
          "metadata": {
            "tags": []
          },
          "execution_count": 140
        },
        {
          "output_type": "display_data",
          "data": {
            "image/png": "[encoded data removed]",
            "text/plain": [
              "<Figure size 432x288 with 1 Axes>"
            ]
          },
          "metadata": {
            "tags": [],
            "needs_background": "light"
          }
        }
      ]
    },
    {
      "cell_type": "markdown",
      "metadata": {
        "id": "8jpvLP9vmQ4H"
      },
      "source": [
        "# Submission を作る"
      ]
    },
    {
      "cell_type": "code",
      "metadata": {
        "id": "0ct9wVDBmN9j",
        "colab": {
          "base_uri": "https://localhost:8080/"
        },
        "outputId": "94af4f7f-8ac2-4eb4-a1e9-e2eab439aca4"
      },
      "source": [
        "def create_metadata(input_df):\n",
        "    out_df = input_df[['object_id']].copy()\n",
        "    out_df['object_path'] = input_df['object_id'].map(to_img_path)\n",
        "\n",
        "    if \"target\" in input_df:\n",
        "        out_df[\"target\"] = input_df[\"target\"]\n",
        "\n",
        "    return out_df\n",
        "\n",
        "# train と似たようなことをするので、次回から楽したいとおもって `create_metadata` という関数を作りました\n",
        "test_meta_df = create_metadata(test_df)\n",
        "\n",
        "# 学習時のデータ拡張はオフにしたいので is_train=False としている\n",
        "test_dataset = AtmaDataset(meta_df=test_meta_df, is_train=False)\n",
        "test_loader = data.DataLoader(dataset=test_dataset, batch_size=128, drop_last=False, num_workers=4)"
      ],
      "execution_count": 141,
      "outputs": [
        {
          "output_type": "stream",
          "text": [
            "/usr/local/lib/python3.7/dist-packages/torch/utils/data/dataloader.py:481: UserWarning: This DataLoader will create 4 worker processes in total. Our suggested max number of worker in current system is 2, which is smaller than what this DataLoader is going to create. Please be aware that excessive worker creation might get DataLoader running slow or even freeze, lower the worker number to avoid potential slowness/freeze if necessary.\n",
            "  cpuset_checked))\n"
          ],
          "name": "stderr"
        }
      ]
    },
    {
      "cell_type": "code",
      "metadata": {
        "id": "ySBVCcn_mI4T",
        "colab": {
          "base_uri": "https://localhost:8080/"
        },
        "outputId": "06444681-2571-4e0f-dc3b-c1e5e7291b28"
      },
      "source": [
        "test_predictions = []\n",
        "\n",
        "for i in range(len(cv)):\n",
        "    output_i = get_output_dir(i)#出力先のディレクトリをとってくる。\n",
        "\n",
        "    model = resnet34(pretrained=False)\n",
        "    model.fc = nn.Linear(in_features=512, out_features=1, bias=True)\n",
        "\n",
        "    # 最も良かった重みを読みだす\n",
        "    # https://pytorch.org/tutorials/beginner/saving_loading_models.html\n",
        "    model_path = os.path.join(output_i, 'model_best.pth')\n",
        "\n",
        "    model.load_state_dict(torch.load(model_path))\n",
        "\n",
        "    # GPU環境で予測するため `to` で変換\n",
        "    model.to(DEVICE)\n",
        "\n",
        "    with timer(prefix=f'pred cv={i}'):\n",
        "        y_pred_i = predict(model, loader=test_loader)\n",
        "\n",
        "    test_predictions.append(y_pred_i)"
      ],
      "execution_count": 142,
      "outputs": [
        {
          "output_type": "stream",
          "text": [
            "/usr/local/lib/python3.7/dist-packages/torch/utils/data/dataloader.py:481: UserWarning: This DataLoader will create 4 worker processes in total. Our suggested max number of worker in current system is 2, which is smaller than what this DataLoader is going to create. Please be aware that excessive worker creation might get DataLoader running slow or even freeze, lower the worker number to avoid potential slowness/freeze if necessary.\n",
            "  cpuset_checked))\n"
          ],
          "name": "stderr"
        },
        {
          "output_type": "stream",
          "text": [
            "pred cv=0 22.713[s]\n",
            "pred cv=1 23.088[s]\n",
            "pred cv=2 22.648[s]\n",
            "pred cv=3 22.574[s]\n",
            "pred cv=4 22.881[s]\n"
          ],
          "name": "stdout"
        }
      ]
    },
    {
      "cell_type": "markdown",
      "metadata": {
        "id": "6spq5_BSmhH6"
      },
      "source": [
        "submission file として保存"
      ]
    },
    {
      "cell_type": "code",
      "metadata": {
        "id": "WaujWo-5mmNk"
      },
      "source": [
        "# すべての予測の平均値を使う\n",
        "pred_mean = np.array(test_predictions).mean(axis=0)\n",
        "\n",
        "pd.DataFrame({\n",
        "    \"target\": pred_mean\n",
        "}).to_csv(os.path.join(output_dir, \"0003__submission.csv\"), index=False)"
      ],
      "execution_count": 144,
      "outputs": []
    },
    {
      "cell_type": "code",
      "metadata": {
        "id": "O6CB3u_0LMi4"
      },
      "source": [
        ""
      ],
      "execution_count": null,
      "outputs": []
    }
  ]
}