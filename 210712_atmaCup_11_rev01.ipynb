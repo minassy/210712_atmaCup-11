{
  "nbformat": 4,
  "nbformat_minor": 0,
  "metadata": {
    "colab": {
      "name": "210712_atmaCup#11_rev01.ipynb",
      "provenance": [],
      "collapsed_sections": [
        "E_ZhXGoJuM31"
      ],
      "mount_file_id": "1dfEfxhLsdCrsJPkbeLkZGhjTZlDLAzMz",
      "authorship_tag": "ABX9TyPij6i6DuxMFFKpSdXn2i6B",
      "include_colab_link": true
    },
    "kernelspec": {
      "name": "python3",
      "display_name": "Python 3"
    },
    "language_info": {
      "name": "python"
    },
    "accelerator": "GPU"
  },
  "cells": [
    {
      "cell_type": "markdown",
      "metadata": {
        "id": "view-in-github",
        "colab_type": "text"
      },
      "source": [
        "<a href=\"https://colab.research.google.com/github/minassy/G-Colab/blob/main/210712_atmaCup_11_rev01.ipynb\" target=\"_parent\"><img src=\"https://colab.research.google.com/assets/colab-badge.svg\" alt=\"Open In Colab\"/></a>"
      ]
    },
    {
      "cell_type": "markdown",
      "metadata": {
        "id": "QPZA1lN5t_Tc"
      },
      "source": [
        "# データ準備"
      ]
    },
    {
      "cell_type": "code",
      "metadata": {
        "id": "9C3e8cOnuBk5"
      },
      "source": [
        "import os\n",
        "import zipfile"
      ],
      "execution_count": 1,
      "outputs": []
    },
    {
      "cell_type": "code",
      "metadata": {
        "id": "blydPpDLuHb_",
        "colab": {
          "base_uri": "https://localhost:8080/"
        },
        "outputId": "1d73abb4-e038-4d59-ef8f-7e8823f6ff25"
      },
      "source": [
        "#作業基本ディレクトリ\n",
        "DIR = 'drive/MyDrive/Competition/atmaCup_11'\n",
        "os.listdir(DIR)\n",
        "#os.mkdir(DIR+'/data')"
      ],
      "execution_count": 2,
      "outputs": [
        {
          "output_type": "execute_result",
          "data": {
            "text/plain": [
              "['data']"
            ]
          },
          "metadata": {
            "tags": []
          },
          "execution_count": 2
        }
      ]
    },
    {
      "cell_type": "code",
      "metadata": {
        "id": "pjzlBEwh0Dr-"
      },
      "source": [
        "#データセットの解凍\n",
        "#TARGET_PATH = 'drive/MyDrive/Competition/atmaCup_11/data/dataset_atmaCup11.zip'\n",
        "#OUT_PATH = 'drive/MyDrive/Competition/atmaCup_11/data'\n",
        "#with zipfile.ZipFile(TARGET_PATH, 'r') as f: \n",
        "#  f.extractall(path=OUT_PATH)"
      ],
      "execution_count": 3,
      "outputs": []
    },
    {
      "cell_type": "code",
      "metadata": {
        "id": "Ls1BndJk6uBt"
      },
      "source": [
        "#os.listdir(DIR+'/data')"
      ],
      "execution_count": 4,
      "outputs": []
    },
    {
      "cell_type": "code",
      "metadata": {
        "id": "MUfQk9OT7q1P"
      },
      "source": [
        "#os.mkdir(DIR + '/data/photos')"
      ],
      "execution_count": 5,
      "outputs": []
    },
    {
      "cell_type": "code",
      "metadata": {
        "id": "h-Kjh1_3uJ5d"
      },
      "source": [
        "#photos.zipの解凍\n",
        "#TARGET_PATH = 'drive/MyDrive/Competition/atmaCup_11/data/photos.zip'\n",
        "#OUT_PATH = 'drive/MyDrive/Competition/atmaCup_11/data/photos'\n",
        "#with zipfile.ZipFile(TARGET_PATH, 'r') as f: \n",
        "#  f.extractall(path=OUT_PATH)"
      ],
      "execution_count": 6,
      "outputs": []
    },
    {
      "cell_type": "code",
      "metadata": {
        "colab": {
          "base_uri": "https://localhost:8080/"
        },
        "id": "NNzfSK-k0icx",
        "outputId": "800a015d-3711-434b-d36f-60757462d1b4"
      },
      "source": [
        "#ディレクトリ構造\n",
        "print('基本：', DIR)\n",
        "print('データ：' , DIR+'/data')\n",
        "print('画像データ' , DIR+'/data/photos')"
      ],
      "execution_count": 7,
      "outputs": [
        {
          "output_type": "stream",
          "text": [
            "基本： drive/MyDrive/Competition/atmaCup_11\n",
            "データ： drive/MyDrive/Competition/atmaCup_11/data\n",
            "画像データ drive/MyDrive/Competition/atmaCup_11/data/photos\n"
          ],
          "name": "stdout"
        }
      ]
    },
    {
      "cell_type": "markdown",
      "metadata": {
        "id": "E_ZhXGoJuM31"
      },
      "source": [
        "# データの読み込み"
      ]
    },
    {
      "cell_type": "code",
      "metadata": {
        "id": "n7kXlbFD-0ku"
      },
      "source": [
        "import pandas as pd\n",
        "import numpy as np\n",
        "from glob import glob\n",
        "\n",
        "import matplotlib.pyplot as plt\n",
        "from matplotlib_venn import venn2\n",
        "import seaborn as sns"
      ],
      "execution_count": 8,
      "outputs": []
    },
    {
      "cell_type": "markdown",
      "metadata": {
        "id": "na5k06VZ_QO2"
      },
      "source": [
        "テーブルデータの確認"
      ]
    },
    {
      "cell_type": "code",
      "metadata": {
        "colab": {
          "base_uri": "https://localhost:8080/"
        },
        "id": "T29JNrcZ_pgT",
        "outputId": "a4798e93-bcb4-4cc0-a81b-322d5318b8a4"
      },
      "source": [
        "os.listdir(DIR+'/data')"
      ],
      "execution_count": 9,
      "outputs": [
        {
          "output_type": "execute_result",
          "data": {
            "text/plain": [
              "['dataset_atmaCup11.zip',\n",
              " 'atmaCup#11_sample_submission.csv',\n",
              " 'materials.csv',\n",
              " 'photos.zip',\n",
              " 'techniques.csv',\n",
              " 'test.csv',\n",
              " 'train.csv',\n",
              " 'photos',\n",
              " 'outputs_tutorial#1']"
            ]
          },
          "metadata": {
            "tags": []
          },
          "execution_count": 9
        }
      ]
    },
    {
      "cell_type": "code",
      "metadata": {
        "id": "MPz6gVAB_IOu"
      },
      "source": [
        "DIR_DATA = DIR+ '/data'\n",
        "train_df = pd.read_csv(DIR_DATA+ '/train.csv')\n",
        "test_df = pd.read_csv(DIR_DATA+ '/test.csv')\n",
        "material_df = pd.read_csv(DIR_DATA+ '/materials.csv')\n",
        "technique_df = pd.read_csv(DIR_DATA+ '/techniques.csv')"
      ],
      "execution_count": 10,
      "outputs": []
    },
    {
      "cell_type": "markdown",
      "metadata": {
        "id": "lcwkQppybACY"
      },
      "source": [
        "# データ理解(tabular)"
      ]
    },
    {
      "cell_type": "code",
      "metadata": {
        "id": "V7OZMT2XA1Vi"
      },
      "source": [
        "from matplotlib_venn import venn2"
      ],
      "execution_count": 11,
      "outputs": []
    },
    {
      "cell_type": "code",
      "metadata": {
        "id": "fU0lbajz_iLB"
      },
      "source": [
        "#学習データ、テストデータ、マテリアル、テクニック\n",
        "Dataframe = technique_df\n",
        "#Dataframe.shape\n",
        "#Dataframe.columns\n",
        "#Dataframe.head()\n",
        "#Dataframe.info()\n",
        "#Dataframe.isnull().sum()"
      ],
      "execution_count": 12,
      "outputs": []
    },
    {
      "cell_type": "markdown",
      "metadata": {
        "id": "nlkNTr7zB1v8"
      },
      "source": [
        "・レコード数：学習d 3937、テストd 5919、マテリアル 9081、テクニック 3777  \n",
        "・キー列は、オブジェクト(絵)のID\n"
      ]
    },
    {
      "cell_type": "markdown",
      "metadata": {
        "id": "KE3uUoyGa6R4"
      },
      "source": [
        "マテリアル・テクニックのデータは、学習データのみに付与されている。これを確認する。"
      ]
    },
    {
      "cell_type": "code",
      "metadata": {
        "colab": {
          "base_uri": "https://localhost:8080/",
          "height": 323
        },
        "id": "KAchx2-NAzjj",
        "outputId": "44e1cc81-6f28-4543-e6b5-9e7787a43de7"
      },
      "source": [
        "#テクニックのデータ\n",
        "input_df = technique_df\n",
        "\n",
        "fig, axes = plt.subplots(figsize=(12, 5), ncols=2)\n",
        "\n",
        "venn2(subsets = (set(train_df['object_id']), set(input_df['object_id'])),\n",
        "      set_labels=('train', 'input'), ax=axes[0])\n",
        "\n",
        "venn2(subsets = (set(test_df['object_id']), set(input_df['object_id'])),\n",
        "      set_labels=('test', 'input'), ax=axes[1])"
      ],
      "execution_count": 13,
      "outputs": [
        {
          "output_type": "execute_result",
          "data": {
            "text/plain": [
              "<matplotlib_venn._common.VennDiagram at 0x7fdb24742bd0>"
            ]
          },
          "metadata": {
            "tags": []
          },
          "execution_count": 13
        },
        {
          "output_type": "display_data",
          "data": {
            "image/png": "[encoded data removed]",
            "text/plain": [
              "<Figure size 864x360 with 2 Axes>"
            ]
          },
          "metadata": {
            "tags": []
          }
        }
      ]
    },
    {
      "cell_type": "markdown",
      "metadata": {
        "id": "flsLBeKLDFTC"
      },
      "source": [
        "・テクニックのデータは、学習データにのみ含まれている。(ただし、一部のみ)  \n",
        "・テストデータには、テクニックのデータはなし。⇒この特徴量は使えるのか？"
      ]
    },
    {
      "cell_type": "code",
      "metadata": {
        "colab": {
          "base_uri": "https://localhost:8080/",
          "height": 324
        },
        "id": "6jdEaPFBBt8o",
        "outputId": "1d84825c-14bb-40e2-87b2-dd7524b14e26"
      },
      "source": [
        "#マテリアルのデータ\n",
        "input_df = material_df\n",
        "\n",
        "fig, axes = plt.subplots(figsize=(12, 5), ncols=2)\n",
        "\n",
        "venn2(subsets = (set(train_df['object_id']), set(input_df['object_id'])),\n",
        "      set_labels=('train', 'input'), ax=axes[0])\n",
        "\n",
        "venn2(subsets = (set(test_df['object_id']), set(input_df['object_id'])),\n",
        "      set_labels=('test', 'input'), ax=axes[1])"
      ],
      "execution_count": 14,
      "outputs": [
        {
          "output_type": "execute_result",
          "data": {
            "text/plain": [
              "<matplotlib_venn._common.VennDiagram at 0x7fdb24724490>"
            ]
          },
          "metadata": {
            "tags": []
          },
          "execution_count": 14
        },
        {
          "output_type": "display_data",
          "data": {
            "image/png": "[encoded data removed]",
            "text/plain": [
              "<Figure size 864x360 with 2 Axes>"
            ]
          },
          "metadata": {
            "tags": []
          }
        }
      ]
    },
    {
      "cell_type": "markdown",
      "metadata": {
        "id": "gc_xUp_MDsOq"
      },
      "source": [
        "・マテリアルのデータは、学習データすべてに付与できる。  \n",
        "・テストデータには一切含まれていない。⇒特徴量として意味あるか？"
      ]
    },
    {
      "cell_type": "markdown",
      "metadata": {
        "id": "YO6Y9ENhD9n5"
      },
      "source": [
        "予測対象データ(target)の確認"
      ]
    },
    {
      "cell_type": "code",
      "metadata": {
        "colab": {
          "base_uri": "https://localhost:8080/",
          "height": 204
        },
        "id": "7OemAhW7DZXF",
        "outputId": "ff0ed2ba-334e-42d5-ba13-b78626921421"
      },
      "source": [
        "train_df.head()"
      ],
      "execution_count": 15,
      "outputs": [
        {
          "output_type": "execute_result",
          "data": {
            "text/html": [
              "<div>\n",
              "<style scoped>\n",
              "    .dataframe tbody tr th:only-of-type {\n",
              "        vertical-align: middle;\n",
              "    }\n",
              "\n",
              "    .dataframe tbody tr th {\n",
              "        vertical-align: top;\n",
              "    }\n",
              "\n",
              "    .dataframe thead th {\n",
              "        text-align: right;\n",
              "    }\n",
              "</style>\n",
              "<table border=\"1\" class=\"dataframe\">\n",
              "  <thead>\n",
              "    <tr style=\"text-align: right;\">\n",
              "      <th></th>\n",
              "      <th>object_id</th>\n",
              "      <th>sorting_date</th>\n",
              "      <th>art_series_id</th>\n",
              "      <th>target</th>\n",
              "    </tr>\n",
              "  </thead>\n",
              "  <tbody>\n",
              "    <tr>\n",
              "      <th>0</th>\n",
              "      <td>002bff09b09998d0be65</td>\n",
              "      <td>1631</td>\n",
              "      <td>509357f67692a6a45626</td>\n",
              "      <td>1</td>\n",
              "    </tr>\n",
              "    <tr>\n",
              "      <th>1</th>\n",
              "      <td>00309fb1ef05416f9c1f</td>\n",
              "      <td>1900</td>\n",
              "      <td>7987b47bbe5dc3039179</td>\n",
              "      <td>3</td>\n",
              "    </tr>\n",
              "    <tr>\n",
              "      <th>2</th>\n",
              "      <td>003a1562e97f79ba96dc</td>\n",
              "      <td>1834</td>\n",
              "      <td>ded7c3c9636708e5b14c</td>\n",
              "      <td>3</td>\n",
              "    </tr>\n",
              "    <tr>\n",
              "      <th>3</th>\n",
              "      <td>004890880e8e7431147b</td>\n",
              "      <td>1743</td>\n",
              "      <td>582ac2d7f0cef195b605</td>\n",
              "      <td>2</td>\n",
              "    </tr>\n",
              "    <tr>\n",
              "      <th>4</th>\n",
              "      <td>00718c32602425f504c1</td>\n",
              "      <td>1885</td>\n",
              "      <td>64c907f0c08dce4fb8e8</td>\n",
              "      <td>3</td>\n",
              "    </tr>\n",
              "  </tbody>\n",
              "</table>\n",
              "</div>"
            ],
            "text/plain": [
              "              object_id  sorting_date         art_series_id  target\n",
              "0  002bff09b09998d0be65          1631  509357f67692a6a45626       1\n",
              "1  00309fb1ef05416f9c1f          1900  7987b47bbe5dc3039179       3\n",
              "2  003a1562e97f79ba96dc          1834  ded7c3c9636708e5b14c       3\n",
              "3  004890880e8e7431147b          1743  582ac2d7f0cef195b605       2\n",
              "4  00718c32602425f504c1          1885  64c907f0c08dce4fb8e8       3"
            ]
          },
          "metadata": {
            "tags": []
          },
          "execution_count": 15
        }
      ]
    },
    {
      "cell_type": "code",
      "metadata": {
        "colab": {
          "base_uri": "https://localhost:8080/",
          "height": 279
        },
        "id": "05dfyithEFaf",
        "outputId": "40d70b1c-8f18-4cbe-c41a-43e28c6fcd72"
      },
      "source": [
        "fig, ax = plt.subplots(figsize=(8, 4))\n",
        "sns.countplot(data=train_df, x='target', ax=ax)\n",
        "ax.grid()"
      ],
      "execution_count": 16,
      "outputs": [
        {
          "output_type": "display_data",
          "data": {
            "image/png": "[encoded data removed]",
            "text/plain": [
              "<Figure size 576x288 with 1 Axes>"
            ]
          },
          "metadata": {
            "tags": [],
            "needs_background": "light"
          }
        }
      ]
    },
    {
      "cell_type": "code",
      "metadata": {
        "colab": {
          "base_uri": "https://localhost:8080/"
        },
        "id": "nVC7WC9pFKmB",
        "outputId": "7d06fb8d-8ede-4798-c6e7-16962096e5bd"
      },
      "source": [
        "train_df['target'].value_counts().sort_index()"
      ],
      "execution_count": 17,
      "outputs": [
        {
          "output_type": "execute_result",
          "data": {
            "text/plain": [
              "0     475\n",
              "1     896\n",
              "2    1511\n",
              "3    1055\n",
              "Name: target, dtype: int64"
            ]
          },
          "metadata": {
            "tags": []
          },
          "execution_count": 17
        }
      ]
    },
    {
      "cell_type": "markdown",
      "metadata": {
        "id": "eq2wHLCnEd3c"
      },
      "source": [
        "・targetは、次の順で多い 2 > 3 > 1 > 0  \n",
        "・年代推定なので、恐らく'sorting_date'によってカテゴリが振られていると推定。  \n",
        "  (多分、0が一番若く、3が一番新しい)"
      ]
    },
    {
      "cell_type": "code",
      "metadata": {
        "colab": {
          "base_uri": "https://localhost:8080/",
          "height": 279
        },
        "id": "NYmfMnP3EXGS",
        "outputId": "1dceb286-6eaf-4c2a-99dd-acba7e36ba4d"
      },
      "source": [
        "fig, ax = plt.subplots(figsize=(8 ,4))\n",
        "sns.boxenplot(data=train_df, x='target', y='sorting_date', ax=ax)\n",
        "ax.grid()"
      ],
      "execution_count": 18,
      "outputs": [
        {
          "output_type": "display_data",
          "data": {
            "image/png": "[encoded data removed]",
            "text/plain": [
              "<Figure size 576x288 with 1 Axes>"
            ]
          },
          "metadata": {
            "tags": [],
            "needs_background": "light"
          }
        }
      ]
    },
    {
      "cell_type": "code",
      "metadata": {
        "colab": {
          "base_uri": "https://localhost:8080/",
          "height": 204
        },
        "id": "VJJLzP-wHtip",
        "outputId": "9634ba56-1cc4-4250-8a25-4be4b7aa5f87"
      },
      "source": [
        "#ピボットテーブル作成\n",
        "train_df.groupby('target')['sorting_date'].agg(['min', 'max', 'median', 'size'])"
      ],
      "execution_count": 19,
      "outputs": [
        {
          "output_type": "execute_result",
          "data": {
            "text/html": [
              "<div>\n",
              "<style scoped>\n",
              "    .dataframe tbody tr th:only-of-type {\n",
              "        vertical-align: middle;\n",
              "    }\n",
              "\n",
              "    .dataframe tbody tr th {\n",
              "        vertical-align: top;\n",
              "    }\n",
              "\n",
              "    .dataframe thead th {\n",
              "        text-align: right;\n",
              "    }\n",
              "</style>\n",
              "<table border=\"1\" class=\"dataframe\">\n",
              "  <thead>\n",
              "    <tr style=\"text-align: right;\">\n",
              "      <th></th>\n",
              "      <th>min</th>\n",
              "      <th>max</th>\n",
              "      <th>median</th>\n",
              "      <th>size</th>\n",
              "    </tr>\n",
              "    <tr>\n",
              "      <th>target</th>\n",
              "      <th></th>\n",
              "      <th></th>\n",
              "      <th></th>\n",
              "      <th></th>\n",
              "    </tr>\n",
              "  </thead>\n",
              "  <tbody>\n",
              "    <tr>\n",
              "      <th>0</th>\n",
              "      <td>1440</td>\n",
              "      <td>1600</td>\n",
              "      <td>1574</td>\n",
              "      <td>475</td>\n",
              "    </tr>\n",
              "    <tr>\n",
              "      <th>1</th>\n",
              "      <td>1601</td>\n",
              "      <td>1700</td>\n",
              "      <td>1655</td>\n",
              "      <td>896</td>\n",
              "    </tr>\n",
              "    <tr>\n",
              "      <th>2</th>\n",
              "      <td>1701</td>\n",
              "      <td>1800</td>\n",
              "      <td>1770</td>\n",
              "      <td>1511</td>\n",
              "    </tr>\n",
              "    <tr>\n",
              "      <th>3</th>\n",
              "      <td>1801</td>\n",
              "      <td>1991</td>\n",
              "      <td>1841</td>\n",
              "      <td>1055</td>\n",
              "    </tr>\n",
              "  </tbody>\n",
              "</table>\n",
              "</div>"
            ],
            "text/plain": [
              "         min   max  median  size\n",
              "target                          \n",
              "0       1440  1600    1574   475\n",
              "1       1601  1700    1655   896\n",
              "2       1701  1800    1770  1511\n",
              "3       1801  1991    1841  1055"
            ]
          },
          "metadata": {
            "tags": []
          },
          "execution_count": 19
        }
      ]
    },
    {
      "cell_type": "markdown",
      "metadata": {
        "id": "7-yFk7LMIUMC"
      },
      "source": [
        "・テストデータはオブジェクトIDしかもたないため、これまでみてきた付属データを使った予測はできない。  \n",
        "⇒画像によりその年代を推定するという問題になっている。  \n",
        "⇒予測に使えるメタ情報は、'sorting_date'。  \n",
        "⇒画像から'sorting_date'を予測し、最終的には'target'にカテゴリ分けをして提出するタスク。"
      ]
    },
    {
      "cell_type": "markdown",
      "metadata": {
        "id": "BZe3iFeKJDhZ"
      },
      "source": [
        "# 画像データを使用したモデルの作成"
      ]
    },
    {
      "cell_type": "code",
      "metadata": {
        "id": "Xtb-zVhVp9zF",
        "colab": {
          "base_uri": "https://localhost:8080/"
        },
        "outputId": "2490e42b-952d-414c-80f9-4c78fb5d2f90"
      },
      "source": [
        "#!pip install ipyplot\n",
        "!pip install python-vivid"
      ],
      "execution_count": 20,
      "outputs": [
        {
          "output_type": "stream",
          "text": [
            "Collecting python-vivid\n",
            "  Downloading python_vivid-0.3.3.4-py3-none-any.whl (76 kB)\n",
            "\u001b[?25l\r\u001b[K     |████▎                           | 10 kB 39.8 MB/s eta 0:00:01\r\u001b[K     |████████▋                       | 20 kB 46.0 MB/s eta 0:00:01\r\u001b[K     |████████████▉                   | 30 kB 44.6 MB/s eta 0:00:01\r\u001b[K     |█████████████████▏              | 40 kB 48.5 MB/s eta 0:00:01\r\u001b[K     |█████████████████████▍          | 51 kB 33.2 MB/s eta 0:00:01\r\u001b[K     |█████████████████████████▊      | 61 kB 27.3 MB/s eta 0:00:01\r\u001b[K     |██████████████████████████████  | 71 kB 29.4 MB/s eta 0:00:01\r\u001b[K     |████████████████████████████████| 76 kB 6.4 MB/s \n",
            "\u001b[?25hRequirement already satisfied: tabulate in /usr/local/lib/python3.7/dist-packages (from python-vivid) (0.8.9)\n",
            "Requirement already satisfied: tqdm in /usr/local/lib/python3.7/dist-packages (from python-vivid) (4.41.1)\n",
            "Requirement already satisfied: joblib in /usr/local/lib/python3.7/dist-packages (from python-vivid) (1.0.1)\n",
            "Requirement already satisfied: scipy in /usr/local/lib/python3.7/dist-packages (from python-vivid) (1.4.1)\n",
            "Requirement already satisfied: matplotlib in /usr/local/lib/python3.7/dist-packages (from python-vivid) (3.2.2)\n",
            "Requirement already satisfied: numpy in /usr/local/lib/python3.7/dist-packages (from python-vivid) (1.19.5)\n",
            "Requirement already satisfied: lightgbm in /usr/local/lib/python3.7/dist-packages (from python-vivid) (2.2.3)\n",
            "Requirement already satisfied: xgboost in /usr/local/lib/python3.7/dist-packages (from python-vivid) (0.90)\n",
            "Requirement already satisfied: networkx in /usr/local/lib/python3.7/dist-packages (from python-vivid) (2.5.1)\n",
            "Collecting optuna\n",
            "  Downloading optuna-2.8.0-py3-none-any.whl (301 kB)\n",
            "\u001b[?25l\r\u001b[K     |█                               | 10 kB 46.7 MB/s eta 0:00:01\r\u001b[K     |██▏                             | 20 kB 52.6 MB/s eta 0:00:01\r\u001b[K     |███▎                            | 30 kB 56.9 MB/s eta 0:00:01\r\u001b[K     |████▍                           | 40 kB 60.0 MB/s eta 0:00:01\r\u001b[K     |█████▍                          | 51 kB 58.9 MB/s eta 0:00:01\r\u001b[K     |██████▌                         | 61 kB 56.3 MB/s eta 0:00:01\r\u001b[K     |███████▋                        | 71 kB 54.5 MB/s eta 0:00:01\r\u001b[K     |████████▊                       | 81 kB 53.0 MB/s eta 0:00:01\r\u001b[K     |█████████▊                      | 92 kB 53.2 MB/s eta 0:00:01\r\u001b[K     |██████████▉                     | 102 kB 53.9 MB/s eta 0:00:01\r\u001b[K     |████████████                    | 112 kB 53.9 MB/s eta 0:00:01\r\u001b[K     |█████████████                   | 122 kB 53.9 MB/s eta 0:00:01\r\u001b[K     |██████████████                  | 133 kB 53.9 MB/s eta 0:00:01\r\u001b[K     |███████████████▏                | 143 kB 53.9 MB/s eta 0:00:01\r\u001b[K     |████████████████▎               | 153 kB 53.9 MB/s eta 0:00:01\r\u001b[K     |█████████████████▍              | 163 kB 53.9 MB/s eta 0:00:01\r\u001b[K     |██████████████████▌             | 174 kB 53.9 MB/s eta 0:00:01\r\u001b[K     |███████████████████▌            | 184 kB 53.9 MB/s eta 0:00:01\r\u001b[K     |████████████████████▋           | 194 kB 53.9 MB/s eta 0:00:01\r\u001b[K     |█████████████████████▊          | 204 kB 53.9 MB/s eta 0:00:01\r\u001b[K     |██████████████████████▉         | 215 kB 53.9 MB/s eta 0:00:01\r\u001b[K     |███████████████████████▉        | 225 kB 53.9 MB/s eta 0:00:01\r\u001b[K     |█████████████████████████       | 235 kB 53.9 MB/s eta 0:00:01\r\u001b[K     |██████████████████████████      | 245 kB 53.9 MB/s eta 0:00:01\r\u001b[K     |███████████████████████████▏    | 256 kB 53.9 MB/s eta 0:00:01\r\u001b[K     |████████████████████████████▏   | 266 kB 53.9 MB/s eta 0:00:01\r\u001b[K     |█████████████████████████████▎  | 276 kB 53.9 MB/s eta 0:00:01\r\u001b[K     |██████████████████████████████▍ | 286 kB 53.9 MB/s eta 0:00:01\r\u001b[K     |███████████████████████████████▌| 296 kB 53.9 MB/s eta 0:00:01\r\u001b[K     |████████████████████████████████| 301 kB 53.9 MB/s \n",
            "\u001b[?25hRequirement already satisfied: seaborn in /usr/local/lib/python3.7/dist-packages (from python-vivid) (0.11.1)\n",
            "Requirement already satisfied: pandas in /usr/local/lib/python3.7/dist-packages (from python-vivid) (1.1.5)\n",
            "Requirement already satisfied: feather-format in /usr/local/lib/python3.7/dist-packages (from python-vivid) (0.4.1)\n",
            "Requirement already satisfied: scikit-learn in /usr/local/lib/python3.7/dist-packages (from python-vivid) (0.22.2.post1)\n",
            "Requirement already satisfied: pyarrow>=0.4.0 in /usr/local/lib/python3.7/dist-packages (from feather-format->python-vivid) (3.0.0)\n",
            "Requirement already satisfied: cycler>=0.10 in /usr/local/lib/python3.7/dist-packages (from matplotlib->python-vivid) (0.10.0)\n",
            "Requirement already satisfied: python-dateutil>=2.1 in /usr/local/lib/python3.7/dist-packages (from matplotlib->python-vivid) (2.8.1)\n",
            "Requirement already satisfied: kiwisolver>=1.0.1 in /usr/local/lib/python3.7/dist-packages (from matplotlib->python-vivid) (1.3.1)\n",
            "Requirement already satisfied: pyparsing!=2.0.4,!=2.1.2,!=2.1.6,>=2.0.1 in /usr/local/lib/python3.7/dist-packages (from matplotlib->python-vivid) (2.4.7)\n",
            "Requirement already satisfied: six in /usr/local/lib/python3.7/dist-packages (from cycler>=0.10->matplotlib->python-vivid) (1.15.0)\n",
            "Requirement already satisfied: decorator<5,>=4.3 in /usr/local/lib/python3.7/dist-packages (from networkx->python-vivid) (4.4.2)\n",
            "Collecting cmaes>=0.8.2\n",
            "  Downloading cmaes-0.8.2-py3-none-any.whl (15 kB)\n",
            "Requirement already satisfied: packaging>=20.0 in /usr/local/lib/python3.7/dist-packages (from optuna->python-vivid) (21.0)\n",
            "Collecting colorlog\n",
            "  Downloading colorlog-5.0.1-py2.py3-none-any.whl (10 kB)\n",
            "Collecting cliff\n",
            "  Downloading cliff-3.8.0-py3-none-any.whl (80 kB)\n",
            "\u001b[K     |████████████████████████████████| 80 kB 12.6 MB/s \n",
            "\u001b[?25hCollecting alembic\n",
            "  Downloading alembic-1.6.5-py2.py3-none-any.whl (164 kB)\n",
            "\u001b[K     |████████████████████████████████| 164 kB 82.5 MB/s \n",
            "\u001b[?25hRequirement already satisfied: sqlalchemy>=1.1.0 in /usr/local/lib/python3.7/dist-packages (from optuna->python-vivid) (1.4.20)\n",
            "Requirement already satisfied: greenlet!=0.4.17 in /usr/local/lib/python3.7/dist-packages (from sqlalchemy>=1.1.0->optuna->python-vivid) (1.1.0)\n",
            "Requirement already satisfied: importlib-metadata in /usr/local/lib/python3.7/dist-packages (from sqlalchemy>=1.1.0->optuna->python-vivid) (4.6.1)\n",
            "Collecting python-editor>=0.3\n",
            "  Downloading python_editor-1.0.4-py3-none-any.whl (4.9 kB)\n",
            "Collecting Mako\n",
            "  Downloading Mako-1.1.4-py2.py3-none-any.whl (75 kB)\n",
            "\u001b[K     |████████████████████████████████| 75 kB 6.7 MB/s \n",
            "\u001b[?25hCollecting cmd2>=1.0.0\n",
            "  Downloading cmd2-2.1.2-py3-none-any.whl (141 kB)\n",
            "\u001b[K     |████████████████████████████████| 141 kB 75.3 MB/s \n",
            "\u001b[?25hRequirement already satisfied: PyYAML>=3.12 in /usr/local/lib/python3.7/dist-packages (from cliff->optuna->python-vivid) (3.13)\n",
            "Collecting stevedore>=2.0.1\n",
            "  Downloading stevedore-3.3.0-py3-none-any.whl (49 kB)\n",
            "\u001b[K     |████████████████████████████████| 49 kB 8.9 MB/s \n",
            "\u001b[?25hCollecting pbr!=2.1.0,>=2.0.0\n",
            "  Downloading pbr-5.6.0-py2.py3-none-any.whl (111 kB)\n",
            "\u001b[K     |████████████████████████████████| 111 kB 79.6 MB/s \n",
            "\u001b[?25hRequirement already satisfied: PrettyTable>=0.7.2 in /usr/local/lib/python3.7/dist-packages (from cliff->optuna->python-vivid) (2.1.0)\n",
            "Requirement already satisfied: attrs>=16.3.0 in /usr/local/lib/python3.7/dist-packages (from cmd2>=1.0.0->cliff->optuna->python-vivid) (21.2.0)\n",
            "Collecting colorama>=0.3.7\n",
            "  Downloading colorama-0.4.4-py2.py3-none-any.whl (16 kB)\n",
            "Requirement already satisfied: wcwidth>=0.1.7 in /usr/local/lib/python3.7/dist-packages (from cmd2>=1.0.0->cliff->optuna->python-vivid) (0.2.5)\n",
            "Requirement already satisfied: typing-extensions in /usr/local/lib/python3.7/dist-packages (from cmd2>=1.0.0->cliff->optuna->python-vivid) (3.7.4.3)\n",
            "Collecting pyperclip>=1.6\n",
            "  Downloading pyperclip-1.8.2.tar.gz (20 kB)\n",
            "Requirement already satisfied: zipp>=0.5 in /usr/local/lib/python3.7/dist-packages (from importlib-metadata->sqlalchemy>=1.1.0->optuna->python-vivid) (3.5.0)\n",
            "Requirement already satisfied: MarkupSafe>=0.9.2 in /usr/local/lib/python3.7/dist-packages (from Mako->alembic->optuna->python-vivid) (2.0.1)\n",
            "Requirement already satisfied: pytz>=2017.2 in /usr/local/lib/python3.7/dist-packages (from pandas->python-vivid) (2018.9)\n",
            "Building wheels for collected packages: pyperclip\n",
            "  Building wheel for pyperclip (setup.py) ... \u001b[?25l\u001b[?25hdone\n",
            "  Created wheel for pyperclip: filename=pyperclip-1.8.2-py3-none-any.whl size=11137 sha256=67f688db83155999548d8be78d06587a3d40362258fe1deb339ac81edc7838d8\n",
            "  Stored in directory: /root/.cache/pip/wheels/9f/18/84/8f69f8b08169c7bae2dde6bd7daf0c19fca8c8e500ee620a28\n",
            "Successfully built pyperclip\n",
            "Installing collected packages: pyperclip, pbr, colorama, stevedore, python-editor, Mako, cmd2, colorlog, cmaes, cliff, alembic, optuna, python-vivid\n",
            "Successfully installed Mako-1.1.4 alembic-1.6.5 cliff-3.8.0 cmaes-0.8.2 cmd2-2.1.2 colorama-0.4.4 colorlog-5.0.1 optuna-2.8.0 pbr-5.6.0 pyperclip-1.8.2 python-editor-1.0.4 python-vivid-0.3.3.4 stevedore-3.3.0\n"
          ],
          "name": "stdout"
        }
      ]
    },
    {
      "cell_type": "code",
      "metadata": {
        "id": "G9GcHWlJH6m1",
        "colab": {
          "base_uri": "https://localhost:8080/",
          "height": 372
        },
        "outputId": "11b4a31e-98a0-447b-9165-ac568f0deda8"
      },
      "source": [
        "import ipyplot\n",
        "\n",
        "from PIL import Image\n",
        "\n",
        "from torchvision import transforms as T\n",
        "\n",
        "import torch\n",
        "from torchvision.models import resnet34\n",
        "from torch import nn\n",
        "\n",
        "from torch.optim import Adam\n",
        "from torch.utils import data\n",
        "\n",
        "from torch.optim.optimizer import Optimizer\n",
        "from collections import defaultdict\n",
        "\n",
        "from vivid.utils import timer\n",
        "\n",
        "from sklearn.model_selection import KFold\n",
        "from sklearn.metrics import mean_squared_error\n",
        "\n",
        "from tabulate import tabulate"
      ],
      "execution_count": 21,
      "outputs": [
        {
          "output_type": "error",
          "ename": "ModuleNotFoundError",
          "evalue": "ignored",
          "traceback": [
            "\u001b[0;31m---------------------------------------------------------------------------\u001b[0m",
            "\u001b[0;31mModuleNotFoundError\u001b[0m                       Traceback (most recent call last)",
            "\u001b[0;32m<ipython-input-21-bf886c080c2c>\u001b[0m in \u001b[0;36m<module>\u001b[0;34m()\u001b[0m\n\u001b[0;32m----> 1\u001b[0;31m \u001b[0;32mimport\u001b[0m \u001b[0mipyplot\u001b[0m\u001b[0;34m\u001b[0m\u001b[0;34m\u001b[0m\u001b[0m\n\u001b[0m\u001b[1;32m      2\u001b[0m \u001b[0;34m\u001b[0m\u001b[0m\n\u001b[1;32m      3\u001b[0m \u001b[0;32mfrom\u001b[0m \u001b[0mPIL\u001b[0m \u001b[0;32mimport\u001b[0m \u001b[0mImage\u001b[0m\u001b[0;34m\u001b[0m\u001b[0;34m\u001b[0m\u001b[0m\n\u001b[1;32m      4\u001b[0m \u001b[0;34m\u001b[0m\u001b[0m\n\u001b[1;32m      5\u001b[0m \u001b[0;32mfrom\u001b[0m \u001b[0mtorchvision\u001b[0m \u001b[0;32mimport\u001b[0m \u001b[0mtransforms\u001b[0m \u001b[0;32mas\u001b[0m \u001b[0mT\u001b[0m\u001b[0;34m\u001b[0m\u001b[0;34m\u001b[0m\u001b[0m\n",
            "\u001b[0;31mModuleNotFoundError\u001b[0m: No module named 'ipyplot'",
            "",
            "\u001b[0;31m---------------------------------------------------------------------------\u001b[0;32m\nNOTE: If your import is failing due to a missing package, you can\nmanually install dependencies using either !pip or !apt.\n\nTo view examples of installing some common dependencies, click the\n\"Open Examples\" button below.\n\u001b[0;31m---------------------------------------------------------------------------\u001b[0m\n"
          ]
        }
      ]
    },
    {
      "cell_type": "markdown",
      "metadata": {
        "id": "aSiBti06Jivx"
      },
      "source": [
        "画像データの読み込み"
      ]
    },
    {
      "cell_type": "code",
      "metadata": {
        "id": "fRFv42h4JTfq"
      },
      "source": [
        "photo_dir = DIR+'/data/photos'\n",
        "#画像ファイルのパス設定の関数\n",
        "def to_img_path(object_id):\n",
        "  return os.path.join(photo_dir, f'{object_id}.jpg')"
      ],
      "execution_count": 22,
      "outputs": []
    },
    {
      "cell_type": "code",
      "metadata": {
        "id": "1RipFRSgKSMx"
      },
      "source": [
        "#画像ファイル読み込みの関数\n",
        "def read_image(object_id):\n",
        "  return Image.open(to_img_path(object_id))"
      ],
      "execution_count": 23,
      "outputs": []
    },
    {
      "cell_type": "code",
      "metadata": {
        "colab": {
          "base_uri": "https://localhost:8080/"
        },
        "id": "DI2bLI1ILfkh",
        "outputId": "cbd58ed7-4675-433e-fbcb-4fb4ec07f5db"
      },
      "source": [
        "#画像ファイル数\n",
        "print(sum(os.path.isfile(os.path.join(photo_dir, name)) for name in os.listdir(photo_dir)), '枚')"
      ],
      "execution_count": 24,
      "outputs": [
        {
          "output_type": "stream",
          "text": [
            "9856 枚\n"
          ],
          "name": "stdout"
        }
      ]
    },
    {
      "cell_type": "code",
      "metadata": {
        "id": "D_7FAiEApyKh"
      },
      "source": [
        "#画像一覧を見る。\n",
        "plots = train_df[train_df['target'] == 0].sample(30)['object_id'].map(lambda x: photo_dir + x + '.jpg').values"
      ],
      "execution_count": 25,
      "outputs": []
    },
    {
      "cell_type": "code",
      "metadata": {
        "colab": {
          "base_uri": "https://localhost:8080/",
          "height": 168
        },
        "id": "wet2gTesqkVL",
        "outputId": "a565f6dc-006f-4b5c-a54b-f2e24b3eea25"
      },
      "source": [
        "ipyplot.plot_images(plots)"
      ],
      "execution_count": 26,
      "outputs": [
        {
          "output_type": "error",
          "ename": "NameError",
          "evalue": "ignored",
          "traceback": [
            "\u001b[0;31m---------------------------------------------------------------------------\u001b[0m",
            "\u001b[0;31mNameError\u001b[0m                                 Traceback (most recent call last)",
            "\u001b[0;32m<ipython-input-26-a9f9df1c0ba9>\u001b[0m in \u001b[0;36m<module>\u001b[0;34m()\u001b[0m\n\u001b[0;32m----> 1\u001b[0;31m \u001b[0mipyplot\u001b[0m\u001b[0;34m.\u001b[0m\u001b[0mplot_images\u001b[0m\u001b[0;34m(\u001b[0m\u001b[0mplots\u001b[0m\u001b[0;34m)\u001b[0m\u001b[0;34m\u001b[0m\u001b[0;34m\u001b[0m\u001b[0m\n\u001b[0m",
            "\u001b[0;31mNameError\u001b[0m: name 'ipyplot' is not defined"
          ]
        }
      ]
    },
    {
      "cell_type": "code",
      "metadata": {
        "id": "GaQnijhGKdoi"
      },
      "source": [
        "img = read_image(train_df['object_id'].iat[3936])"
      ],
      "execution_count": null,
      "outputs": []
    },
    {
      "cell_type": "code",
      "metadata": {
        "id": "KsoP8efLKlEn"
      },
      "source": [
        "img"
      ],
      "execution_count": null,
      "outputs": []
    },
    {
      "cell_type": "markdown",
      "metadata": {
        "id": "6xfhfaw9M_vB"
      },
      "source": [
        "データ拡張"
      ]
    },
    {
      "cell_type": "markdown",
      "metadata": {
        "id": "E01Ko1s0NFFK"
      },
      "source": [
        "なぜデータ拡張が必要か？  \n",
        "⇒予測の不変性を確保したいため。多少ズレたり反転したりするくらいで予測を外して欲しくないため。  \n",
        "⇒データ拡張は、これに対処するための一つの手段である。  \n",
        "【データ拡張の種類】  \n",
        "①左右入れ替え  \n",
        "②上下入れ替え  \n",
        "③ランダムな画像の切り出し  \n",
        "④色相変化"
      ]
    },
    {
      "cell_type": "code",
      "metadata": {
        "id": "h04TvjO2Kl7Z"
      },
      "source": [
        "T.RandomVerticalFlip(p=1)(img)"
      ],
      "execution_count": null,
      "outputs": []
    },
    {
      "cell_type": "code",
      "metadata": {
        "id": "njd5hsrOOFZv"
      },
      "source": [
        "T.RandomHorizontalFlip(p=1)(img)"
      ],
      "execution_count": null,
      "outputs": []
    },
    {
      "cell_type": "code",
      "metadata": {
        "id": "tjTZZzBCOO6B"
      },
      "source": [
        "T.RandomGrayscale(1)(img)"
      ],
      "execution_count": null,
      "outputs": []
    },
    {
      "cell_type": "code",
      "metadata": {
        "id": "0U6dLMRcOUnd"
      },
      "source": [
        "#明度、コントラスト、彩度をランダムに変動\n",
        "T.ColorJitter(brightness=.3, contrast=.5, saturation=[.8, 1.3])(img)"
      ],
      "execution_count": null,
      "outputs": []
    },
    {
      "cell_type": "code",
      "metadata": {
        "id": "wsyxwABIOtLZ"
      },
      "source": [
        "T.RandomResizedCrop(size=(200, 200), )(img)"
      ],
      "execution_count": null,
      "outputs": []
    },
    {
      "cell_type": "code",
      "metadata": {
        "id": "2qULiE1yO6Ya"
      },
      "source": [
        "#並べた順に変換器を適用する。\n",
        "converter = T.Compose([\n",
        "                       T.RandomVerticalFlip(p=1),\n",
        "                       T.ColorJitter(brightness=.5, contrast=.5)\n",
        "])\n",
        "converter(img)"
      ],
      "execution_count": null,
      "outputs": []
    },
    {
      "cell_type": "markdown",
      "metadata": {
        "id": "GuLSW6irPeMF"
      },
      "source": [
        "モデルの定義"
      ]
    },
    {
      "cell_type": "code",
      "metadata": {
        "id": "iEIlnnU6PXn_"
      },
      "source": [
        "model = resnet34(pretrained=False)#事前学習は無し。"
      ],
      "execution_count": null,
      "outputs": []
    },
    {
      "cell_type": "code",
      "metadata": {
        "id": "AFPK1i2eP2bf"
      },
      "source": [
        "#model"
      ],
      "execution_count": null,
      "outputs": []
    },
    {
      "cell_type": "code",
      "metadata": {
        "id": "XRpoqNLgP3lG"
      },
      "source": [
        "converter = T.Compose([\n",
        "                       T.RandomHorizontalFlip(p=1),\n",
        "                       T.ColorJitter(brightness=.5, contrast=.5),\n",
        "                       T.ToTensor()\n",
        "])"
      ],
      "execution_count": null,
      "outputs": []
    },
    {
      "cell_type": "code",
      "metadata": {
        "id": "i7kphaEAgZKm"
      },
      "source": [
        "x = converter(img)"
      ],
      "execution_count": null,
      "outputs": []
    },
    {
      "cell_type": "code",
      "metadata": {
        "colab": {
          "base_uri": "https://localhost:8080/"
        },
        "id": "BPSoFM_ZgcV9",
        "outputId": "abf3ef8f-a783-4646-c0be-6e47dcb7b348"
      },
      "source": [
        "type(img)"
      ],
      "execution_count": null,
      "outputs": [
        {
          "output_type": "execute_result",
          "data": {
            "text/plain": [
              "PIL.JpegImagePlugin.JpegImageFile"
            ]
          },
          "metadata": {
            "tags": []
          },
          "execution_count": 109
        }
      ]
    },
    {
      "cell_type": "code",
      "metadata": {
        "colab": {
          "base_uri": "https://localhost:8080/"
        },
        "id": "DzQJIXBvgeDQ",
        "outputId": "a61876f5-8488-4045-aa29-533a1a2ed505"
      },
      "source": [
        "type(x)"
      ],
      "execution_count": null,
      "outputs": [
        {
          "output_type": "execute_result",
          "data": {
            "text/plain": [
              "torch.Tensor"
            ]
          },
          "metadata": {
            "tags": []
          },
          "execution_count": 110
        }
      ]
    },
    {
      "cell_type": "markdown",
      "metadata": {
        "id": "8aJ659XIgm6O"
      },
      "source": [
        "T.ToTensorにて、pytorchで扱えるテンソル化"
      ]
    },
    {
      "cell_type": "code",
      "metadata": {
        "colab": {
          "base_uri": "https://localhost:8080/"
        },
        "id": "s4FnmarHggFb",
        "outputId": "0cf06c40-2fa2-41d8-e624-e3ce69510dd9"
      },
      "source": [
        "x.shape"
      ],
      "execution_count": null,
      "outputs": [
        {
          "output_type": "execute_result",
          "data": {
            "text/plain": [
              "torch.Size([3, 165, 224])"
            ]
          },
          "metadata": {
            "tags": []
          },
          "execution_count": 111
        }
      ]
    },
    {
      "cell_type": "code",
      "metadata": {
        "colab": {
          "base_uri": "https://localhost:8080/"
        },
        "id": "mnSwIl-bglPq",
        "outputId": "4481897b-7281-4d34-8c43-1f63d32ed2e3"
      },
      "source": [
        "x.unsqueeze(0).shape"
      ],
      "execution_count": null,
      "outputs": [
        {
          "output_type": "execute_result",
          "data": {
            "text/plain": [
              "torch.Size([1, 3, 165, 224])"
            ]
          },
          "metadata": {
            "tags": []
          },
          "execution_count": 112
        }
      ]
    },
    {
      "cell_type": "code",
      "metadata": {
        "id": "PQ21A-0Dg2L8"
      },
      "source": [
        "output = model(x.unsqueeze(0))"
      ],
      "execution_count": null,
      "outputs": []
    },
    {
      "cell_type": "code",
      "metadata": {
        "colab": {
          "base_uri": "https://localhost:8080/"
        },
        "id": "9fsXcvaig9bC",
        "outputId": "9c976bd2-13ba-4aea-f725-9e921ef2da52"
      },
      "source": [
        "output.shape"
      ],
      "execution_count": null,
      "outputs": [
        {
          "output_type": "execute_result",
          "data": {
            "text/plain": [
              "torch.Size([1, 1000])"
            ]
          },
          "metadata": {
            "tags": []
          },
          "execution_count": 114
        }
      ]
    },
    {
      "cell_type": "markdown",
      "metadata": {
        "id": "SEn0HcTehG9-"
      },
      "source": [
        "・タスクの出力は\"年代\"の一次元なので、最終層を書き換え。"
      ]
    },
    {
      "cell_type": "code",
      "metadata": {
        "id": "kFrhGlLUhCY-"
      },
      "source": [
        "model.fc = nn.Linear(in_features=512, out_features=1, bias=True)"
      ],
      "execution_count": null,
      "outputs": []
    },
    {
      "cell_type": "code",
      "metadata": {
        "colab": {
          "base_uri": "https://localhost:8080/"
        },
        "id": "CTrKP13rhW-X",
        "outputId": "5fb3cdad-a356-42a6-a6de-418d18599838"
      },
      "source": [
        "model(x.unsqueeze(0))"
      ],
      "execution_count": null,
      "outputs": [
        {
          "output_type": "execute_result",
          "data": {
            "text/plain": [
              "tensor([[0.6207]], grad_fn=<AddmmBackward>)"
            ]
          },
          "metadata": {
            "tags": []
          },
          "execution_count": 116
        }
      ]
    },
    {
      "cell_type": "markdown",
      "metadata": {
        "id": "9ya1OhZHhjSA"
      },
      "source": [
        "以上より、モデル(Resnet34)を使った予測値の出力ができるようになった。  \n",
        "ただし、ただのランダムな出力になるだけなので、  \n",
        "Xを入れたときの年代yを出力する、というように修正をおこなう。  "
      ]
    },
    {
      "cell_type": "markdown",
      "metadata": {
        "id": "XFDve7Zkh9QN"
      },
      "source": [
        "# 学習スキームの定義"
      ]
    },
    {
      "cell_type": "markdown",
      "metadata": {
        "id": "GHLkIvDAiA29"
      },
      "source": [
        "①入力データxをモデルに入れ、出力zを作成  \n",
        "②あるxに対応する正解ラベルyとzを目的関数(今回はRMSE)に入れ、ズレ量(loss)を計算  \n",
        "③lossの情報を基にし、最適化手法によりモデルを更新"
      ]
    },
    {
      "cell_type": "markdown",
      "metadata": {
        "id": "MK_Dn7v3idsv"
      },
      "source": [
        "目的関数の定義"
      ]
    },
    {
      "cell_type": "code",
      "metadata": {
        "id": "XfBknLiVhZyp"
      },
      "source": [
        "criterion = nn.MSELoss()"
      ],
      "execution_count": null,
      "outputs": []
    },
    {
      "cell_type": "code",
      "metadata": {
        "id": "0HOwxRKTig25"
      },
      "source": [
        "#最適化手法の定義。\n",
        "optimizer = Adam(params=model.parameters(), lr=1e-3)\n",
        "#第一引数；どのモデルのパラメータを更新したいかを指定。\n",
        "#第二引数：LearningRate。決まった値はないが、adamの場合、1e-3がよく使われるらしい。"
      ],
      "execution_count": null,
      "outputs": []
    },
    {
      "cell_type": "markdown",
      "metadata": {
        "id": "0UgCHMpNjWxY"
      },
      "source": [
        "モデルの学習(画像一枚)"
      ]
    },
    {
      "cell_type": "markdown",
      "metadata": {
        "id": "pfPPCcexjdOo"
      },
      "source": [
        "①学習データをtorch.Tensorの形式で用意する。"
      ]
    },
    {
      "cell_type": "code",
      "metadata": {
        "id": "xMm3L3ypjPym"
      },
      "source": [
        "x = converter(img)\n",
        "x = x.unsqueeze(0)"
      ],
      "execution_count": null,
      "outputs": []
    },
    {
      "cell_type": "code",
      "metadata": {
        "id": "JumI2GQvjr7g"
      },
      "source": [
        "label = train_df['target'].iat[0]\n",
        "label = torch.Tensor(label)\n",
        "label = label.reshape(-1, 1)"
      ],
      "execution_count": null,
      "outputs": []
    },
    {
      "cell_type": "markdown",
      "metadata": {
        "id": "_CGh8HRZj8JL"
      },
      "source": [
        "②学習データをモデルに入れ、lossを目的関数で計算"
      ]
    },
    {
      "cell_type": "code",
      "metadata": {
        "id": "zxpBvyTSj4TD"
      },
      "source": [
        "output = model(x)"
      ],
      "execution_count": null,
      "outputs": []
    },
    {
      "cell_type": "code",
      "metadata": {
        "id": "mVgq0PA2kE3e"
      },
      "source": [
        "loss = criterion(output, label)"
      ],
      "execution_count": null,
      "outputs": []
    },
    {
      "cell_type": "markdown",
      "metadata": {
        "id": "Een6biwukNQU"
      },
      "source": [
        "③loss値から、optimizerがmodelを更新する"
      ]
    },
    {
      "cell_type": "code",
      "metadata": {
        "id": "25l8rjT7kIWC"
      },
      "source": [
        "# zero_grad は今ある勾配の情報をリセットする関数. このあとに計算される勾配を元にして最適化される\n",
        "optimizer.zero_grad()"
      ],
      "execution_count": null,
      "outputs": []
    },
    {
      "cell_type": "code",
      "metadata": {
        "id": "w52p0aPYkZGV"
      },
      "source": [
        "#lossから勾配計算\n",
        "loss.backward()"
      ],
      "execution_count": null,
      "outputs": []
    },
    {
      "cell_type": "code",
      "metadata": {
        "id": "iEhkU-7akeRj"
      },
      "source": [
        "#最適化ステップを1つ進める。\n",
        "optimizer.step()"
      ],
      "execution_count": null,
      "outputs": []
    },
    {
      "cell_type": "code",
      "metadata": {
        "colab": {
          "base_uri": "https://localhost:8080/"
        },
        "id": "7bsCl4mmkkWp",
        "outputId": "08776ea3-06aa-4420-ddf1-bec4bdfaa68d"
      },
      "source": [
        "print(loss.item())"
      ],
      "execution_count": null,
      "outputs": [
        {
          "output_type": "stream",
          "text": [
            "0.3181387186050415\n"
          ],
          "name": "stdout"
        }
      ]
    },
    {
      "cell_type": "markdown",
      "metadata": {
        "id": "dU643VFHlgEE"
      },
      "source": [
        "学習の関数化"
      ]
    },
    {
      "cell_type": "code",
      "metadata": {
        "id": "TR3zCOBsknKg"
      },
      "source": [
        "IMG_MEAN = [0.485, 0.456, 0.406]\n",
        "IMG_STD = [0.229, 0.224, 0.225]"
      ],
      "execution_count": null,
      "outputs": []
    },
    {
      "cell_type": "code",
      "metadata": {
        "id": "efsRlqdvly0C"
      },
      "source": [
        "class AtmaDataset(data.Dataset):\n",
        "    \"\"\"atmaCup用にデータ読み込み等を行なうデータ・セット\"\"\"\n",
        "    object_path_key = \"object_path\"\n",
        "    label_key = \"target\"\n",
        "\n",
        "    @property\n",
        "    def meta_keys(self):\n",
        "        retval = [self.object_path_key]\n",
        "\n",
        "        if self.is_train:\n",
        "            retval += [self.label_key]\n",
        "\n",
        "        return retval\n",
        "\n",
        "    def __init__(self, meta_df: pd.DataFrame, is_train=True):\n",
        "        \"\"\"\n",
        "        args:\n",
        "            meta_df: \n",
        "                画像へのパスと label 情報が含まれている dataframe\n",
        "                必ず object_path に画像へのパス, target に正解ラベルが入っている必要があります\n",
        "\n",
        "            is_train:\n",
        "                True のとき学習用のデータ拡張を適用します.\n",
        "                False の時は単に size にリサイズを行います\n",
        "        \"\"\"\n",
        "\n",
        "        self.is_train = is_train\n",
        "        for k in self.meta_keys:\n",
        "            if k not in meta_df:\n",
        "                raise ValueError(\"meta df must have {}\".format(k))\n",
        "\n",
        "        self.meta_df = meta_df.reset_index(drop=True)\n",
        "        self.index_to_data = self.meta_df.to_dict(orient=\"index\")\n",
        "\n",
        "        size = (224, 224)\n",
        "\n",
        "        additional_items = (\n",
        "            [T.Resize(size)]\n",
        "            if not is_train\n",
        "            else [\n",
        "                T.RandomGrayscale(p=0.2),\n",
        "                T.RandomVerticalFlip(),\n",
        "                T.RandomHorizontalFlip(),\n",
        "                T.ColorJitter(\n",
        "                    brightness=0.3,\n",
        "                    contrast=0.5,\n",
        "                    saturation=[0.8, 1.3],\n",
        "                    hue=[-0.05, 0.05],\n",
        "                ),\n",
        "                T.RandomResizedCrop(size),\n",
        "            ]\n",
        "        )\n",
        "\n",
        "        self.transformer = T.Compose(\n",
        "            [*additional_items, T.ToTensor(), T.Normalize(mean=IMG_MEAN, std=IMG_STD)]\n",
        "        )\n",
        "\n",
        "    def __getitem__(self, index):\n",
        "        data = self.index_to_data[index]\n",
        "\n",
        "        obj_path, label = data.get(self.object_path_key), data.get(self.label_key, -1)\n",
        "        img = Image.open(obj_path)\n",
        "        img = self.transformer(img)\n",
        "        return img, label\n",
        "\n",
        "    def __len__(self):\n",
        "        return len(self.meta_df)"
      ],
      "execution_count": null,
      "outputs": []
    },
    {
      "cell_type": "code",
      "metadata": {
        "id": "nFF31cEVmjNg"
      },
      "source": [
        "train_meta_df = train_df[['target', 'object_id']].copy()\n",
        "train_meta_df['object_path'] = train_meta_df['object_id'].map(to_img_path)\n",
        "\n",
        "dataset = AtmaDataset(meta_df=train_meta_df)"
      ],
      "execution_count": null,
      "outputs": []
    },
    {
      "cell_type": "code",
      "metadata": {
        "colab": {
          "base_uri": "https://localhost:8080/"
        },
        "id": "BygeaGP8mnnq",
        "outputId": "b05fb2e8-3b71-44fa-9219-3d094993da82"
      },
      "source": [
        "# この場合同時に 54 個の画像に対応した tensor と label が作られる\n",
        "loader = data.DataLoader(dataset=dataset, batch_size=54, num_workers=4)"
      ],
      "execution_count": null,
      "outputs": [
        {
          "output_type": "stream",
          "text": [
            "/usr/local/lib/python3.7/dist-packages/torch/utils/data/dataloader.py:481: UserWarning: This DataLoader will create 4 worker processes in total. Our suggested max number of worker in current system is 2, which is smaller than what this DataLoader is going to create. Please be aware that excessive worker creation might get DataLoader running slow or even freeze, lower the worker number to avoid potential slowness/freeze if necessary.\n",
            "  cpuset_checked))\n"
          ],
          "name": "stderr"
        }
      ]
    },
    {
      "cell_type": "code",
      "metadata": {
        "id": "YWPive03mqcM",
        "colab": {
          "base_uri": "https://localhost:8080/"
        },
        "outputId": "27923fbb-3ca9-42ac-e538-e9e036e7d41e"
      },
      "source": [
        "  for x_tensor, y in loader:\n",
        "    break"
      ],
      "execution_count": null,
      "outputs": [
        {
          "output_type": "stream",
          "text": [
            "/usr/local/lib/python3.7/dist-packages/torch/utils/data/dataloader.py:481: UserWarning: This DataLoader will create 4 worker processes in total. Our suggested max number of worker in current system is 2, which is smaller than what this DataLoader is going to create. Please be aware that excessive worker creation might get DataLoader running slow or even freeze, lower the worker number to avoid potential slowness/freeze if necessary.\n",
            "  cpuset_checked))\n"
          ],
          "name": "stderr"
        }
      ]
    },
    {
      "cell_type": "code",
      "metadata": {
        "colab": {
          "base_uri": "https://localhost:8080/"
        },
        "id": "zu-OHrJjYCxZ",
        "outputId": "ce4906d4-b6e2-474e-abff-8138e0a3efd7"
      },
      "source": [
        "#最初の次元が、設定したバッチサイズ54になっていることを確認。\n",
        "x_tensor.shape, y.shape"
      ],
      "execution_count": null,
      "outputs": [
        {
          "output_type": "execute_result",
          "data": {
            "text/plain": [
              "(torch.Size([54, 3, 224, 224]), torch.Size([54]))"
            ]
          },
          "metadata": {
            "tags": []
          },
          "execution_count": 132
        }
      ]
    },
    {
      "cell_type": "markdown",
      "metadata": {
        "id": "qAFuPd7nYcVy"
      },
      "source": [
        "学習関数の実装"
      ]
    },
    {
      "cell_type": "code",
      "metadata": {
        "id": "LbtNKVyBYNWK"
      },
      "source": [
        "assert torch.cuda.is_available()\n",
        "\n",
        "DEVICE = torch.device('cuda')"
      ],
      "execution_count": null,
      "outputs": []
    },
    {
      "cell_type": "code",
      "metadata": {
        "id": "eCvGiGD7ZKpE"
      },
      "source": [
        "def train(\n",
        "    model: nn.Module,\n",
        "    optimizer: Optimizer,\n",
        "    train_loader: data.DataLoader\n",
        ") -> pd.Series:\n",
        "\n",
        "    # train にすることで model 内の学習時にのみ有効な機構が有効になります (Dropouts Layers、BatchNorm Layers...)\n",
        "    model.train()\n",
        "\n",
        "    criterion = nn.MSELoss()\n",
        "\n",
        "    # ロスの値を保存する用に dict を用意\n",
        "    metrics = defaultdict(float)\n",
        "    n_iters = len(train_loader)\n",
        "\n",
        "    for i, (x_i, y_i) in enumerate(train_loader):\n",
        "        x_i = x_i.to(DEVICE)\n",
        "        y_i = y_i.to(DEVICE).reshape(-1, 1).float()\n",
        "\n",
        "        output = model(x_i)\n",
        "        loss = criterion(output, y_i)\n",
        "\n",
        "        optimizer.zero_grad()\n",
        "        loss.backward()\n",
        "        optimizer.step()\n",
        "\n",
        "        metric_i = {\n",
        "            # loss は tensor object なので item をつかって python object に戻す\n",
        "            \"loss\": loss.item()\n",
        "        }\n",
        "        for k, v in metric_i.items():\n",
        "            metrics[k] += v\n",
        "\n",
        "    for k, v in metrics.items():\n",
        "        metrics[k] /= n_iters\n",
        "\n",
        "    return pd.Series(metrics).add_prefix(\"train_\")"
      ],
      "execution_count": null,
      "outputs": []
    },
    {
      "cell_type": "code",
      "metadata": {
        "colab": {
          "base_uri": "https://localhost:8080/"
        },
        "id": "enEuU1SlZ0Of",
        "outputId": "ddb083b6-0b06-474c-946d-e7dc4b0a275a"
      },
      "source": [
        "n_epochs = 10\n",
        "\n",
        "# GPU 環境で学習するため変換. この呼び出しは破壊的\n",
        "model.to(DEVICE)\n",
        "optimizer = Adam(params=model.parameters(), lr=1e-3)\n",
        "\n",
        "for epoch in range(1, n_epochs + 1):\n",
        "\n",
        "    with timer(prefix=\"train: epoch={}\".format(epoch)):\n",
        "        score_train = train(\n",
        "            model, optimizer, train_loader=loader\n",
        "        )\n",
        "    print(score_train)\n",
        "\n",
        "    break"
      ],
      "execution_count": null,
      "outputs": [
        {
          "output_type": "stream",
          "text": [
            "/usr/local/lib/python3.7/dist-packages/torch/utils/data/dataloader.py:481: UserWarning: This DataLoader will create 4 worker processes in total. Our suggested max number of worker in current system is 2, which is smaller than what this DataLoader is going to create. Please be aware that excessive worker creation might get DataLoader running slow or even freeze, lower the worker number to avoid potential slowness/freeze if necessary.\n",
            "  cpuset_checked))\n"
          ],
          "name": "stderr"
        },
        {
          "output_type": "stream",
          "text": [
            "train: epoch=1 28.731[s]\n",
            "train_loss    2.062666\n",
            "dtype: float64\n"
          ],
          "name": "stdout"
        }
      ]
    },
    {
      "cell_type": "markdown",
      "metadata": {
        "id": "YwiHIErqjsti"
      },
      "source": [
        "# 交差検証"
      ]
    },
    {
      "cell_type": "code",
      "metadata": {
        "id": "Gy4RV8TBZ4Qd"
      },
      "source": [
        "fold = KFold(n_splits=5, shuffle=True, random_state=510)\n",
        "cv = list(fold.split(X=train_df, y=train_df['target']))"
      ],
      "execution_count": null,
      "outputs": []
    },
    {
      "cell_type": "code",
      "metadata": {
        "colab": {
          "base_uri": "https://localhost:8080/"
        },
        "id": "el19SayGjwVG",
        "outputId": "a684cfa3-b57a-4508-bfc8-7c1c8529b0d7"
      },
      "source": [
        "idx_tr, idx_val = cv[0]\n",
        "\n",
        "len(idx_tr), len(idx_val)"
      ],
      "execution_count": null,
      "outputs": [
        {
          "output_type": "execute_result",
          "data": {
            "text/plain": [
              "(3149, 788)"
            ]
          },
          "metadata": {
            "tags": []
          },
          "execution_count": 138
        }
      ]
    },
    {
      "cell_type": "code",
      "metadata": {
        "colab": {
          "base_uri": "https://localhost:8080/",
          "height": 241
        },
        "id": "B-_gCdgLjxyA",
        "outputId": "c8bc6bbc-3bdb-4675-f99a-45c95ceb9708"
      },
      "source": [
        "# train / valid で index の重複はない\n",
        "venn2(subsets=(set(idx_tr), set(idx_val)), set_labels=('train', 'valid'))"
      ],
      "execution_count": null,
      "outputs": [
        {
          "output_type": "execute_result",
          "data": {
            "text/plain": [
              "<matplotlib_venn._common.VennDiagram at 0x7ff07de27b50>"
            ]
          },
          "metadata": {
            "tags": []
          },
          "execution_count": 139
        },
        {
          "output_type": "display_data",
          "data": {
            "image/png": "[encoded data removed]",
            "text/plain": [
              "<Figure size 432x288 with 1 Axes>"
            ]
          },
          "metadata": {
            "tags": []
          }
        }
      ]
    },
    {
      "cell_type": "code",
      "metadata": {
        "id": "jX7AsQsnjz2E"
      },
      "source": [
        "# 最初の fold だけで考える\n",
        "#⇒見積もりの正確性は落ちるが、たくさんの実験パターンを実行できるメリットがある。\n",
        "#特に、一つの fold の学習に時間がかかる場合、実験条件のPDCAを回す速度を優先しfold を削ることがある。\n",
        "cv = cv[:1]"
      ],
      "execution_count": null,
      "outputs": []
    },
    {
      "cell_type": "markdown",
      "metadata": {
        "id": "HqEGf_C5kEkD"
      },
      "source": [
        "検証の実装"
      ]
    },
    {
      "cell_type": "markdown",
      "metadata": {
        "id": "aUQV-_lIkS-9"
      },
      "source": [
        "predict: 与えられたデータ (data-loader) に対しての予測値を計算  \n",
        "valid: 与えられたモデル・データローダを使って検証フェーズを実行。  \n",
        "スコアの dict と予測した値を返す"
      ]
    },
    {
      "cell_type": "code",
      "metadata": {
        "id": "fqvMU_pgj3BU"
      },
      "source": [
        "def predict(model: nn.Module, loader: data.DataLoader) -> np.ndarray:\n",
        "    # train とは逆で model 内の学習時にのみ有効な機構がオフになります (Dropouts Layers、BatchNorm Layers...)\n",
        "    model.eval()\n",
        "\n",
        "    predicts = []\n",
        "\n",
        "    for x_i, y_i in loader:\n",
        "\n",
        "        # 明示的に勾配を計算しないように指定することができます. \n",
        "        # この関数ではモデルの更新はせずに単に出力だけを使いますので勾配は不要です.\n",
        "        with torch.no_grad():\n",
        "            output = model(x_i.to(DEVICE))\n",
        "\n",
        "        predicts.extend(output.data.cpu().numpy())\n",
        "\n",
        "    pred = np.array(predicts).reshape(-1)\n",
        "    return pred\n",
        "\n",
        "\n",
        "def calculate_metrics(y_true, y_pred) -> dict:\n",
        "    \"\"\"正解ラベルと予測ラベルから指標を計算する\"\"\"\n",
        "    # return regression_metrics(y_true, y_pred)\n",
        "\n",
        "    return {\n",
        "        'rmse': mean_squared_error(y_true, y_pred) ** .5\n",
        "    }\n",
        "\n",
        "\n",
        "def valid(\n",
        "    model: nn.Module, \n",
        "    y_valid: np.ndarray, \n",
        "    valid_loader: data.DataLoader\n",
        ") -> pd.Series:\n",
        "    \"\"\"検証フェーズ\n",
        "    与えられたモデル・データローダを使って検証フェーズを実行。スコアの dict と予測した値を返す\n",
        "    \"\"\"\n",
        "\n",
        "    pred = predict(model, valid_loader)\n",
        "    score = calculate_metrics(y_valid, pred)\n",
        "\n",
        "    valid_score = pd.Series(score)\n",
        "    return valid_score.add_prefix(\"valid_\"), pred"
      ],
      "execution_count": null,
      "outputs": []
    },
    {
      "cell_type": "code",
      "metadata": {
        "id": "xciswLmmkQnX"
      },
      "source": [
        "def run_fold(\n",
        "    model: nn.Module, \n",
        "    train_df: pd.DataFrame, \n",
        "    valid_df: pd.DataFrame, \n",
        "    y_valid: np.ndarray, \n",
        "    output_dir: str, \n",
        "    n_epochs=30) -> np.ndarray:\n",
        "    \"\"\"\n",
        "    train / valid に分割されたデータで学習と同時に検証を行なう\n",
        "    \"\"\"\n",
        "\n",
        "    os.makedirs(output_i, exist_ok=True)\n",
        "\n",
        "    optimizer = Adam(model.parameters(), lr=1e-3)\n",
        "\n",
        "    # 0: 前準備. dataframe から data loader を作成\n",
        "    train_dataset = AtmaDataset(meta_df=train_df)\n",
        "    # 検証用の方は is_train=False にしてデータ拡張オフにする\n",
        "    valid_dataset = AtmaDataset(meta_df=valid_df, is_train=False)\n",
        "\n",
        "    train_loader = data.DataLoader(\n",
        "        train_dataset, batch_size=64, shuffle=True, drop_last=True, num_workers=4\n",
        "    )\n",
        "    valid_loader = data.DataLoader(valid_dataset, batch_size=256, num_workers=4)\n",
        "\n",
        "    # --- 保存のための変数定義\n",
        "    score_df = pd.DataFrame()\n",
        "    valid_score = np.inf\n",
        "    valid_score_key = \"valid_rmse\"\n",
        "    valid_best_pred = None\n",
        "\n",
        "    for epoch in range(1, n_epochs + 1):\n",
        "        print(f'start {epoch}')\n",
        "\n",
        "        # 1: 学習用データで学習を実行。学習時のロスを取得\n",
        "        with timer(prefix=\"train: epoch={}\".format(epoch)):\n",
        "            score_train = train(\n",
        "                model, optimizer, train_loader\n",
        "            )\n",
        "\n",
        "        # 2: 検証データでのスコアを計算\n",
        "        with timer(prefix=\"validate\"):\n",
        "            score_valid, y_valid_pred = valid(model=model, valid_loader=valid_loader, y_valid=y_valid)\n",
        "\n",
        "\n",
        "        # --- 学習のロスと検証スコアの値をデータフレームに追加\n",
        "        row = pd.concat([score_train, score_valid])\n",
        "        row[\"epoch\"] = epoch\n",
        "        row = pd.DataFrame([row])\n",
        "        print(tabulate(row, headers=row.columns))\n",
        "        score_df = pd.concat([score_df, row], ignore_index=True)\n",
        "        # ---\n",
        "\n",
        "        # 今の検証スコアと過去最高のスコアを比較\n",
        "        current_score = score_valid[valid_score_key]\n",
        "        if current_score < valid_score:\n",
        "            # スコア改善したときモデルを保存する\n",
        "            print(f'validation score is improved!! {valid_score:.4f} -> {current_score:.4f}')\n",
        "            torch.save(\n",
        "                model.state_dict(), os.path.join(output_dir, 'model_best.pth')\n",
        "            )\n",
        "            valid_score = current_score\n",
        "            valid_best_pred = y_valid_pred\n",
        "\n",
        "    score_df.to_csv(os.path.join(output_dir, 'score.csv'), index=False)\n",
        "    return valid_best_pred"
      ],
      "execution_count": null,
      "outputs": []
    },
    {
      "cell_type": "markdown",
      "metadata": {
        "id": "6SIpx8ykk0ML"
      },
      "source": [
        "CrossValidationの枠組みで学習の実行"
      ]
    },
    {
      "cell_type": "code",
      "metadata": {
        "id": "kqni-9f6lb08"
      },
      "source": [
        "output_dir = os.path.join(DIR+'/data', \"outputs_tutorial#1\")\n",
        "os.makedirs(output_dir, exist_ok=True)"
      ],
      "execution_count": null,
      "outputs": []
    },
    {
      "cell_type": "code",
      "metadata": {
        "colab": {
          "base_uri": "https://localhost:8080/"
        },
        "id": "jLsxIIagkcdp",
        "outputId": "5c989cb7-68eb-4eef-c5c9-0f4383c65d28"
      },
      "source": [
        "def get_output_dir(n_cv: int):\n",
        "    return os.path.join(output_dir, 'simple_resnet', f'cv={n_cv}')\n",
        "\n",
        "oof = np.zeros((len(train_df), ), dtype=np.float32)\n",
        "\n",
        "for i, (idx_tr, idx_valid) in enumerate(cv):\n",
        "    output_i = get_output_dir(i)\n",
        "    model = resnet34(pretrained=False)\n",
        "    model.fc = nn.Linear(in_features=512, out_features=1, bias=True)\n",
        "\n",
        "    model.to(DEVICE)\n",
        "\n",
        "    oof_i = run_fold(\n",
        "        model=model, \n",
        "        train_df=train_meta_df.iloc[idx_tr], \n",
        "        valid_df=train_meta_df.iloc[idx_valid], \n",
        "        y_valid=train_meta_df['target'].values[idx_valid],\n",
        "        output_dir=output_i,\n",
        "\n",
        "        # 今は 1 ですぐ終わるようにしている. 本当は validation score の値を見つつ適宜設定する\n",
        "        n_epochs=1\n",
        "    )\n",
        "\n",
        "    oof[idx_valid] = oof_i"
      ],
      "execution_count": null,
      "outputs": [
        {
          "output_type": "stream",
          "text": [
            "start 1\n"
          ],
          "name": "stdout"
        },
        {
          "output_type": "stream",
          "text": [
            "/usr/local/lib/python3.7/dist-packages/torch/utils/data/dataloader.py:481: UserWarning: This DataLoader will create 4 worker processes in total. Our suggested max number of worker in current system is 2, which is smaller than what this DataLoader is going to create. Please be aware that excessive worker creation might get DataLoader running slow or even freeze, lower the worker number to avoid potential slowness/freeze if necessary.\n",
            "  cpuset_checked))\n"
          ],
          "name": "stderr"
        },
        {
          "output_type": "stream",
          "text": [
            "train: epoch=1 22.182[s]\n",
            "validate 3.770[s]\n",
            "      train_loss    valid_rmse    epoch\n",
            "--  ------------  ------------  -------\n",
            " 0       2.91602       1.01284        1\n",
            "validation score is improved!! inf -> 1.0128\n"
          ],
          "name": "stdout"
        }
      ]
    },
    {
      "cell_type": "markdown",
      "metadata": {
        "id": "saS8QdBBmCrb"
      },
      "source": [
        "FoldOutした予測値でのスコア確認"
      ]
    },
    {
      "cell_type": "code",
      "metadata": {
        "colab": {
          "base_uri": "https://localhost:8080/"
        },
        "id": "KOJqGiyTk6Dl",
        "outputId": "b7e8945c-8f63-442d-ee3b-666d19e5cc4b"
      },
      "source": [
        "calculate_metrics(train_df['target'], oof)"
      ],
      "execution_count": null,
      "outputs": [
        {
          "output_type": "execute_result",
          "data": {
            "text/plain": [
              "{'rmse': 1.8832018440982148}"
            ]
          },
          "metadata": {
            "tags": []
          },
          "execution_count": 153
        }
      ]
    },
    {
      "cell_type": "code",
      "metadata": {
        "colab": {
          "base_uri": "https://localhost:8080/",
          "height": 339
        },
        "id": "TC5-edSemG9j",
        "outputId": "a3494225-3f21-4859-f231-f79a0c0e2abd"
      },
      "source": [
        "sns.distplot(oof)"
      ],
      "execution_count": null,
      "outputs": [
        {
          "output_type": "stream",
          "text": [
            "/usr/local/lib/python3.7/dist-packages/seaborn/distributions.py:2557: FutureWarning: `distplot` is a deprecated function and will be removed in a future version. Please adapt your code to use either `displot` (a figure-level function with similar flexibility) or `histplot` (an axes-level function for histograms).\n",
            "  warnings.warn(msg, FutureWarning)\n"
          ],
          "name": "stderr"
        },
        {
          "output_type": "execute_result",
          "data": {
            "text/plain": [
              "<matplotlib.axes._subplots.AxesSubplot at 0x7ff07dbd7190>"
            ]
          },
          "metadata": {
            "tags": []
          },
          "execution_count": 154
        },
        {
          "output_type": "display_data",
          "data": {
            "image/png": "[encoded data removed]",
            "text/plain": [
              "<Figure size 432x288 with 1 Axes>"
            ]
          },
          "metadata": {
            "tags": [],
            "needs_background": "light"
          }
        }
      ]
    },
    {
      "cell_type": "markdown",
      "metadata": {
        "id": "8jpvLP9vmQ4H"
      },
      "source": [
        "# Submission を作る"
      ]
    },
    {
      "cell_type": "code",
      "metadata": {
        "colab": {
          "base_uri": "https://localhost:8080/"
        },
        "id": "0ct9wVDBmN9j",
        "outputId": "47811b07-2714-4aab-cf00-9defaa6e7d5e"
      },
      "source": [
        "def create_metadata(input_df):\n",
        "    out_df = input_df[['object_id']].copy()\n",
        "    out_df['object_path'] = input_df['object_id'].map(to_img_path)\n",
        "\n",
        "    if \"target\" in input_df:\n",
        "        out_df[\"target\"] = input_df[\"target\"]\n",
        "\n",
        "    return out_df\n",
        "\n",
        "# train と似たようなことをするので、次回から楽したいとおもって `create_metadata` という関数を作りました\n",
        "test_meta_df = create_metadata(test_df)\n",
        "\n",
        "# 学習時のデータ拡張はオフにしたいので is_train=False としている\n",
        "test_dataset = AtmaDataset(meta_df=test_meta_df, is_train=False)\n",
        "test_loader = data.DataLoader(dataset=test_dataset, batch_size=128, drop_last=False, num_workers=4)"
      ],
      "execution_count": null,
      "outputs": [
        {
          "output_type": "stream",
          "text": [
            "/usr/local/lib/python3.7/dist-packages/torch/utils/data/dataloader.py:481: UserWarning: This DataLoader will create 4 worker processes in total. Our suggested max number of worker in current system is 2, which is smaller than what this DataLoader is going to create. Please be aware that excessive worker creation might get DataLoader running slow or even freeze, lower the worker number to avoid potential slowness/freeze if necessary.\n",
            "  cpuset_checked))\n"
          ],
          "name": "stderr"
        }
      ]
    },
    {
      "cell_type": "code",
      "metadata": {
        "colab": {
          "base_uri": "https://localhost:8080/"
        },
        "id": "ySBVCcn_mI4T",
        "outputId": "7bae65aa-7013-4624-84e2-a3c8f68fc4b4"
      },
      "source": [
        "test_predictions = []\n",
        "\n",
        "for i in range(len(cv)):\n",
        "    output_i = get_output_dir(i)\n",
        "\n",
        "    model = resnet34(pretrained=False)\n",
        "    model.fc = nn.Linear(in_features=512, out_features=1, bias=True)\n",
        "\n",
        "    # 最も良かった重みを読みだす\n",
        "    # https://pytorch.org/tutorials/beginner/saving_loading_models.html\n",
        "    model_path = os.path.join(output_i, 'model_best.pth')\n",
        "\n",
        "    model.load_state_dict(torch.load(model_path))\n",
        "\n",
        "    # GPU環境で予測するため `to` で変換\n",
        "    model.to(DEVICE)\n",
        "\n",
        "    with timer(prefix=f'pred cv={i}'):\n",
        "        y_pred_i = predict(model, loader=test_loader)\n",
        "\n",
        "    test_predictions.append(y_pred_i)"
      ],
      "execution_count": null,
      "outputs": [
        {
          "output_type": "stream",
          "text": [
            "/usr/local/lib/python3.7/dist-packages/torch/utils/data/dataloader.py:481: UserWarning: This DataLoader will create 4 worker processes in total. Our suggested max number of worker in current system is 2, which is smaller than what this DataLoader is going to create. Please be aware that excessive worker creation might get DataLoader running slow or even freeze, lower the worker number to avoid potential slowness/freeze if necessary.\n",
            "  cpuset_checked))\n"
          ],
          "name": "stderr"
        },
        {
          "output_type": "stream",
          "text": [
            "pred cv=0 424.737[s]\n"
          ],
          "name": "stdout"
        }
      ]
    },
    {
      "cell_type": "markdown",
      "metadata": {
        "id": "6spq5_BSmhH6"
      },
      "source": [
        "submission file として保存"
      ]
    },
    {
      "cell_type": "code",
      "metadata": {
        "id": "WaujWo-5mmNk"
      },
      "source": [
        "# すべての予測の平均値を使う\n",
        "pred_mean = np.array(test_predictions).mean(axis=0)\n",
        "\n",
        "pd.DataFrame({\n",
        "    \"target\": pred_mean\n",
        "}).to_csv(os.path.join(output_dir, \"0001__submission.csv\"), index=False)"
      ],
      "execution_count": null,
      "outputs": []
    }
  ]
}