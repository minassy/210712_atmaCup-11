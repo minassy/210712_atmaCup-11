{
  "nbformat": 4,
  "nbformat_minor": 0,
  "metadata": {
    "colab": {
      "name": "210807_データ準備.ipynb",
      "provenance": [],
      "collapsed_sections": [],
      "mount_file_id": "1AFX0Kfkdj7No0qSEvYWiVRasAVV6ZZ3y",
      "authorship_tag": "ABX9TyMTHKBEdyb+Wv0+g9pDT+5M",
      "include_colab_link": true
    },
    "kernelspec": {
      "name": "python3",
      "display_name": "Python 3"
    },
    "language_info": {
      "name": "python"
    },
    "widgets": {
      "application/vnd.jupyter.widget-state+json": {
        "8ec5d765fbd24adb8623c5bc71a3cb0f": {
          "model_module": "@jupyter-widgets/controls",
          "model_name": "HBoxModel",
          "model_module_version": "1.5.0",
          "state": {
            "_view_name": "HBoxView",
            "_dom_classes": [],
            "_model_name": "HBoxModel",
            "_view_module": "@jupyter-widgets/controls",
            "_model_module_version": "1.5.0",
            "_view_count": null,
            "_view_module_version": "1.5.0",
            "box_style": "",
            "layout": "IPY_MODEL_570e0e4c43724a248e38961f545d1120",
            "_model_module": "@jupyter-widgets/controls",
            "children": [
              "IPY_MODEL_274e183cecee4d3280ae3f613f5bedef",
              "IPY_MODEL_77833dcebbe142f5a9076bfdcfbeb22e"
            ]
          }
        },
        "570e0e4c43724a248e38961f545d1120": {
          "model_module": "@jupyter-widgets/base",
          "model_name": "LayoutModel",
          "model_module_version": "1.2.0",
          "state": {
            "_view_name": "LayoutView",
            "grid_template_rows": null,
            "right": null,
            "justify_content": null,
            "_view_module": "@jupyter-widgets/base",
            "overflow": null,
            "_model_module_version": "1.2.0",
            "_view_count": null,
            "flex_flow": null,
            "width": null,
            "min_width": null,
            "border": null,
            "align_items": null,
            "bottom": null,
            "_model_module": "@jupyter-widgets/base",
            "top": null,
            "grid_column": null,
            "overflow_y": null,
            "overflow_x": null,
            "grid_auto_flow": null,
            "grid_area": null,
            "grid_template_columns": null,
            "flex": null,
            "_model_name": "LayoutModel",
            "justify_items": null,
            "grid_row": null,
            "max_height": null,
            "align_content": null,
            "visibility": null,
            "align_self": null,
            "height": null,
            "min_height": null,
            "padding": null,
            "grid_auto_rows": null,
            "grid_gap": null,
            "max_width": null,
            "order": null,
            "_view_module_version": "1.2.0",
            "grid_template_areas": null,
            "object_position": null,
            "object_fit": null,
            "grid_auto_columns": null,
            "margin": null,
            "display": null,
            "left": null
          }
        },
        "274e183cecee4d3280ae3f613f5bedef": {
          "model_module": "@jupyter-widgets/controls",
          "model_name": "FloatProgressModel",
          "model_module_version": "1.5.0",
          "state": {
            "_view_name": "ProgressView",
            "style": "IPY_MODEL_7c90068f96c74aa48736791149b73fd1",
            "_dom_classes": [],
            "description": "100%",
            "_model_name": "FloatProgressModel",
            "bar_style": "success",
            "max": 3,
            "_view_module": "@jupyter-widgets/controls",
            "_model_module_version": "1.5.0",
            "value": 3,
            "_view_count": null,
            "_view_module_version": "1.5.0",
            "orientation": "horizontal",
            "min": 0,
            "description_tooltip": null,
            "_model_module": "@jupyter-widgets/controls",
            "layout": "IPY_MODEL_ffe33915f3fb446fa629157c5ad7ae9f"
          }
        },
        "77833dcebbe142f5a9076bfdcfbeb22e": {
          "model_module": "@jupyter-widgets/controls",
          "model_name": "HTMLModel",
          "model_module_version": "1.5.0",
          "state": {
            "_view_name": "HTMLView",
            "style": "IPY_MODEL_7a572726ae1041fe873a0158ae8156b7",
            "_dom_classes": [],
            "description": "",
            "_model_name": "HTMLModel",
            "placeholder": "​",
            "_view_module": "@jupyter-widgets/controls",
            "_model_module_version": "1.5.0",
            "value": " 3/3 [1:13:11&lt;00:00, 1463.70s/it]",
            "_view_count": null,
            "_view_module_version": "1.5.0",
            "description_tooltip": null,
            "_model_module": "@jupyter-widgets/controls",
            "layout": "IPY_MODEL_41c41d2a9fa2451fa06118db54d2a18f"
          }
        },
        "7c90068f96c74aa48736791149b73fd1": {
          "model_module": "@jupyter-widgets/controls",
          "model_name": "ProgressStyleModel",
          "model_module_version": "1.5.0",
          "state": {
            "_view_name": "StyleView",
            "_model_name": "ProgressStyleModel",
            "description_width": "initial",
            "_view_module": "@jupyter-widgets/base",
            "_model_module_version": "1.5.0",
            "_view_count": null,
            "_view_module_version": "1.2.0",
            "bar_color": null,
            "_model_module": "@jupyter-widgets/controls"
          }
        },
        "ffe33915f3fb446fa629157c5ad7ae9f": {
          "model_module": "@jupyter-widgets/base",
          "model_name": "LayoutModel",
          "model_module_version": "1.2.0",
          "state": {
            "_view_name": "LayoutView",
            "grid_template_rows": null,
            "right": null,
            "justify_content": null,
            "_view_module": "@jupyter-widgets/base",
            "overflow": null,
            "_model_module_version": "1.2.0",
            "_view_count": null,
            "flex_flow": null,
            "width": null,
            "min_width": null,
            "border": null,
            "align_items": null,
            "bottom": null,
            "_model_module": "@jupyter-widgets/base",
            "top": null,
            "grid_column": null,
            "overflow_y": null,
            "overflow_x": null,
            "grid_auto_flow": null,
            "grid_area": null,
            "grid_template_columns": null,
            "flex": null,
            "_model_name": "LayoutModel",
            "justify_items": null,
            "grid_row": null,
            "max_height": null,
            "align_content": null,
            "visibility": null,
            "align_self": null,
            "height": null,
            "min_height": null,
            "padding": null,
            "grid_auto_rows": null,
            "grid_gap": null,
            "max_width": null,
            "order": null,
            "_view_module_version": "1.2.0",
            "grid_template_areas": null,
            "object_position": null,
            "object_fit": null,
            "grid_auto_columns": null,
            "margin": null,
            "display": null,
            "left": null
          }
        },
        "7a572726ae1041fe873a0158ae8156b7": {
          "model_module": "@jupyter-widgets/controls",
          "model_name": "DescriptionStyleModel",
          "model_module_version": "1.5.0",
          "state": {
            "_view_name": "StyleView",
            "_model_name": "DescriptionStyleModel",
            "description_width": "",
            "_view_module": "@jupyter-widgets/base",
            "_model_module_version": "1.5.0",
            "_view_count": null,
            "_view_module_version": "1.2.0",
            "_model_module": "@jupyter-widgets/controls"
          }
        },
        "41c41d2a9fa2451fa06118db54d2a18f": {
          "model_module": "@jupyter-widgets/base",
          "model_name": "LayoutModel",
          "model_module_version": "1.2.0",
          "state": {
            "_view_name": "LayoutView",
            "grid_template_rows": null,
            "right": null,
            "justify_content": null,
            "_view_module": "@jupyter-widgets/base",
            "overflow": null,
            "_model_module_version": "1.2.0",
            "_view_count": null,
            "flex_flow": null,
            "width": null,
            "min_width": null,
            "border": null,
            "align_items": null,
            "bottom": null,
            "_model_module": "@jupyter-widgets/base",
            "top": null,
            "grid_column": null,
            "overflow_y": null,
            "overflow_x": null,
            "grid_auto_flow": null,
            "grid_area": null,
            "grid_template_columns": null,
            "flex": null,
            "_model_name": "LayoutModel",
            "justify_items": null,
            "grid_row": null,
            "max_height": null,
            "align_content": null,
            "visibility": null,
            "align_self": null,
            "height": null,
            "min_height": null,
            "padding": null,
            "grid_auto_rows": null,
            "grid_gap": null,
            "max_width": null,
            "order": null,
            "_view_module_version": "1.2.0",
            "grid_template_areas": null,
            "object_position": null,
            "object_fit": null,
            "grid_auto_columns": null,
            "margin": null,
            "display": null,
            "left": null
          }
        },
        "820e9cf37dbf4bab812ef090fc11fd13": {
          "model_module": "@jupyter-widgets/controls",
          "model_name": "HBoxModel",
          "model_module_version": "1.5.0",
          "state": {
            "_view_name": "HBoxView",
            "_dom_classes": [],
            "_model_name": "HBoxModel",
            "_view_module": "@jupyter-widgets/controls",
            "_model_module_version": "1.5.0",
            "_view_count": null,
            "_view_module_version": "1.5.0",
            "box_style": "",
            "layout": "IPY_MODEL_2d7f540fb5c34fd0afbb6ed8570cd633",
            "_model_module": "@jupyter-widgets/controls",
            "children": [
              "IPY_MODEL_51e33667fe744b918fd77cfd270f30f6",
              "IPY_MODEL_73cd3fe58e3b4895b8797455dd939703"
            ]
          }
        },
        "2d7f540fb5c34fd0afbb6ed8570cd633": {
          "model_module": "@jupyter-widgets/base",
          "model_name": "LayoutModel",
          "model_module_version": "1.2.0",
          "state": {
            "_view_name": "LayoutView",
            "grid_template_rows": null,
            "right": null,
            "justify_content": null,
            "_view_module": "@jupyter-widgets/base",
            "overflow": null,
            "_model_module_version": "1.2.0",
            "_view_count": null,
            "flex_flow": null,
            "width": null,
            "min_width": null,
            "border": null,
            "align_items": null,
            "bottom": null,
            "_model_module": "@jupyter-widgets/base",
            "top": null,
            "grid_column": null,
            "overflow_y": null,
            "overflow_x": null,
            "grid_auto_flow": null,
            "grid_area": null,
            "grid_template_columns": null,
            "flex": null,
            "_model_name": "LayoutModel",
            "justify_items": null,
            "grid_row": null,
            "max_height": null,
            "align_content": null,
            "visibility": null,
            "align_self": null,
            "height": null,
            "min_height": null,
            "padding": null,
            "grid_auto_rows": null,
            "grid_gap": null,
            "max_width": null,
            "order": null,
            "_view_module_version": "1.2.0",
            "grid_template_areas": null,
            "object_position": null,
            "object_fit": null,
            "grid_auto_columns": null,
            "margin": null,
            "display": null,
            "left": null
          }
        },
        "51e33667fe744b918fd77cfd270f30f6": {
          "model_module": "@jupyter-widgets/controls",
          "model_name": "FloatProgressModel",
          "model_module_version": "1.5.0",
          "state": {
            "_view_name": "ProgressView",
            "style": "IPY_MODEL_84d02c6f2ca14eb981ce4ea128497e9b",
            "_dom_classes": [],
            "description": "100%",
            "_model_name": "FloatProgressModel",
            "bar_style": "success",
            "max": 987,
            "_view_module": "@jupyter-widgets/controls",
            "_model_module_version": "1.5.0",
            "value": 987,
            "_view_count": null,
            "_view_module_version": "1.5.0",
            "orientation": "horizontal",
            "min": 0,
            "description_tooltip": null,
            "_model_module": "@jupyter-widgets/controls",
            "layout": "IPY_MODEL_99014b2fd98643dbab6c9ba876794f92"
          }
        },
        "73cd3fe58e3b4895b8797455dd939703": {
          "model_module": "@jupyter-widgets/controls",
          "model_name": "HTMLModel",
          "model_module_version": "1.5.0",
          "state": {
            "_view_name": "HTMLView",
            "style": "IPY_MODEL_9b8a49fe3ff64bb2a4e0c6d7846f06f3",
            "_dom_classes": [],
            "description": "",
            "_model_name": "HTMLModel",
            "placeholder": "​",
            "_view_module": "@jupyter-widgets/controls",
            "_model_module_version": "1.5.0",
            "value": " 987/987 [18:27&lt;00:00,  1.12s/it]",
            "_view_count": null,
            "_view_module_version": "1.5.0",
            "description_tooltip": null,
            "_model_module": "@jupyter-widgets/controls",
            "layout": "IPY_MODEL_5a75e7f244c74e4cac42fc5af6ac1585"
          }
        },
        "84d02c6f2ca14eb981ce4ea128497e9b": {
          "model_module": "@jupyter-widgets/controls",
          "model_name": "ProgressStyleModel",
          "model_module_version": "1.5.0",
          "state": {
            "_view_name": "StyleView",
            "_model_name": "ProgressStyleModel",
            "description_width": "initial",
            "_view_module": "@jupyter-widgets/base",
            "_model_module_version": "1.5.0",
            "_view_count": null,
            "_view_module_version": "1.2.0",
            "bar_color": null,
            "_model_module": "@jupyter-widgets/controls"
          }
        },
        "99014b2fd98643dbab6c9ba876794f92": {
          "model_module": "@jupyter-widgets/base",
          "model_name": "LayoutModel",
          "model_module_version": "1.2.0",
          "state": {
            "_view_name": "LayoutView",
            "grid_template_rows": null,
            "right": null,
            "justify_content": null,
            "_view_module": "@jupyter-widgets/base",
            "overflow": null,
            "_model_module_version": "1.2.0",
            "_view_count": null,
            "flex_flow": null,
            "width": null,
            "min_width": null,
            "border": null,
            "align_items": null,
            "bottom": null,
            "_model_module": "@jupyter-widgets/base",
            "top": null,
            "grid_column": null,
            "overflow_y": null,
            "overflow_x": null,
            "grid_auto_flow": null,
            "grid_area": null,
            "grid_template_columns": null,
            "flex": null,
            "_model_name": "LayoutModel",
            "justify_items": null,
            "grid_row": null,
            "max_height": null,
            "align_content": null,
            "visibility": null,
            "align_self": null,
            "height": null,
            "min_height": null,
            "padding": null,
            "grid_auto_rows": null,
            "grid_gap": null,
            "max_width": null,
            "order": null,
            "_view_module_version": "1.2.0",
            "grid_template_areas": null,
            "object_position": null,
            "object_fit": null,
            "grid_auto_columns": null,
            "margin": null,
            "display": null,
            "left": null
          }
        },
        "9b8a49fe3ff64bb2a4e0c6d7846f06f3": {
          "model_module": "@jupyter-widgets/controls",
          "model_name": "DescriptionStyleModel",
          "model_module_version": "1.5.0",
          "state": {
            "_view_name": "StyleView",
            "_model_name": "DescriptionStyleModel",
            "description_width": "",
            "_view_module": "@jupyter-widgets/base",
            "_model_module_version": "1.5.0",
            "_view_count": null,
            "_view_module_version": "1.2.0",
            "_model_module": "@jupyter-widgets/controls"
          }
        },
        "5a75e7f244c74e4cac42fc5af6ac1585": {
          "model_module": "@jupyter-widgets/base",
          "model_name": "LayoutModel",
          "model_module_version": "1.2.0",
          "state": {
            "_view_name": "LayoutView",
            "grid_template_rows": null,
            "right": null,
            "justify_content": null,
            "_view_module": "@jupyter-widgets/base",
            "overflow": null,
            "_model_module_version": "1.2.0",
            "_view_count": null,
            "flex_flow": null,
            "width": null,
            "min_width": null,
            "border": null,
            "align_items": null,
            "bottom": null,
            "_model_module": "@jupyter-widgets/base",
            "top": null,
            "grid_column": null,
            "overflow_y": null,
            "overflow_x": null,
            "grid_auto_flow": null,
            "grid_area": null,
            "grid_template_columns": null,
            "flex": null,
            "_model_name": "LayoutModel",
            "justify_items": null,
            "grid_row": null,
            "max_height": null,
            "align_content": null,
            "visibility": null,
            "align_self": null,
            "height": null,
            "min_height": null,
            "padding": null,
            "grid_auto_rows": null,
            "grid_gap": null,
            "max_width": null,
            "order": null,
            "_view_module_version": "1.2.0",
            "grid_template_areas": null,
            "object_position": null,
            "object_fit": null,
            "grid_auto_columns": null,
            "margin": null,
            "display": null,
            "left": null
          }
        },
        "de5a4bc126b546ca8e4860d82885a668": {
          "model_module": "@jupyter-widgets/controls",
          "model_name": "HBoxModel",
          "model_module_version": "1.5.0",
          "state": {
            "_view_name": "HBoxView",
            "_dom_classes": [],
            "_model_name": "HBoxModel",
            "_view_module": "@jupyter-widgets/controls",
            "_model_module_version": "1.5.0",
            "_view_count": null,
            "_view_module_version": "1.5.0",
            "box_style": "",
            "layout": "IPY_MODEL_2824a271918b4761afd66c2e24872885",
            "_model_module": "@jupyter-widgets/controls",
            "children": [
              "IPY_MODEL_4ac99e0837fc433e82ee1adfa20d56b1",
              "IPY_MODEL_4ec6dddec04f4265a4d569775254ae99"
            ]
          }
        },
        "2824a271918b4761afd66c2e24872885": {
          "model_module": "@jupyter-widgets/base",
          "model_name": "LayoutModel",
          "model_module_version": "1.2.0",
          "state": {
            "_view_name": "LayoutView",
            "grid_template_rows": null,
            "right": null,
            "justify_content": null,
            "_view_module": "@jupyter-widgets/base",
            "overflow": null,
            "_model_module_version": "1.2.0",
            "_view_count": null,
            "flex_flow": null,
            "width": null,
            "min_width": null,
            "border": null,
            "align_items": null,
            "bottom": null,
            "_model_module": "@jupyter-widgets/base",
            "top": null,
            "grid_column": null,
            "overflow_y": null,
            "overflow_x": null,
            "grid_auto_flow": null,
            "grid_area": null,
            "grid_template_columns": null,
            "flex": null,
            "_model_name": "LayoutModel",
            "justify_items": null,
            "grid_row": null,
            "max_height": null,
            "align_content": null,
            "visibility": null,
            "align_self": null,
            "height": null,
            "min_height": null,
            "padding": null,
            "grid_auto_rows": null,
            "grid_gap": null,
            "max_width": null,
            "order": null,
            "_view_module_version": "1.2.0",
            "grid_template_areas": null,
            "object_position": null,
            "object_fit": null,
            "grid_auto_columns": null,
            "margin": null,
            "display": null,
            "left": null
          }
        },
        "4ac99e0837fc433e82ee1adfa20d56b1": {
          "model_module": "@jupyter-widgets/controls",
          "model_name": "FloatProgressModel",
          "model_module_version": "1.5.0",
          "state": {
            "_view_name": "ProgressView",
            "style": "IPY_MODEL_0c179547ae344b68874e92fafe4d1ff2",
            "_dom_classes": [],
            "description": "100%",
            "_model_name": "FloatProgressModel",
            "bar_style": "success",
            "max": 726,
            "_view_module": "@jupyter-widgets/controls",
            "_model_module_version": "1.5.0",
            "value": 726,
            "_view_count": null,
            "_view_module_version": "1.5.0",
            "orientation": "horizontal",
            "min": 0,
            "description_tooltip": null,
            "_model_module": "@jupyter-widgets/controls",
            "layout": "IPY_MODEL_572938bb13df4cd29f8a1268bd676d4b"
          }
        },
        "4ec6dddec04f4265a4d569775254ae99": {
          "model_module": "@jupyter-widgets/controls",
          "model_name": "HTMLModel",
          "model_module_version": "1.5.0",
          "state": {
            "_view_name": "HTMLView",
            "style": "IPY_MODEL_b5114c88c0f34668a2868b4a25a54805",
            "_dom_classes": [],
            "description": "",
            "_model_name": "HTMLModel",
            "placeholder": "​",
            "_view_module": "@jupyter-widgets/controls",
            "_model_module_version": "1.5.0",
            "value": " 726/726 [11:16&lt;00:00,  1.07it/s]",
            "_view_count": null,
            "_view_module_version": "1.5.0",
            "description_tooltip": null,
            "_model_module": "@jupyter-widgets/controls",
            "layout": "IPY_MODEL_663bc011f93843889d741c09e7bc7317"
          }
        },
        "0c179547ae344b68874e92fafe4d1ff2": {
          "model_module": "@jupyter-widgets/controls",
          "model_name": "ProgressStyleModel",
          "model_module_version": "1.5.0",
          "state": {
            "_view_name": "StyleView",
            "_model_name": "ProgressStyleModel",
            "description_width": "initial",
            "_view_module": "@jupyter-widgets/base",
            "_model_module_version": "1.5.0",
            "_view_count": null,
            "_view_module_version": "1.2.0",
            "bar_color": null,
            "_model_module": "@jupyter-widgets/controls"
          }
        },
        "572938bb13df4cd29f8a1268bd676d4b": {
          "model_module": "@jupyter-widgets/base",
          "model_name": "LayoutModel",
          "model_module_version": "1.2.0",
          "state": {
            "_view_name": "LayoutView",
            "grid_template_rows": null,
            "right": null,
            "justify_content": null,
            "_view_module": "@jupyter-widgets/base",
            "overflow": null,
            "_model_module_version": "1.2.0",
            "_view_count": null,
            "flex_flow": null,
            "width": null,
            "min_width": null,
            "border": null,
            "align_items": null,
            "bottom": null,
            "_model_module": "@jupyter-widgets/base",
            "top": null,
            "grid_column": null,
            "overflow_y": null,
            "overflow_x": null,
            "grid_auto_flow": null,
            "grid_area": null,
            "grid_template_columns": null,
            "flex": null,
            "_model_name": "LayoutModel",
            "justify_items": null,
            "grid_row": null,
            "max_height": null,
            "align_content": null,
            "visibility": null,
            "align_self": null,
            "height": null,
            "min_height": null,
            "padding": null,
            "grid_auto_rows": null,
            "grid_gap": null,
            "max_width": null,
            "order": null,
            "_view_module_version": "1.2.0",
            "grid_template_areas": null,
            "object_position": null,
            "object_fit": null,
            "grid_auto_columns": null,
            "margin": null,
            "display": null,
            "left": null
          }
        },
        "b5114c88c0f34668a2868b4a25a54805": {
          "model_module": "@jupyter-widgets/controls",
          "model_name": "DescriptionStyleModel",
          "model_module_version": "1.5.0",
          "state": {
            "_view_name": "StyleView",
            "_model_name": "DescriptionStyleModel",
            "description_width": "",
            "_view_module": "@jupyter-widgets/base",
            "_model_module_version": "1.5.0",
            "_view_count": null,
            "_view_module_version": "1.2.0",
            "_model_module": "@jupyter-widgets/controls"
          }
        },
        "663bc011f93843889d741c09e7bc7317": {
          "model_module": "@jupyter-widgets/base",
          "model_name": "LayoutModel",
          "model_module_version": "1.2.0",
          "state": {
            "_view_name": "LayoutView",
            "grid_template_rows": null,
            "right": null,
            "justify_content": null,
            "_view_module": "@jupyter-widgets/base",
            "overflow": null,
            "_model_module_version": "1.2.0",
            "_view_count": null,
            "flex_flow": null,
            "width": null,
            "min_width": null,
            "border": null,
            "align_items": null,
            "bottom": null,
            "_model_module": "@jupyter-widgets/base",
            "top": null,
            "grid_column": null,
            "overflow_y": null,
            "overflow_x": null,
            "grid_auto_flow": null,
            "grid_area": null,
            "grid_template_columns": null,
            "flex": null,
            "_model_name": "LayoutModel",
            "justify_items": null,
            "grid_row": null,
            "max_height": null,
            "align_content": null,
            "visibility": null,
            "align_self": null,
            "height": null,
            "min_height": null,
            "padding": null,
            "grid_auto_rows": null,
            "grid_gap": null,
            "max_width": null,
            "order": null,
            "_view_module_version": "1.2.0",
            "grid_template_areas": null,
            "object_position": null,
            "object_fit": null,
            "grid_auto_columns": null,
            "margin": null,
            "display": null,
            "left": null
          }
        },
        "4d724cb1fca241cabf986e29b40f78a9": {
          "model_module": "@jupyter-widgets/controls",
          "model_name": "HBoxModel",
          "model_module_version": "1.5.0",
          "state": {
            "_view_name": "HBoxView",
            "_dom_classes": [],
            "_model_name": "HBoxModel",
            "_view_module": "@jupyter-widgets/controls",
            "_model_module_version": "1.5.0",
            "_view_count": null,
            "_view_module_version": "1.5.0",
            "box_style": "",
            "layout": "IPY_MODEL_e2c22d37312e4d7fb9785801c40cbfd8",
            "_model_module": "@jupyter-widgets/controls",
            "children": [
              "IPY_MODEL_6231b9bea9574d29bdba3c6c157c047e",
              "IPY_MODEL_f301589a0c2b407c8ad2f74d3bbfd194"
            ]
          }
        },
        "e2c22d37312e4d7fb9785801c40cbfd8": {
          "model_module": "@jupyter-widgets/base",
          "model_name": "LayoutModel",
          "model_module_version": "1.2.0",
          "state": {
            "_view_name": "LayoutView",
            "grid_template_rows": null,
            "right": null,
            "justify_content": null,
            "_view_module": "@jupyter-widgets/base",
            "overflow": null,
            "_model_module_version": "1.2.0",
            "_view_count": null,
            "flex_flow": null,
            "width": null,
            "min_width": null,
            "border": null,
            "align_items": null,
            "bottom": null,
            "_model_module": "@jupyter-widgets/base",
            "top": null,
            "grid_column": null,
            "overflow_y": null,
            "overflow_x": null,
            "grid_auto_flow": null,
            "grid_area": null,
            "grid_template_columns": null,
            "flex": null,
            "_model_name": "LayoutModel",
            "justify_items": null,
            "grid_row": null,
            "max_height": null,
            "align_content": null,
            "visibility": null,
            "align_self": null,
            "height": null,
            "min_height": null,
            "padding": null,
            "grid_auto_rows": null,
            "grid_gap": null,
            "max_width": null,
            "order": null,
            "_view_module_version": "1.2.0",
            "grid_template_areas": null,
            "object_position": null,
            "object_fit": null,
            "grid_auto_columns": null,
            "margin": null,
            "display": null,
            "left": null
          }
        },
        "6231b9bea9574d29bdba3c6c157c047e": {
          "model_module": "@jupyter-widgets/controls",
          "model_name": "FloatProgressModel",
          "model_module_version": "1.5.0",
          "state": {
            "_view_name": "ProgressView",
            "style": "IPY_MODEL_ca89e5660d334f28ac7add8c1d914231",
            "_dom_classes": [],
            "description": "100%",
            "_model_name": "FloatProgressModel",
            "bar_style": "success",
            "max": 890,
            "_view_module": "@jupyter-widgets/controls",
            "_model_module_version": "1.5.0",
            "value": 890,
            "_view_count": null,
            "_view_module_version": "1.5.0",
            "orientation": "horizontal",
            "min": 0,
            "description_tooltip": null,
            "_model_module": "@jupyter-widgets/controls",
            "layout": "IPY_MODEL_562917d7e196424885fcb0a0ce8d1acf"
          }
        },
        "f301589a0c2b407c8ad2f74d3bbfd194": {
          "model_module": "@jupyter-widgets/controls",
          "model_name": "HTMLModel",
          "model_module_version": "1.5.0",
          "state": {
            "_view_name": "HTMLView",
            "style": "IPY_MODEL_e36212e88d814431b42ffd9f8a6be2fa",
            "_dom_classes": [],
            "description": "",
            "_model_name": "HTMLModel",
            "placeholder": "​",
            "_view_module": "@jupyter-widgets/controls",
            "_model_module_version": "1.5.0",
            "value": " 890/890 [1:00:15&lt;00:00,  4.06s/it]",
            "_view_count": null,
            "_view_module_version": "1.5.0",
            "description_tooltip": null,
            "_model_module": "@jupyter-widgets/controls",
            "layout": "IPY_MODEL_816e9a2b5b0546379046e43e9ef5c8ae"
          }
        },
        "ca89e5660d334f28ac7add8c1d914231": {
          "model_module": "@jupyter-widgets/controls",
          "model_name": "ProgressStyleModel",
          "model_module_version": "1.5.0",
          "state": {
            "_view_name": "StyleView",
            "_model_name": "ProgressStyleModel",
            "description_width": "initial",
            "_view_module": "@jupyter-widgets/base",
            "_model_module_version": "1.5.0",
            "_view_count": null,
            "_view_module_version": "1.2.0",
            "bar_color": null,
            "_model_module": "@jupyter-widgets/controls"
          }
        },
        "562917d7e196424885fcb0a0ce8d1acf": {
          "model_module": "@jupyter-widgets/base",
          "model_name": "LayoutModel",
          "model_module_version": "1.2.0",
          "state": {
            "_view_name": "LayoutView",
            "grid_template_rows": null,
            "right": null,
            "justify_content": null,
            "_view_module": "@jupyter-widgets/base",
            "overflow": null,
            "_model_module_version": "1.2.0",
            "_view_count": null,
            "flex_flow": null,
            "width": null,
            "min_width": null,
            "border": null,
            "align_items": null,
            "bottom": null,
            "_model_module": "@jupyter-widgets/base",
            "top": null,
            "grid_column": null,
            "overflow_y": null,
            "overflow_x": null,
            "grid_auto_flow": null,
            "grid_area": null,
            "grid_template_columns": null,
            "flex": null,
            "_model_name": "LayoutModel",
            "justify_items": null,
            "grid_row": null,
            "max_height": null,
            "align_content": null,
            "visibility": null,
            "align_self": null,
            "height": null,
            "min_height": null,
            "padding": null,
            "grid_auto_rows": null,
            "grid_gap": null,
            "max_width": null,
            "order": null,
            "_view_module_version": "1.2.0",
            "grid_template_areas": null,
            "object_position": null,
            "object_fit": null,
            "grid_auto_columns": null,
            "margin": null,
            "display": null,
            "left": null
          }
        },
        "e36212e88d814431b42ffd9f8a6be2fa": {
          "model_module": "@jupyter-widgets/controls",
          "model_name": "DescriptionStyleModel",
          "model_module_version": "1.5.0",
          "state": {
            "_view_name": "StyleView",
            "_model_name": "DescriptionStyleModel",
            "description_width": "",
            "_view_module": "@jupyter-widgets/base",
            "_model_module_version": "1.5.0",
            "_view_count": null,
            "_view_module_version": "1.2.0",
            "_model_module": "@jupyter-widgets/controls"
          }
        },
        "816e9a2b5b0546379046e43e9ef5c8ae": {
          "model_module": "@jupyter-widgets/base",
          "model_name": "LayoutModel",
          "model_module_version": "1.2.0",
          "state": {
            "_view_name": "LayoutView",
            "grid_template_rows": null,
            "right": null,
            "justify_content": null,
            "_view_module": "@jupyter-widgets/base",
            "overflow": null,
            "_model_module_version": "1.2.0",
            "_view_count": null,
            "flex_flow": null,
            "width": null,
            "min_width": null,
            "border": null,
            "align_items": null,
            "bottom": null,
            "_model_module": "@jupyter-widgets/base",
            "top": null,
            "grid_column": null,
            "overflow_y": null,
            "overflow_x": null,
            "grid_auto_flow": null,
            "grid_area": null,
            "grid_template_columns": null,
            "flex": null,
            "_model_name": "LayoutModel",
            "justify_items": null,
            "grid_row": null,
            "max_height": null,
            "align_content": null,
            "visibility": null,
            "align_self": null,
            "height": null,
            "min_height": null,
            "padding": null,
            "grid_auto_rows": null,
            "grid_gap": null,
            "max_width": null,
            "order": null,
            "_view_module_version": "1.2.0",
            "grid_template_areas": null,
            "object_position": null,
            "object_fit": null,
            "grid_auto_columns": null,
            "margin": null,
            "display": null,
            "left": null
          }
        },
        "b36ba598820548a59789b1169f7bb9b8": {
          "model_module": "@jupyter-widgets/controls",
          "model_name": "HBoxModel",
          "model_module_version": "1.5.0",
          "state": {
            "_view_name": "HBoxView",
            "_dom_classes": [],
            "_model_name": "HBoxModel",
            "_view_module": "@jupyter-widgets/controls",
            "_model_module_version": "1.5.0",
            "_view_count": null,
            "_view_module_version": "1.5.0",
            "box_style": "",
            "layout": "IPY_MODEL_a3a755fad0df4840a77029eec2e5aa3f",
            "_model_module": "@jupyter-widgets/controls",
            "children": [
              "IPY_MODEL_8345026ed43f452b9972c801565b75f3",
              "IPY_MODEL_848aceeb8aee43f28fee89bccedf7614"
            ]
          }
        },
        "a3a755fad0df4840a77029eec2e5aa3f": {
          "model_module": "@jupyter-widgets/base",
          "model_name": "LayoutModel",
          "model_module_version": "1.2.0",
          "state": {
            "_view_name": "LayoutView",
            "grid_template_rows": null,
            "right": null,
            "justify_content": null,
            "_view_module": "@jupyter-widgets/base",
            "overflow": null,
            "_model_module_version": "1.2.0",
            "_view_count": null,
            "flex_flow": null,
            "width": null,
            "min_width": null,
            "border": null,
            "align_items": null,
            "bottom": null,
            "_model_module": "@jupyter-widgets/base",
            "top": null,
            "grid_column": null,
            "overflow_y": null,
            "overflow_x": null,
            "grid_auto_flow": null,
            "grid_area": null,
            "grid_template_columns": null,
            "flex": null,
            "_model_name": "LayoutModel",
            "justify_items": null,
            "grid_row": null,
            "max_height": null,
            "align_content": null,
            "visibility": null,
            "align_self": null,
            "height": null,
            "min_height": null,
            "padding": null,
            "grid_auto_rows": null,
            "grid_gap": null,
            "max_width": null,
            "order": null,
            "_view_module_version": "1.2.0",
            "grid_template_areas": null,
            "object_position": null,
            "object_fit": null,
            "grid_auto_columns": null,
            "margin": null,
            "display": null,
            "left": null
          }
        },
        "8345026ed43f452b9972c801565b75f3": {
          "model_module": "@jupyter-widgets/controls",
          "model_name": "FloatProgressModel",
          "model_module_version": "1.5.0",
          "state": {
            "_view_name": "ProgressView",
            "style": "IPY_MODEL_646e8cef73d64dbab8ecd81663800c57",
            "_dom_classes": [],
            "description": "100%",
            "_model_name": "FloatProgressModel",
            "bar_style": "success",
            "max": 18,
            "_view_module": "@jupyter-widgets/controls",
            "_model_module_version": "1.5.0",
            "value": 18,
            "_view_count": null,
            "_view_module_version": "1.5.0",
            "orientation": "horizontal",
            "min": 0,
            "description_tooltip": null,
            "_model_module": "@jupyter-widgets/controls",
            "layout": "IPY_MODEL_ecef96dbe9db43a5a8d9c3d407ee3461"
          }
        },
        "848aceeb8aee43f28fee89bccedf7614": {
          "model_module": "@jupyter-widgets/controls",
          "model_name": "HTMLModel",
          "model_module_version": "1.5.0",
          "state": {
            "_view_name": "HTMLView",
            "style": "IPY_MODEL_2b91670bca224b97aca0a0ccac737b89",
            "_dom_classes": [],
            "description": "",
            "_model_name": "HTMLModel",
            "placeholder": "​",
            "_view_module": "@jupyter-widgets/controls",
            "_model_module_version": "1.5.0",
            "value": " 18/18 [33:03&lt;00:00, 110.21s/it]",
            "_view_count": null,
            "_view_module_version": "1.5.0",
            "description_tooltip": null,
            "_model_module": "@jupyter-widgets/controls",
            "layout": "IPY_MODEL_9333542fe64d4c699402e8bf530e137a"
          }
        },
        "646e8cef73d64dbab8ecd81663800c57": {
          "model_module": "@jupyter-widgets/controls",
          "model_name": "ProgressStyleModel",
          "model_module_version": "1.5.0",
          "state": {
            "_view_name": "StyleView",
            "_model_name": "ProgressStyleModel",
            "description_width": "initial",
            "_view_module": "@jupyter-widgets/base",
            "_model_module_version": "1.5.0",
            "_view_count": null,
            "_view_module_version": "1.2.0",
            "bar_color": null,
            "_model_module": "@jupyter-widgets/controls"
          }
        },
        "ecef96dbe9db43a5a8d9c3d407ee3461": {
          "model_module": "@jupyter-widgets/base",
          "model_name": "LayoutModel",
          "model_module_version": "1.2.0",
          "state": {
            "_view_name": "LayoutView",
            "grid_template_rows": null,
            "right": null,
            "justify_content": null,
            "_view_module": "@jupyter-widgets/base",
            "overflow": null,
            "_model_module_version": "1.2.0",
            "_view_count": null,
            "flex_flow": null,
            "width": null,
            "min_width": null,
            "border": null,
            "align_items": null,
            "bottom": null,
            "_model_module": "@jupyter-widgets/base",
            "top": null,
            "grid_column": null,
            "overflow_y": null,
            "overflow_x": null,
            "grid_auto_flow": null,
            "grid_area": null,
            "grid_template_columns": null,
            "flex": null,
            "_model_name": "LayoutModel",
            "justify_items": null,
            "grid_row": null,
            "max_height": null,
            "align_content": null,
            "visibility": null,
            "align_self": null,
            "height": null,
            "min_height": null,
            "padding": null,
            "grid_auto_rows": null,
            "grid_gap": null,
            "max_width": null,
            "order": null,
            "_view_module_version": "1.2.0",
            "grid_template_areas": null,
            "object_position": null,
            "object_fit": null,
            "grid_auto_columns": null,
            "margin": null,
            "display": null,
            "left": null
          }
        },
        "2b91670bca224b97aca0a0ccac737b89": {
          "model_module": "@jupyter-widgets/controls",
          "model_name": "DescriptionStyleModel",
          "model_module_version": "1.5.0",
          "state": {
            "_view_name": "StyleView",
            "_model_name": "DescriptionStyleModel",
            "description_width": "",
            "_view_module": "@jupyter-widgets/base",
            "_model_module_version": "1.5.0",
            "_view_count": null,
            "_view_module_version": "1.2.0",
            "_model_module": "@jupyter-widgets/controls"
          }
        },
        "9333542fe64d4c699402e8bf530e137a": {
          "model_module": "@jupyter-widgets/base",
          "model_name": "LayoutModel",
          "model_module_version": "1.2.0",
          "state": {
            "_view_name": "LayoutView",
            "grid_template_rows": null,
            "right": null,
            "justify_content": null,
            "_view_module": "@jupyter-widgets/base",
            "overflow": null,
            "_model_module_version": "1.2.0",
            "_view_count": null,
            "flex_flow": null,
            "width": null,
            "min_width": null,
            "border": null,
            "align_items": null,
            "bottom": null,
            "_model_module": "@jupyter-widgets/base",
            "top": null,
            "grid_column": null,
            "overflow_y": null,
            "overflow_x": null,
            "grid_auto_flow": null,
            "grid_area": null,
            "grid_template_columns": null,
            "flex": null,
            "_model_name": "LayoutModel",
            "justify_items": null,
            "grid_row": null,
            "max_height": null,
            "align_content": null,
            "visibility": null,
            "align_self": null,
            "height": null,
            "min_height": null,
            "padding": null,
            "grid_auto_rows": null,
            "grid_gap": null,
            "max_width": null,
            "order": null,
            "_view_module_version": "1.2.0",
            "grid_template_areas": null,
            "object_position": null,
            "object_fit": null,
            "grid_auto_columns": null,
            "margin": null,
            "display": null,
            "left": null
          }
        }
      }
    }
  },
  "cells": [
    {
      "cell_type": "markdown",
      "metadata": {
        "id": "view-in-github",
        "colab_type": "text"
      },
      "source": [
        "<a href=\"https://colab.research.google.com/github/minassy/210712_atmaCup-11/blob/main/210807_%E3%83%87%E3%83%BC%E3%82%BF%E6%BA%96%E5%82%99.ipynb\" target=\"_parent\"><img src=\"https://colab.research.google.com/assets/colab-badge.svg\" alt=\"Open In Colab\"/></a>"
      ]
    },
    {
      "cell_type": "markdown",
      "metadata": {
        "id": "uAEbI1nRPxu3"
      },
      "source": [
        "# フォルダ準備"
      ]
    },
    {
      "cell_type": "code",
      "metadata": {
        "id": "HK0j_VesNn69"
      },
      "source": [
        "#基本モジュールのインポート\n",
        "import os\n",
        "import sys\n",
        "import zipfile\n",
        "import glob\n",
        "import pandas as pd\n",
        "import numpy as np\n",
        "import matplotlib.pyplot as plt\n",
        "from tqdm.notebook import tqdm"
      ],
      "execution_count": 1,
      "outputs": []
    },
    {
      "cell_type": "code",
      "metadata": {
        "colab": {
          "base_uri": "https://localhost:8080/"
        },
        "id": "8zR105PHPl4c",
        "outputId": "cb0adc76-0930-456f-bec3-f8f01f462a0b"
      },
      "source": [
        "#作業基本ディレクトリ\n",
        "DIR = 'drive/MyDrive/K/E_trace/2020'\n",
        "os.listdir(DIR)\n",
        "#os.mkdir(DIR+'/data')"
      ],
      "execution_count": 2,
      "outputs": [
        {
          "output_type": "execute_result",
          "data": {
            "text/plain": [
              "['data', 'E_output', '210726_prepare.ipynb', '210807_run.ipynb']"
            ]
          },
          "metadata": {
            "tags": []
          },
          "execution_count": 2
        }
      ]
    },
    {
      "cell_type": "code",
      "metadata": {
        "colab": {
          "base_uri": "https://localhost:8080/"
        },
        "id": "GD1BVqDIPnlK",
        "outputId": "0859a973-038b-4228-8a21-4219e9e47cfd"
      },
      "source": [
        "#\"data\"フォルダのパス\n",
        "DIR_DATA = os.path.join(DIR, 'data')\n",
        "print('dataフォルダのパス：', DIR_DATA)"
      ],
      "execution_count": 3,
      "outputs": [
        {
          "output_type": "stream",
          "text": [
            "dataフォルダのパス： drive/MyDrive/K/E_trace/2020/data\n"
          ],
          "name": "stdout"
        }
      ]
    },
    {
      "cell_type": "code",
      "metadata": {
        "colab": {
          "base_uri": "https://localhost:8080/",
          "height": 35
        },
        "id": "o2e_7iiqPqYd",
        "outputId": "13abc40e-874d-41f6-b128-1c8c34b699da"
      },
      "source": [
        "#ソースデータのパス\n",
        "DIR_SOURTH = os.path.join(DIR_DATA, 'Source')\n",
        "DIR_SOURTH"
      ],
      "execution_count": 4,
      "outputs": [
        {
          "output_type": "execute_result",
          "data": {
            "application/vnd.google.colaboratory.intrinsic+json": {
              "type": "string"
            },
            "text/plain": [
              "'drive/MyDrive/K/E_trace/2020/data/Source'"
            ]
          },
          "metadata": {
            "tags": []
          },
          "execution_count": 4
        }
      ]
    },
    {
      "cell_type": "code",
      "metadata": {
        "colab": {
          "base_uri": "https://localhost:8080/"
        },
        "id": "MS8yB07uPua1",
        "outputId": "3b77b5ed-9eed-4823-a2c8-3499648c8ffd"
      },
      "source": [
        "os.listdir(DIR_SOURTH)"
      ],
      "execution_count": 5,
      "outputs": [
        {
          "output_type": "execute_result",
          "data": {
            "text/plain": [
              "['170927-170930',\n",
              " '171002-171014',\n",
              " '171016-171031',\n",
              " '171101-171115',\n",
              " '171116-171130',\n",
              " '171201-171212',\n",
              " '171214-171220',\n",
              " '180702-180731',\n",
              " '180808-180831',\n",
              " '180901-180929',\n",
              " '181001-181031',\n",
              " '181101-181130',\n",
              " '181201-181228',\n",
              " '190105-190131',\n",
              " '180117_180207',\n",
              " '.ipynb_checkpoints',\n",
              " '180329-180503',\n",
              " '180506-180531',\n",
              " '180601-180630']"
            ]
          },
          "metadata": {
            "tags": []
          },
          "execution_count": 5
        }
      ]
    },
    {
      "cell_type": "code",
      "metadata": {
        "colab": {
          "base_uri": "https://localhost:8080/"
        },
        "id": "ec5CIWawPwW4",
        "outputId": "5f124cbd-fccb-421c-d34f-c66b1d460d59"
      },
      "source": [
        "#スクリプトのパスを通す\n",
        "#インポートしたいモジュールファイルのパス探索\n",
        "#os.listdir(os.path.join(DIR, 'E_output', '20200630-molding-anomaly', 'code'))\n",
        "os.listdir(os.path.join(DIR, 'E_output', '20200630-molding-anomaly', 'scripts'))"
      ],
      "execution_count": 6,
      "outputs": [
        {
          "output_type": "execute_result",
          "data": {
            "text/plain": [
              "['__init__.py',\n",
              " 'preprocess_dataset.py',\n",
              " 'train_one_model.py',\n",
              " 'train_dec.py',\n",
              " 'train_ae.py',\n",
              " 'distributed',\n",
              " '__pycache__',\n",
              " 'preprocess_dataset_extended.py']"
            ]
          },
          "metadata": {
            "tags": []
          },
          "execution_count": 6
        }
      ]
    },
    {
      "cell_type": "code",
      "metadata": {
        "id": "6nzTCvzxQMpc"
      },
      "source": [
        "#パスを通す\n",
        "sys.path.append(os.path.join(DIR, 'E_output', '20200630-molding-anomaly', 'code'))\n",
        "sys.path.append(os.path.join(DIR, 'E_output', '20200630-molding-anomaly', 'scripts'))"
      ],
      "execution_count": 7,
      "outputs": []
    },
    {
      "cell_type": "markdown",
      "metadata": {
        "id": "UpaCDEn5Y9nt"
      },
      "source": [
        "データの読み込み  \n",
        "⇒1つ1つのフォルダに対し、連結csvを作成する作戦で進める。  \n",
        "【理由】  \n",
        "①Eのデータ読込み処理がパイプライン化を目的、およびLOG採取しているため複雑。  \n",
        "②3時間かければ読み込みできるが、colab上のメモリに載らないサイズなのでクラッシュしてランタイムエラーにより、止まってしまう。"
      ]
    },
    {
      "cell_type": "code",
      "metadata": {
        "colab": {
          "base_uri": "https://localhost:8080/"
        },
        "id": "O-ihpmuczFmK",
        "outputId": "1c331777-636d-478c-f62e-86a44a084d78"
      },
      "source": [
        "#データディレクトリのリスト。\n",
        "source_list = os.listdir(DIR_SOURTH)\n",
        "source_list"
      ],
      "execution_count": 8,
      "outputs": [
        {
          "output_type": "execute_result",
          "data": {
            "text/plain": [
              "['170927-170930',\n",
              " '171002-171014',\n",
              " '171016-171031',\n",
              " '171101-171115',\n",
              " '171116-171130',\n",
              " '171201-171212',\n",
              " '171214-171220',\n",
              " '180702-180731',\n",
              " '180808-180831',\n",
              " '180901-180929',\n",
              " '181001-181031',\n",
              " '181101-181130',\n",
              " '181201-181228',\n",
              " '190105-190131',\n",
              " '180117_180207',\n",
              " '.ipynb_checkpoints',\n",
              " '180329-180503',\n",
              " '180506-180531',\n",
              " '180601-180630']"
            ]
          },
          "metadata": {
            "tags": []
          },
          "execution_count": 8
        }
      ]
    },
    {
      "cell_type": "code",
      "metadata": {
        "colab": {
          "base_uri": "https://localhost:8080/"
        },
        "id": "iJ5NHp0H0nZ8",
        "outputId": "a4312e66-fe54-463a-9252-6b30d91c3de0"
      },
      "source": [
        "#csvファイルの確認例\n",
        "files = glob.glob(os.path.join(DIR_SOURTH, '170927-170930', '*.CSV'))\n",
        "len(files)"
      ],
      "execution_count": 9,
      "outputs": [
        {
          "output_type": "execute_result",
          "data": {
            "text/plain": [
              "3739"
            ]
          },
          "metadata": {
            "tags": []
          },
          "execution_count": 9
        }
      ]
    },
    {
      "cell_type": "code",
      "metadata": {
        "id": "HKPJs93w143V"
      },
      "source": [
        "#1フォルダ集約csvファイルの出力先を作成\n",
        "#os.mkdir(DIR_DATA + '/source_output')"
      ],
      "execution_count": 10,
      "outputs": []
    },
    {
      "cell_type": "code",
      "metadata": {
        "colab": {
          "base_uri": "https://localhost:8080/"
        },
        "id": "045Gcect2f3V",
        "outputId": "c277e3a5-5f82-45cc-c5bd-412a484db1f4"
      },
      "source": [
        "#os.listdir(DIR_DATA)\n",
        "source_list[16:]"
      ],
      "execution_count": 14,
      "outputs": [
        {
          "output_type": "execute_result",
          "data": {
            "text/plain": [
              "['180329-180503', '180506-180531', '180601-180630']"
            ]
          },
          "metadata": {
            "tags": []
          },
          "execution_count": 14
        }
      ]
    },
    {
      "cell_type": "code",
      "metadata": {
        "id": "OI8JnVMPaMPR",
        "colab": {
          "base_uri": "https://localhost:8080/",
          "height": 247,
          "referenced_widgets": [
            "8ec5d765fbd24adb8623c5bc71a3cb0f",
            "570e0e4c43724a248e38961f545d1120",
            "274e183cecee4d3280ae3f613f5bedef",
            "77833dcebbe142f5a9076bfdcfbeb22e",
            "7c90068f96c74aa48736791149b73fd1",
            "ffe33915f3fb446fa629157c5ad7ae9f",
            "7a572726ae1041fe873a0158ae8156b7",
            "41c41d2a9fa2451fa06118db54d2a18f",
            "820e9cf37dbf4bab812ef090fc11fd13",
            "2d7f540fb5c34fd0afbb6ed8570cd633",
            "51e33667fe744b918fd77cfd270f30f6",
            "73cd3fe58e3b4895b8797455dd939703",
            "84d02c6f2ca14eb981ce4ea128497e9b",
            "99014b2fd98643dbab6c9ba876794f92",
            "9b8a49fe3ff64bb2a4e0c6d7846f06f3",
            "5a75e7f244c74e4cac42fc5af6ac1585",
            "de5a4bc126b546ca8e4860d82885a668",
            "2824a271918b4761afd66c2e24872885",
            "4ac99e0837fc433e82ee1adfa20d56b1",
            "4ec6dddec04f4265a4d569775254ae99",
            "0c179547ae344b68874e92fafe4d1ff2",
            "572938bb13df4cd29f8a1268bd676d4b",
            "b5114c88c0f34668a2868b4a25a54805",
            "663bc011f93843889d741c09e7bc7317",
            "4d724cb1fca241cabf986e29b40f78a9",
            "e2c22d37312e4d7fb9785801c40cbfd8",
            "6231b9bea9574d29bdba3c6c157c047e",
            "f301589a0c2b407c8ad2f74d3bbfd194",
            "ca89e5660d334f28ac7add8c1d914231",
            "562917d7e196424885fcb0a0ce8d1acf",
            "e36212e88d814431b42ffd9f8a6be2fa",
            "816e9a2b5b0546379046e43e9ef5c8ae"
          ]
        },
        "outputId": "71efbd24-b587-4a08-d6da-5857c6d09800"
      },
      "source": [
        "%%time\n",
        "#複数フォルダから複数ファイルの読み込み\n",
        "#for folder in tqdm(source_list[16:]):\n",
        "#  tmp_list = []\n",
        "#  files = glob.glob(os.path.join(DIR_SOURTH, folder, '*.CSV'))\n",
        "#  for file in tqdm(files):\n",
        "#    tmp = pd.read_csv(file, header=3, encoding='shift-jis')\n",
        "#    tmp_list.append(tmp)\n",
        "#  df = pd.concat(tmp_list)\n",
        "#  df.to_csv(os.path.join(DIR_DATA, 'source_output', f'{folder}.csv'))\n",
        "#  #break"
      ],
      "execution_count": 15,
      "outputs": [
        {
          "output_type": "display_data",
          "data": {
            "application/vnd.jupyter.widget-view+json": {
              "model_id": "8ec5d765fbd24adb8623c5bc71a3cb0f",
              "version_minor": 0,
              "version_major": 2
            },
            "text/plain": [
              "HBox(children=(FloatProgress(value=0.0, max=3.0), HTML(value='')))"
            ]
          },
          "metadata": {
            "tags": []
          }
        },
        {
          "output_type": "display_data",
          "data": {
            "application/vnd.jupyter.widget-view+json": {
              "model_id": "820e9cf37dbf4bab812ef090fc11fd13",
              "version_minor": 0,
              "version_major": 2
            },
            "text/plain": [
              "HBox(children=(FloatProgress(value=0.0, max=987.0), HTML(value='')))"
            ]
          },
          "metadata": {
            "tags": []
          }
        },
        {
          "output_type": "stream",
          "text": [
            "\n"
          ],
          "name": "stdout"
        },
        {
          "output_type": "display_data",
          "data": {
            "application/vnd.jupyter.widget-view+json": {
              "model_id": "de5a4bc126b546ca8e4860d82885a668",
              "version_minor": 0,
              "version_major": 2
            },
            "text/plain": [
              "HBox(children=(FloatProgress(value=0.0, max=726.0), HTML(value='')))"
            ]
          },
          "metadata": {
            "tags": []
          }
        },
        {
          "output_type": "stream",
          "text": [
            "\n"
          ],
          "name": "stdout"
        },
        {
          "output_type": "display_data",
          "data": {
            "application/vnd.jupyter.widget-view+json": {
              "model_id": "4d724cb1fca241cabf986e29b40f78a9",
              "version_minor": 0,
              "version_major": 2
            },
            "text/plain": [
              "HBox(children=(FloatProgress(value=0.0, max=890.0), HTML(value='')))"
            ]
          },
          "metadata": {
            "tags": []
          }
        },
        {
          "output_type": "stream",
          "text": [
            "\n",
            "\n",
            "CPU times: user 3min 53s, sys: 15.3 s, total: 4min 9s\n",
            "Wall time: 19min 25s\n"
          ],
          "name": "stdout"
        }
      ]
    },
    {
      "cell_type": "code",
      "metadata": {
        "id": "uPJl1XZobOlZ",
        "colab": {
          "base_uri": "https://localhost:8080/"
        },
        "outputId": "b64c2254-b0bb-4379-8e78-e728ec00fbc7"
      },
      "source": [
        "os.listdir(DIR_DATA + '/source_output')"
      ],
      "execution_count": 11,
      "outputs": [
        {
          "output_type": "execute_result",
          "data": {
            "text/plain": [
              "['.ipynb_checkpoints',\n",
              " '170927-170930.csv',\n",
              " '171002-171014.csv',\n",
              " '171016-171031.csv',\n",
              " '171101-171115.csv',\n",
              " '171116-171130.csv',\n",
              " '171201-171212.csv',\n",
              " '171214-171220.csv',\n",
              " '180702-180731.csv',\n",
              " '180808-180831.csv',\n",
              " '180901-180929.csv',\n",
              " '181001-181031.csv',\n",
              " '181101-181130.csv',\n",
              " '181201-181228.csv',\n",
              " '190105-190131.csv',\n",
              " '180117_180207.csv',\n",
              " '180329-180503.csv',\n",
              " '180506-180531.csv',\n",
              " '180601-180630.csv']"
            ]
          },
          "metadata": {
            "tags": []
          },
          "execution_count": 11
        }
      ]
    },
    {
      "cell_type": "code",
      "metadata": {
        "id": "rsOoI0TelDXu"
      },
      "source": [
        "#df_sam = pd.read_csv(os.path.join(DIR_DATA + '/source_output', '190105-190131.csv'))"
      ],
      "execution_count": 13,
      "outputs": []
    },
    {
      "cell_type": "code",
      "metadata": {
        "id": "71DMrdT-jsSS"
      },
      "source": [
        "#df_sam.shape\n",
        "#df_sam.head()"
      ],
      "execution_count": 14,
      "outputs": []
    },
    {
      "cell_type": "code",
      "metadata": {
        "id": "pgrP7KCkj77w"
      },
      "source": [
        "#df_sam.columns"
      ],
      "execution_count": 15,
      "outputs": []
    },
    {
      "cell_type": "code",
      "metadata": {
        "id": "P76X1yLSkCO2"
      },
      "source": [
        "#plt.figure(figsize=(30,10))\n",
        "#plt.plot(df_sam['ｲﾝﾊﾟｸﾄ圧Kpa'].iloc[:1000])\n",
        "#plt.show();"
      ],
      "execution_count": 16,
      "outputs": []
    },
    {
      "cell_type": "code",
      "metadata": {
        "id": "GZ0iPS0ZkqwW"
      },
      "source": [
        "#カラム数のチェック\n",
        "#for i in os.listdir(DIR_DATA + '/source_output')[1:]:\n",
        "#  df_sam = pd.read_csv(os.path.join(DIR_DATA + '/source_output', f'{i}'))\n",
        "#  print('ファイル名：', i,'カラム数：', df_sam.shape[1])"
      ],
      "execution_count": 17,
      "outputs": []
    },
    {
      "cell_type": "markdown",
      "metadata": {
        "id": "Lub9sevvmwYq"
      },
      "source": [
        "・2017/9/27 ～ 2018/2/7 は、カラム数が13。  \n",
        "・2018/3/29 ～は、カラム数が14。  \n",
        "⇒カラム数の変更がみられる。確認"
      ]
    },
    {
      "cell_type": "code",
      "metadata": {
        "id": "rWfxEYcvlRb1"
      },
      "source": [
        "#df_sam_col_13 = pd.read_csv(os.path.join(DIR_DATA + '/source_output', '180117_180207.csv'))\n",
        "#df_sam_col_14 = pd.read_csv(os.path.join(DIR_DATA + '/source_output', '180329-180503.csv'))"
      ],
      "execution_count": 19,
      "outputs": []
    },
    {
      "cell_type": "code",
      "metadata": {
        "colab": {
          "base_uri": "https://localhost:8080/"
        },
        "id": "N0120lxmnd6J",
        "outputId": "b6805665-74a9-4d63-e83a-3f82b25c995a"
      },
      "source": [
        "#print(df_sam_col_13.columns)\n",
        "#print(df_sam_col_14.columns)"
      ],
      "execution_count": 21,
      "outputs": [
        {
          "output_type": "stream",
          "text": [
            "Index(['Unnamed: 0', 'TIME', 'INDEX', '機種番号', '1:上枠 2:下枠',\n",
            "       '圧力ｾﾝｻｰ不使用(1:砂2:ｲﾝﾊﾟｸﾄ)', '充填圧Kpa', 'ｲﾝﾊﾟｸﾄ圧到達設定Kpa', 'ｲﾝﾊﾟｸﾄ圧Kpa',\n",
            "       '砂圧到達設定Kpa', '砂圧Kpa', 'ﾃｰﾌﾞﾙ高圧設定Kpa', 'ﾃｰﾌﾞﾙ圧Kpa'],\n",
            "      dtype='object')\n",
            "Index(['Unnamed: 0', 'TIME', 'INDEX', '造型ﾛｯﾄ番号', 'ﾛｷﾞﾝｸﾞﾃﾞｰﾀｰ造型ｶｳﾝﾄ',\n",
            "       '1:上枠 2:下枠', '圧力ｾﾝｻｰ不使用(1:砂2:ｲﾝﾊﾟｸﾄ)', '充填圧Kpa', 'ｲﾝﾊﾟｸﾄ圧到達設定Kpa',\n",
            "       'ｲﾝﾊﾟｸﾄ圧Kpa', '砂圧到達設定Kpa', '砂圧Kpa', 'ﾃｰﾌﾞﾙ高圧設定Kpa', 'ﾃｰﾌﾞﾙ圧Kpa'],\n",
            "      dtype='object')\n"
          ],
          "name": "stdout"
        }
      ]
    },
    {
      "cell_type": "code",
      "metadata": {
        "colab": {
          "base_uri": "https://localhost:8080/",
          "height": 306
        },
        "id": "4v43lCRZsYt1",
        "outputId": "69628791-7991-4b68-8736-ac9e393e6ad0"
      },
      "source": [
        "#df_sam_col_13.head()"
      ],
      "execution_count": 30,
      "outputs": [
        {
          "output_type": "execute_result",
          "data": {
            "text/html": [
              "<div>\n",
              "<style scoped>\n",
              "    .dataframe tbody tr th:only-of-type {\n",
              "        vertical-align: middle;\n",
              "    }\n",
              "\n",
              "    .dataframe tbody tr th {\n",
              "        vertical-align: top;\n",
              "    }\n",
              "\n",
              "    .dataframe thead th {\n",
              "        text-align: right;\n",
              "    }\n",
              "</style>\n",
              "<table border=\"1\" class=\"dataframe\">\n",
              "  <thead>\n",
              "    <tr style=\"text-align: right;\">\n",
              "      <th></th>\n",
              "      <th>Unnamed: 0</th>\n",
              "      <th>TIME</th>\n",
              "      <th>INDEX</th>\n",
              "      <th>機種番号</th>\n",
              "      <th>1:上枠 2:下枠</th>\n",
              "      <th>圧力ｾﾝｻｰ不使用(1:砂2:ｲﾝﾊﾟｸﾄ)</th>\n",
              "      <th>充填圧Kpa</th>\n",
              "      <th>ｲﾝﾊﾟｸﾄ圧到達設定Kpa</th>\n",
              "      <th>ｲﾝﾊﾟｸﾄ圧Kpa</th>\n",
              "      <th>砂圧到達設定Kpa</th>\n",
              "      <th>砂圧Kpa</th>\n",
              "      <th>ﾃｰﾌﾞﾙ高圧設定Kpa</th>\n",
              "      <th>ﾃｰﾌﾞﾙ圧Kpa</th>\n",
              "    </tr>\n",
              "  </thead>\n",
              "  <tbody>\n",
              "    <tr>\n",
              "      <th>0</th>\n",
              "      <td>0</td>\n",
              "      <td>2018/01/26 14:48:30.732</td>\n",
              "      <td>1</td>\n",
              "      <td>0</td>\n",
              "      <td>1</td>\n",
              "      <td>0</td>\n",
              "      <td>554</td>\n",
              "      <td>200</td>\n",
              "      <td>20</td>\n",
              "      <td>50</td>\n",
              "      <td>3</td>\n",
              "      <td>26000</td>\n",
              "      <td>26070</td>\n",
              "    </tr>\n",
              "    <tr>\n",
              "      <th>1</th>\n",
              "      <td>1</td>\n",
              "      <td>2018/01/26 14:48:30.742</td>\n",
              "      <td>2</td>\n",
              "      <td>0</td>\n",
              "      <td>1</td>\n",
              "      <td>0</td>\n",
              "      <td>554</td>\n",
              "      <td>200</td>\n",
              "      <td>19</td>\n",
              "      <td>50</td>\n",
              "      <td>3</td>\n",
              "      <td>26000</td>\n",
              "      <td>26210</td>\n",
              "    </tr>\n",
              "    <tr>\n",
              "      <th>2</th>\n",
              "      <td>2</td>\n",
              "      <td>2018/01/26 14:48:30.752</td>\n",
              "      <td>3</td>\n",
              "      <td>0</td>\n",
              "      <td>1</td>\n",
              "      <td>0</td>\n",
              "      <td>554</td>\n",
              "      <td>200</td>\n",
              "      <td>20</td>\n",
              "      <td>50</td>\n",
              "      <td>3</td>\n",
              "      <td>26000</td>\n",
              "      <td>26360</td>\n",
              "    </tr>\n",
              "    <tr>\n",
              "      <th>3</th>\n",
              "      <td>3</td>\n",
              "      <td>2018/01/26 14:48:30.762</td>\n",
              "      <td>4</td>\n",
              "      <td>0</td>\n",
              "      <td>1</td>\n",
              "      <td>0</td>\n",
              "      <td>554</td>\n",
              "      <td>200</td>\n",
              "      <td>19</td>\n",
              "      <td>50</td>\n",
              "      <td>3</td>\n",
              "      <td>26000</td>\n",
              "      <td>26580</td>\n",
              "    </tr>\n",
              "    <tr>\n",
              "      <th>4</th>\n",
              "      <td>4</td>\n",
              "      <td>2018/01/26 14:48:30.771</td>\n",
              "      <td>5</td>\n",
              "      <td>0</td>\n",
              "      <td>1</td>\n",
              "      <td>0</td>\n",
              "      <td>554</td>\n",
              "      <td>200</td>\n",
              "      <td>19</td>\n",
              "      <td>50</td>\n",
              "      <td>3</td>\n",
              "      <td>26000</td>\n",
              "      <td>26770</td>\n",
              "    </tr>\n",
              "  </tbody>\n",
              "</table>\n",
              "</div>"
            ],
            "text/plain": [
              "   Unnamed: 0                     TIME  INDEX  ...  砂圧Kpa  ﾃｰﾌﾞﾙ高圧設定Kpa  ﾃｰﾌﾞﾙ圧Kpa\n",
              "0           0  2018/01/26 14:48:30.732      1  ...      3         26000      26070\n",
              "1           1  2018/01/26 14:48:30.742      2  ...      3         26000      26210\n",
              "2           2  2018/01/26 14:48:30.752      3  ...      3         26000      26360\n",
              "3           3  2018/01/26 14:48:30.762      4  ...      3         26000      26580\n",
              "4           4  2018/01/26 14:48:30.771      5  ...      3         26000      26770\n",
              "\n",
              "[5 rows x 13 columns]"
            ]
          },
          "metadata": {
            "tags": []
          },
          "execution_count": 30
        }
      ]
    },
    {
      "cell_type": "markdown",
      "metadata": {
        "id": "fc8PcXEnn4xK"
      },
      "source": [
        "・ドラスティックにカラムの変更がみられる。  \n",
        "⇒おそらく、IoTプロジェクトにおける情報の紐づけ対応による。  \n",
        "⇒\"インパクト圧\"にのみ絞ってデータ処理を進める。"
      ]
    },
    {
      "cell_type": "code",
      "metadata": {
        "colab": {
          "base_uri": "https://localhost:8080/"
        },
        "id": "Kr1yfoC4ntG0",
        "outputId": "36c0430f-9e72-42b4-e34f-1976793c328d"
      },
      "source": [
        "print('カラム数13')\n",
        "print(df_sam_col_13.columns[1])\n",
        "print(df_sam_col_13.columns[4])\n",
        "print(df_sam_col_13.columns[8])\n",
        "print('---')\n",
        "print('カラム数14')\n",
        "print(df_sam_col_14.columns[1])\n",
        "print(df_sam_col_14.columns[5])\n",
        "print(df_sam_col_14.columns[9])"
      ],
      "execution_count": 27,
      "outputs": [
        {
          "output_type": "stream",
          "text": [
            "カラム数13\n",
            "TIME\n",
            "1:上枠 2:下枠\n",
            "ｲﾝﾊﾟｸﾄ圧Kpa\n",
            "---\n",
            "カラム数14\n",
            "TIME\n",
            "1:上枠 2:下枠\n",
            "ｲﾝﾊﾟｸﾄ圧Kpa\n"
          ],
          "name": "stdout"
        }
      ]
    },
    {
      "cell_type": "markdown",
      "metadata": {
        "id": "6PsLEdKDqRVM"
      },
      "source": [
        "時間、上枠・下枠フラグ、インパクト圧だけ抜き出して、扱いやすいcsv群を作る。"
      ]
    },
    {
      "cell_type": "code",
      "metadata": {
        "id": "AMUAwji8ogpA"
      },
      "source": [
        "#インパクト圧力のみのcsvファイルの出力先を作成\n",
        "#os.mkdir(DIR_DATA + '/csvfile_impact')"
      ],
      "execution_count": 28,
      "outputs": []
    },
    {
      "cell_type": "code",
      "metadata": {
        "colab": {
          "base_uri": "https://localhost:8080/"
        },
        "id": "JuoBlNMZr3fw",
        "outputId": "8472d8e3-de24-4350-f6be-7c061092fbd3"
      },
      "source": [
        "os.listdir(DIR_DATA + '/source_output')"
      ],
      "execution_count": 18,
      "outputs": [
        {
          "output_type": "execute_result",
          "data": {
            "text/plain": [
              "['.ipynb_checkpoints',\n",
              " '170927-170930.csv',\n",
              " '171002-171014.csv',\n",
              " '171016-171031.csv',\n",
              " '171101-171115.csv',\n",
              " '171116-171130.csv',\n",
              " '171201-171212.csv',\n",
              " '171214-171220.csv',\n",
              " '180702-180731.csv',\n",
              " '180808-180831.csv',\n",
              " '180901-180929.csv',\n",
              " '181001-181031.csv',\n",
              " '181101-181130.csv',\n",
              " '181201-181228.csv',\n",
              " '190105-190131.csv',\n",
              " '180117_180207.csv',\n",
              " '180329-180503.csv',\n",
              " '180506-180531.csv',\n",
              " '180601-180630.csv']"
            ]
          },
          "metadata": {
            "tags": []
          },
          "execution_count": 18
        }
      ]
    },
    {
      "cell_type": "code",
      "metadata": {
        "colab": {
          "base_uri": "https://localhost:8080/",
          "height": 100,
          "referenced_widgets": [
            "b36ba598820548a59789b1169f7bb9b8",
            "a3a755fad0df4840a77029eec2e5aa3f",
            "8345026ed43f452b9972c801565b75f3",
            "848aceeb8aee43f28fee89bccedf7614",
            "646e8cef73d64dbab8ecd81663800c57",
            "ecef96dbe9db43a5a8d9c3d407ee3461",
            "2b91670bca224b97aca0a0ccac737b89",
            "9333542fe64d4c699402e8bf530e137a"
          ]
        },
        "id": "sSKIATekrOiD",
        "outputId": "0e3be9a0-0202-41ee-ac4c-3daecfb14437"
      },
      "source": [
        "%%time\n",
        "#複数ファイルを読み込み、インパクト圧のみ抽出したファイルを出力\n",
        "for file in tqdm(os.listdir(DIR_DATA + '/source_output')[1:]):\n",
        "  tmp = pd.read_csv(os.path.join(DIR_DATA + '/source_output', f'{file}'))\n",
        "  tmp_df = tmp[['TIME', '1:上枠 2:下枠', 'ｲﾝﾊﾟｸﾄ圧Kpa']]\n",
        "  tmp_df.to_csv(os.path.join(DIR_DATA, 'csvfile_impact', f'{file}'), index=None)\n",
        "  #break"
      ],
      "execution_count": 20,
      "outputs": [
        {
          "output_type": "display_data",
          "data": {
            "application/vnd.jupyter.widget-view+json": {
              "model_id": "b36ba598820548a59789b1169f7bb9b8",
              "version_minor": 0,
              "version_major": 2
            },
            "text/plain": [
              "HBox(children=(FloatProgress(value=0.0, max=18.0), HTML(value='')))"
            ]
          },
          "metadata": {
            "tags": []
          }
        },
        {
          "output_type": "stream",
          "text": [
            "\n",
            "CPU times: user 7min 30s, sys: 46.4 s, total: 8min 16s\n",
            "Wall time: 10min 31s\n"
          ],
          "name": "stdout"
        }
      ]
    },
    {
      "cell_type": "code",
      "metadata": {
        "colab": {
          "base_uri": "https://localhost:8080/"
        },
        "id": "svSoAzg-tEC3",
        "outputId": "13464e56-4381-4430-e0ae-6a193da9aa4c"
      },
      "source": [
        "os.listdir(DIR_DATA + '/csvfile_impact')"
      ],
      "execution_count": 21,
      "outputs": [
        {
          "output_type": "execute_result",
          "data": {
            "text/plain": [
              "['170927-170930.csv',\n",
              " '171002-171014.csv',\n",
              " '171016-171031.csv',\n",
              " '171101-171115.csv',\n",
              " '171116-171130.csv',\n",
              " '171201-171212.csv',\n",
              " '171214-171220.csv',\n",
              " '180702-180731.csv',\n",
              " '180808-180831.csv',\n",
              " '180901-180929.csv',\n",
              " '181001-181031.csv',\n",
              " '181101-181130.csv',\n",
              " '181201-181228.csv',\n",
              " '190105-190131.csv',\n",
              " '180117_180207.csv',\n",
              " '180329-180503.csv',\n",
              " '180506-180531.csv',\n",
              " '180601-180630.csv']"
            ]
          },
          "metadata": {
            "tags": []
          },
          "execution_count": 21
        }
      ]
    },
    {
      "cell_type": "code",
      "metadata": {
        "id": "oAOXw7M7tLHv"
      },
      "source": [
        "df = pd.read_csv(os.path.join(DIR_DATA + '/csvfile_impact','170927-170930.csv'))"
      ],
      "execution_count": 43,
      "outputs": []
    },
    {
      "cell_type": "code",
      "metadata": {
        "colab": {
          "base_uri": "https://localhost:8080/",
          "height": 204
        },
        "id": "QZ7V5PdWuO8R",
        "outputId": "38964596-3add-497d-83cb-99286095e89d"
      },
      "source": [
        "df.head()"
      ],
      "execution_count": 44,
      "outputs": [
        {
          "output_type": "execute_result",
          "data": {
            "text/html": [
              "<div>\n",
              "<style scoped>\n",
              "    .dataframe tbody tr th:only-of-type {\n",
              "        vertical-align: middle;\n",
              "    }\n",
              "\n",
              "    .dataframe tbody tr th {\n",
              "        vertical-align: top;\n",
              "    }\n",
              "\n",
              "    .dataframe thead th {\n",
              "        text-align: right;\n",
              "    }\n",
              "</style>\n",
              "<table border=\"1\" class=\"dataframe\">\n",
              "  <thead>\n",
              "    <tr style=\"text-align: right;\">\n",
              "      <th></th>\n",
              "      <th>TIME</th>\n",
              "      <th>1:上枠 2:下枠</th>\n",
              "      <th>ｲﾝﾊﾟｸﾄ圧Kpa</th>\n",
              "    </tr>\n",
              "  </thead>\n",
              "  <tbody>\n",
              "    <tr>\n",
              "      <th>0</th>\n",
              "      <td>2017/09/29 11:14:25.364</td>\n",
              "      <td>1</td>\n",
              "      <td>-5</td>\n",
              "    </tr>\n",
              "    <tr>\n",
              "      <th>1</th>\n",
              "      <td>2017/09/29 11:14:25.374</td>\n",
              "      <td>1</td>\n",
              "      <td>-5</td>\n",
              "    </tr>\n",
              "    <tr>\n",
              "      <th>2</th>\n",
              "      <td>2017/09/29 11:14:25.384</td>\n",
              "      <td>1</td>\n",
              "      <td>-5</td>\n",
              "    </tr>\n",
              "    <tr>\n",
              "      <th>3</th>\n",
              "      <td>2017/09/29 11:14:25.394</td>\n",
              "      <td>1</td>\n",
              "      <td>-5</td>\n",
              "    </tr>\n",
              "    <tr>\n",
              "      <th>4</th>\n",
              "      <td>2017/09/29 11:14:25.404</td>\n",
              "      <td>1</td>\n",
              "      <td>-5</td>\n",
              "    </tr>\n",
              "  </tbody>\n",
              "</table>\n",
              "</div>"
            ],
            "text/plain": [
              "                      TIME  1:上枠 2:下枠  ｲﾝﾊﾟｸﾄ圧Kpa\n",
              "0  2017/09/29 11:14:25.364          1          -5\n",
              "1  2017/09/29 11:14:25.374          1          -5\n",
              "2  2017/09/29 11:14:25.384          1          -5\n",
              "3  2017/09/29 11:14:25.394          1          -5\n",
              "4  2017/09/29 11:14:25.404          1          -5"
            ]
          },
          "metadata": {
            "tags": []
          },
          "execution_count": 44
        }
      ]
    },
    {
      "cell_type": "code",
      "metadata": {
        "colab": {
          "base_uri": "https://localhost:8080/"
        },
        "id": "PU6lHxABuQnf",
        "outputId": "199b30f9-5f46-4dbb-c60f-36ab3e9c84ff"
      },
      "source": [
        "size_list_0 = []\n",
        "for file in os.listdir(DIR_DATA + '/csvfile_impact'):\n",
        "  size = os.path.getsize(os.path.join(DIR_DATA + '/csvfile_impact',file))/1000000\n",
        "  size_list_0.append(size)\n",
        "  print(file, 'FileSize：', os.path.getsize(os.path.join(DIR_DATA + '/csvfile_impact',file))/1000000,'MB')\n",
        "print('総ファイルサイズ：', np.sum(size_list_0)/1000, 'GB')"
      ],
      "execution_count": 34,
      "outputs": [
        {
          "output_type": "stream",
          "text": [
            "170927-170930.csv FileSize： 53.530934 MB\n",
            "171002-171014.csv FileSize： 136.965986 MB\n",
            "171016-171031.csv FileSize： 169.282678 MB\n",
            "171101-171115.csv FileSize： 148.191692 MB\n",
            "171116-171130.csv FileSize： 172.50215 MB\n",
            "171201-171212.csv FileSize： 113.171527 MB\n",
            "171214-171220.csv FileSize： 43.474198 MB\n",
            "180702-180731.csv FileSize： 352.589709 MB\n",
            "180808-180831.csv FileSize： 281.825362 MB\n",
            "180901-180929.csv FileSize： 218.803081 MB\n",
            "181001-181031.csv FileSize： 368.204437 MB\n",
            "181101-181130.csv FileSize： 355.208446 MB\n",
            "181201-181228.csv FileSize： 342.635023 MB\n",
            "190105-190131.csv FileSize： 346.404198 MB\n",
            "180117_180207.csv FileSize： 237.510285 MB\n",
            "180329-180503.csv FileSize： 422.879531 MB\n",
            "180506-180531.csv FileSize： 290.098457 MB\n",
            "180601-180630.csv FileSize： 364.856915 MB\n",
            "総ファイルサイズ： 4.418134609 GB\n"
          ],
          "name": "stdout"
        }
      ]
    },
    {
      "cell_type": "code",
      "metadata": {
        "colab": {
          "base_uri": "https://localhost:8080/"
        },
        "id": "y8zco_Br20cr",
        "outputId": "64668770-5600-4999-c470-91663a3b331e"
      },
      "source": [
        "size_list = []\n",
        "for file in (os.listdir(DIR_DATA + '/source_output')[1:]):\n",
        "  size = os.path.getsize(os.path.join(DIR_DATA + '/source_output',file))/1000000\n",
        "  size_list.append(size)\n",
        "  print(file, 'FileSize：', os.path.getsize(os.path.join(DIR_DATA + '/source_output',file))/1000000,'MB')\n",
        "print('総ファイルサイズ：', np.sum(size_list)/1000, 'GB')"
      ],
      "execution_count": 32,
      "outputs": [
        {
          "output_type": "stream",
          "text": [
            "170927-170930.csv FileSize： 122.985347 MB\n",
            "171002-171014.csv FileSize： 315.626781 MB\n",
            "171016-171031.csv FileSize： 390.276831 MB\n",
            "171101-171115.csv FileSize： 339.623875 MB\n",
            "171116-171130.csv FileSize： 395.281398 MB\n",
            "171201-171212.csv FileSize： 259.620276 MB\n",
            "171214-171220.csv FileSize： 100.152612 MB\n",
            "180702-180731.csv FileSize： 888.259626 MB\n",
            "180808-180831.csv FileSize： 709.39357 MB\n",
            "180901-180929.csv FileSize： 549.242057 MB\n",
            "181001-181031.csv FileSize： 922.79188 MB\n",
            "181101-181130.csv FileSize： 887.920247 MB\n",
            "181201-181228.csv FileSize： 856.286864 MB\n",
            "190105-190131.csv FileSize： 870.250358 MB\n",
            "180117_180207.csv FileSize： 558.443014 MB\n",
            "180329-180503.csv FileSize： 1066.150796 MB\n",
            "180506-180531.csv FileSize： 731.775707 MB\n",
            "180601-180630.csv FileSize： 918.602214 MB\n",
            "総ファイルサイズ： 10.882683453 GB\n"
          ],
          "name": "stdout"
        }
      ]
    },
    {
      "cell_type": "code",
      "metadata": {
        "id": "bAnHpcXi3-qi"
      },
      "source": [
        ""
      ],
      "execution_count": null,
      "outputs": []
    }
  ]
}